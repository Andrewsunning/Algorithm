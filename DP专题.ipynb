{
 "cells": [
  {
   "cell_type": "markdown",
   "metadata": {},
   "source": [
    "# 31.下一个排列"
   ]
  },
  {
   "cell_type": "code",
   "execution_count": 12,
   "metadata": {},
   "outputs": [],
   "source": [
    "import pysnooper"
   ]
  },
  {
   "cell_type": "code",
   "execution_count": 18,
   "metadata": {},
   "outputs": [
    {
     "name": "stdout",
     "output_type": "stream",
     "text": [
      "None\n",
      "[1, 1, 5]\n"
     ]
    },
    {
     "name": "stderr",
     "output_type": "stream",
     "text": [
      "Source path:... <ipython-input-18-ffefd38c05fd>\n",
      "Starting var:.. self = <__main__.Solution object at 0x107481da0>\n",
      "Starting var:.. nums = [5, 1, 1]\n",
      "10:04:09.101380 call         3     def nextPermutation(self, nums) -> None:\n",
      "10:04:09.101806 line         7         if not nums or len(nums)<2:\n",
      "10:04:09.101886 line         9         length = len(nums)\n",
      "New var:....... length = 3\n",
      "10:04:09.101942 line        10         i = length - 1\n",
      "New var:....... i = 2\n",
      "10:04:09.102033 line        11         while i>0 and nums[i]<=nums[i-1]:\n",
      "10:04:09.102178 line        12             i -= 1\n",
      "Modified var:.. i = 1\n",
      "10:04:09.102254 line        11         while i>0 and nums[i]<=nums[i-1]:\n",
      "10:04:09.102323 line        12             i -= 1\n",
      "Modified var:.. i = 0\n",
      "10:04:09.102376 line        11         while i>0 and nums[i]<=nums[i-1]:\n",
      "10:04:09.102441 line        13         if i>=1:\n",
      "10:04:09.102491 line        18         self.reverse(nums,i)\n",
      "Modified var:.. nums = [1, 1, 5]\n",
      "10:04:09.102549 return      18         self.reverse(nums,i)\n",
      "Return value:.. None\n"
     ]
    }
   ],
   "source": [
    "\"\"\"\n",
    "基本思想：下一个排列与当前排列的数学规律\n",
    "1. 在[0,length-1]范围内，找到nums[i]>nums[i-1]的位置索引i，此时[i,length-1]为一个降序序列\n",
    "2. 在[i,length-1]范围内找到nums[j]>nums[i-1]的索引j\n",
    "3. 交换i-1和j,此时，[i,length-1]的序列仍为降序序列\n",
    "4. 颠倒[i,legth-1]之间元素的顺序，转变为升序序列\n",
    "\"\"\"\n",
    "class Solution:\n",
    "    @pysnooper.snoop()\n",
    "    def nextPermutation(self, nums) -> None:\n",
    "        \"\"\"\n",
    "        Do not return anything, modify nums in-place instead.\n",
    "        \"\"\"\n",
    "        if not nums or len(nums)<2:\n",
    "            return nums\n",
    "        length = len(nums)\n",
    "        i = length - 1\n",
    "        while i>0 and nums[i]<=nums[i-1]:    # 出错：这里的判断条件，i要大于0，同时，nums[i]<=nums[i-1]，e.g.[5,1,1]\n",
    "            i -= 1\n",
    "        if i>=1:\n",
    "            j = length - 1\n",
    "            while j> 0 and nums[j] <= nums[i-1]:    # 出错：这里的判断条件，j要大于0，同时，nums[j]<=nums[i-1]，e.g.[1,1,1]\n",
    "                j -= 1\n",
    "            self.swap(nums,i-1, j)\n",
    "        self.reverse(nums,i)\n",
    "\n",
    "    def swap(self, nums, i ,j):\n",
    "        nums[i], nums[j] = nums[j], nums[i]\n",
    "\n",
    "    def reverse(self, nums, i):\n",
    "        j = len(nums) - 1\n",
    "        while i<=j:\n",
    "            nums[i], nums[j] = nums[j], nums[i]\n",
    "            i += 1\n",
    "            j -= 1\n",
    "if __name__==\"__main__\":\n",
    "    nums = [5,1,1]\n",
    "    s = Solution()\n",
    "    print(s.nextPermutation(nums))\n",
    "    print(nums)"
   ]
  },
  {
   "cell_type": "markdown",
   "metadata": {},
   "source": [
    "# 0-1背包"
   ]
  },
  {
   "cell_type": "markdown",
   "metadata": {},
   "source": [
    "## 1.朴素解法"
   ]
  },
  {
   "cell_type": "code",
   "execution_count": 76,
   "metadata": {},
   "outputs": [
    {
     "name": "stdout",
     "output_type": "stream",
     "text": [
      "10 100\n",
      "5 8\n",
      "32 47\n",
      "17 43\n",
      "7 9\n",
      "6 4\n",
      "29 40\n",
      "2 6\n",
      "14 31\n",
      "6 17\n",
      "1 3\n",
      "184\n"
     ]
    }
   ],
   "source": [
    "\"\"\"\n",
    "朴素解法的基本思想：\n",
    "1. 状态表示：\n",
    "    1.1 集合f[i,j]：满足只从前i个物品中选，且总体积小于等于j的\n",
    "    1.2 属性：max，min，计数 et al.\n",
    "2. 状态计算（状态转移方程）：\n",
    "    f[i][j] = max{f[i-1][j], f[i-1][j-v[i-1]]+w[i-1]}\n",
    "\n",
    "输入：\n",
    "10 100\n",
    "5 8\n",
    "32 47\n",
    "17 43\n",
    "7 9\n",
    "6 4\n",
    "29 40\n",
    "2 6\n",
    "14 31\n",
    "6 17\n",
    "1 3\n",
    "\n",
    "\"\"\"\n",
    "\n",
    "# 输入\n",
    "N, V = map(int, input().split())    # N表示物品数量，V表示总体积\n",
    "v_arr = [0]    # v_arr表示每个物品的体积\n",
    "w_arr = [0]    # w_arr表示每个物品的价值\n",
    "\n",
    "for i in range(N):\n",
    "    in_li = list(map(int, input().split()))\n",
    "    v_arr.append(in_li[0])\n",
    "    w_arr.append(in_li[1])\n",
    "\n",
    "def bagNaive_0_1(N, V, v_arr, w_arr):\n",
    "    # 初始化，先全部赋值为0，这样至少体积为0或者不选任何物品的时候是满足要求  \n",
    "    dp = [[0 for i in range(V+1)] for j in range(N+1)]\n",
    "    # @pysnooper.snoop()\n",
    "    for i in range(1,N+1):\n",
    "        for j in range(1,V+1):\n",
    "    #         print(i,j)\n",
    "            dp[i][j] = dp[i-1][j]\n",
    "            if j>=v_arr[i]:    # j>=第i个物品的体积，即j能够容纳第i个物品的体积时\n",
    "                dp[i][j] = max(dp[i][j], dp[i-1][j-v_arr[]]+w_arr[i])    # 出错：这里是dp[i-1][j-v_arr[i-1]]，而不是dp[i][j-v_arr[i-1]]\n",
    "    print(dp[N][V])\n",
    "    \n",
    "bagNaive_0_1(N, V, v_arr, w_arr)"
   ]
  },
  {
   "cell_type": "markdown",
   "metadata": {},
   "source": [
    "## 2. 空间优化解法"
   ]
  },
  {
   "cell_type": "code",
   "execution_count": 78,
   "metadata": {},
   "outputs": [
    {
     "name": "stdout",
     "output_type": "stream",
     "text": [
      "184\n"
     ]
    }
   ],
   "source": [
    "def bag_0_1(N,V,v_arr,w_arr):\n",
    "    # 初始化，先全部赋值为0，这样至少体积为0或者不选任何物品的时候是满足要求  \n",
    "    dp = [0 for i in range(V+1)]\n",
    "    # @pysnooper.snoop()\n",
    "    for i in range(1,N+1):\n",
    "        for j in range(V,v_arr[i-1]-1, -1):\n",
    "    #         print(i,j)\n",
    "            dp[j] = max(dp[j], dp[j-v_arr[i-1]]+w_arr[i-1])    # 出错：这里应该是dp[i-1][j-v_arr[i-1]]，而不是dp[i][j-v_arr[i-1]]，所以内层循环要倒序遍历\n",
    "    print(dp[-1])\n",
    "bag_0_1(N,V,v_arr,w_arr)"
   ]
  },
  {
   "cell_type": "markdown",
   "metadata": {},
   "source": [
    "# 完全背包问题\n",
    "## 朴素解法"
   ]
  },
  {
   "cell_type": "code",
   "execution_count": 52,
   "metadata": {},
   "outputs": [
    {
     "name": "stdout",
     "output_type": "stream",
     "text": [
      "10\n"
     ]
    }
   ],
   "source": [
    "\"\"\"\n",
    "朴素解法的基本思想：\n",
    "1. 状态表示：\n",
    "    1.1 集合f[i,j]：满足只从前i个物品中选，且总体积小于等于j的所有选法\n",
    "    1.2 属性：max\n",
    "2. 状态计算（状态转移方程，!!!根据第i个物品选择的个数进行划分）：\n",
    "    f[i][j] = max{f[i-1][j], f[i-1][j-k*v[i-1]]+w[i-1]}, k*v[i-1]<=j,k>=0\n",
    "\n",
    "\n",
    "输入样例\n",
    "4 5\n",
    "1 2\n",
    "2 4\n",
    "3 4\n",
    "4 5\n",
    "输出样例：\n",
    "10\n",
    "\"\"\"\n",
    "# 输入样例\n",
    "N, V = map(int,input().split())\n",
    "\n",
    "v_arr = [0]\n",
    "w_arr = [0]\n",
    "\n",
    "for i in range(N):\n",
    "    in_li = list(map(int, input().split()))\n",
    "    v_arr.append(in_li[0])\n",
    "    w_arr.append(in_li[1])\n",
    "\n",
    "    \n",
    "def bag_all(N,V,v_arr,w_arr):\n",
    "    # 初始化dp数组\n",
    "    dp = [[0 for i in range(V+1)] for j in range(N+1)]\n",
    "\n",
    "    for i in range(1, N+1):\n",
    "        for j in range(1, V+1):\n",
    "            k = 0    # k=0必须放在内层循环，因为对于不同体积j，选择物品i的个数是不一样的\n",
    "            while k*v_arr[i]<=j:\n",
    "                dp[i][j] = max(dp[i][j], dp[i-1][j-k*v_arr[i]] + k*w_arr[i])    # 状态转移方程\n",
    "                k+=1\n",
    "    print(dp[N][V])\n",
    "bag_all(N, V,v_arr,w_arr)"
   ]
  },
  {
   "cell_type": "markdown",
   "metadata": {},
   "source": [
    "## 时间优化解法"
   ]
  },
  {
   "cell_type": "code",
   "execution_count": 53,
   "metadata": {},
   "outputs": [
    {
     "name": "stdout",
     "output_type": "stream",
     "text": [
      "10\n"
     ]
    }
   ],
   "source": [
    "\"\"\"\n",
    "优化解法的基本思想：\n",
    "1. 状态表示：\n",
    "    1.1 集合f[i,j]：满足只从前i个物品中选，且总体积小于等于j的所有选法\n",
    "    1.2 属性：max\n",
    "2. 状态计算（状态转移方程）的优化：\n",
    "    f[i][j] = max{f[i-1][j], f[i][j-v[i]]+w[i]}\n",
    "\n",
    "输入样例\n",
    "4 5\n",
    "1 2\n",
    "2 4\n",
    "3 4\n",
    "4 5\n",
    "输出样例：\n",
    "10\n",
    "\"\"\"\n",
    "\n",
    "def bag_all_2(N,V, v_arr, w_arr):\n",
    "    # 初始化dp数组\n",
    "    dp = [[0 for i in range(V+1)] for j in range(N+1)]\n",
    "    \n",
    "    for i in range(1,N+1):\n",
    "        for j in range(1,V+1):    \n",
    "            dp[i][j] = dp[i-1][j]\n",
    "            if j >= v_arr[i]:\n",
    "                dp[i][j] = max(dp[i][j], dp[i][j-v_arr[i]]+w_arr[i])\n",
    "    print(dp[N][V])\n",
    "    \n",
    "bag_all_2(N,V,v_arr, w_arr)"
   ]
  },
  {
   "cell_type": "markdown",
   "metadata": {},
   "source": [
    "## 空间优化"
   ]
  },
  {
   "cell_type": "code",
   "execution_count": 55,
   "metadata": {},
   "outputs": [
    {
     "name": "stdout",
     "output_type": "stream",
     "text": [
      "10\n"
     ]
    }
   ],
   "source": [
    "def bag_all_3(N,V, v_arr, w_arr):\n",
    "    # 初始化dp数组\n",
    "    dp = [0 for i in range(V+1)]\n",
    "    \n",
    "    for i in range(1,N+1):\n",
    "        for j in range(v_arr[i],V+1):    # 与0-1背包的区别：这里是正序遍历体积容量V；因为当j<v_arr[i]时，dp[i][j]=dp[i-1][j]，此时j不变，所以内层循环从v_arr[i]开始遍历\n",
    "#             dp[j] = dp[j]\n",
    "#             if j >= v_arr[i-1]:\n",
    "            dp[j] = max(dp[j], dp[j-v_arr[i]]+w_arr[i])\n",
    "    print(dp[V])\n",
    "    \n",
    "bag_all_3(N,V,v_arr, w_arr)"
   ]
  },
  {
   "cell_type": "markdown",
   "metadata": {},
   "source": [
    "# 多重背包问题"
   ]
  },
  {
   "cell_type": "markdown",
   "metadata": {},
   "source": [
    "## 朴素解法\n"
   ]
  },
  {
   "cell_type": "code",
   "execution_count": 56,
   "metadata": {},
   "outputs": [
    {
     "name": "stdout",
     "output_type": "stream",
     "text": [
      "4 5\n",
      "1 2 3\n",
      "2 4 1\n",
      "3 4 3\n",
      "4 5 2\n",
      "10\n"
     ]
    }
   ],
   "source": [
    "\"\"\"\n",
    "朴素解法的基本思想：\n",
    "1. 状态表示：\n",
    "    1.1 集合f[i,j]：满足只从前i个物品中选，且总体积小于等于j的所有选法\n",
    "    1.2 属性：max\n",
    "2. 状态计算（状态转移方程，!!!根据第i个物品选择的个数进行划分）：\n",
    "    f[i][j] = max{f[i-1][j], f[i-1][j-k*v[i]]+k*w[i]}, k*v[i]<=j,0<=k<=s[i]\n",
    "\n",
    "\n",
    "输入样例\n",
    "4 5\n",
    "1 2\n",
    "2 4\n",
    "3 4\n",
    "4 5\n",
    "输出样例：\n",
    "10\n",
    "\"\"\"\n",
    "# 输入样例\n",
    "N, V = map(int,input().split())\n",
    "\n",
    "v_arr = [0]\n",
    "w_arr = [0]\n",
    "s_arr = [0]\n",
    "\n",
    "for i in range(N):\n",
    "    in_li = list(map(int, input().split()))\n",
    "    v_arr.append(in_li[0])\n",
    "    w_arr.append(in_li[1])\n",
    "    s_arr.append(in_li[2])\n",
    "\n",
    "def bagDuoChong(N,V,v_arr,w_arr,s_arr):\n",
    "    # 按照完全背包问题求解，N、V不变\n",
    "    dp = [0 for i in range(V+1)]\n",
    "    for i in range(1,N+1):\n",
    "        for j in range(V,v_arr[i]-1, -1):\n",
    "            for s in range(s_arr[i]+1):\n",
    "                if j>=s*v_arr[i]:\n",
    "                    dp[j] = max(dp[j], dp[j-s*v_arr[i]] + s*w_arr[i])\n",
    "    print(dp[-1])\n",
    "\n",
    "bagDuoChong(N,V,v_arr,w_arr,s_arr)"
   ]
  },
  {
   "cell_type": "markdown",
   "metadata": {},
   "source": [
    "## 时间优化解法(二进制优化)\n",
    "时间复杂度从O(N\\*V\\*S)--->O(N\\*V\\*logS)"
   ]
  },
  {
   "cell_type": "code",
   "execution_count": 58,
   "metadata": {},
   "outputs": [
    {
     "name": "stdout",
     "output_type": "stream",
     "text": [
      "4 5\n",
      "1 2 3\n",
      "2 4 1\n",
      "3 4 3\n",
      "4 5 2\n",
      "10\n"
     ]
    }
   ],
   "source": [
    "\"\"\"\n",
    "基本思想：\n",
    "二进制优化，将整数s[i]按照1,2,4,8,16,32......2^k,c分组,其中c用来补位，1+2+4+8+...+2^k<=s, 1+2+4+8+...+2^k+2^(k+1)>s,\n",
    "然后将其看做一个0-1背包问题进行求解，此时N等于二进制优化后的v_arr列表的长度，V不变\n",
    "\n",
    "输入样例\n",
    "4 5\n",
    "1 2 3\n",
    "2 4 1\n",
    "3 4 3\n",
    "4 5 2\n",
    "输出样例：\n",
    "10\n",
    "\"\"\"\n",
    "# 输入样例\n",
    "N, V = map(int,input().split())\n",
    "\n",
    "\n",
    "def bagDuoChong_2(N,V):\n",
    "    v_arr = [0]\n",
    "    w_arr = [0]\n",
    "    \n",
    "    # 二进制优化代码，原理是将整数s[i]按照1,2,4,8,16,32......2^k分组,其中2^k<=s, 2^(k+1)>s\n",
    "    for i in range(N):\n",
    "        in_li = list(map(int, input().split()))\n",
    "        v = in_li[0]\n",
    "        w = in_li[1]\n",
    "        s = in_li[2]\n",
    "\n",
    "        k = 1\n",
    "        while k<=s:\n",
    "            v_arr.append(k*v)\n",
    "            w_arr.append(k*w)\n",
    "            s -= k\n",
    "            k *= 2\n",
    "        if s>0:   # 此时，s就是用来补位的c\n",
    "            v_arr.append(s*v)\n",
    "            w_arr.append(s*w)\n",
    "\n",
    "    # 按照0-1背包问题求解，注意，其中的N变为数组v_arr的长度，V不变\n",
    "    N = len(v_arr) - 1    # !!!注意这里要减去最开始用0补位的1个物品\n",
    "    dp = [0 for i in range(V+1)]\n",
    "    \n",
    "    for i in range(1,N+1):\n",
    "        for j in range(V,v_arr[i]-1, -1):\n",
    "            dp[j] = max(dp[j], dp[j-v_arr[i]] + w_arr[i])\n",
    "    print(dp[-1])\n",
    "\n",
    "bagDuoChong_2(N,V)"
   ]
  },
  {
   "cell_type": "markdown",
   "metadata": {},
   "source": [
    "# 分组背包问题"
   ]
  },
  {
   "cell_type": "code",
   "execution_count": null,
   "metadata": {},
   "outputs": [],
   "source": [
    "\"\"\"\n",
    "基本思想：类比多重背包问题思想，多重背包问题是遍历第i个物品的个数s[i],而分组背包问题是遍历第i组物品组中的第i个物品\n",
    "1. 状态表示：\n",
    "    1.1 集合f[i,j]：满足只从前i组物品中选，且总体积小于等于j的所有选法\n",
    "    1.2 属性：max\n",
    "2. 状态计算（状态转移方程）的优化：\n",
    "    f[i][j] = max(f[i-1][j], f[i][j])  !!!注意，容易出错，在遍历s_arr时，为了防止dp[i][j]多次被dp[i-1][j]覆盖，所以这里要取max(dp[i-1][j], dp[i][j])，而不能只是dp[i-1][j]\n",
    "    f[i][j] = max{f[i][j], f[i-1][j-v[i-1][s-1]]+w_arr[i-1][s-1]}\n",
    "\n",
    "输入样例\n",
    "3 5\n",
    "2\n",
    "1 2\n",
    "2 4\n",
    "1\n",
    "3 4\n",
    "1\n",
    "4 5\n",
    "输出样例：\n",
    "8\n",
    "\"\"\""
   ]
  },
  {
   "cell_type": "markdown",
   "metadata": {},
   "source": [
    "## 分组背包问题的空间优化解法"
   ]
  },
  {
   "cell_type": "code",
   "execution_count": 63,
   "metadata": {},
   "outputs": [
    {
     "name": "stdout",
     "output_type": "stream",
     "text": [
      "3 5\n",
      "2\n",
      "1 2\n",
      "2 4\n",
      "1\n",
      "3 4\n",
      "1\n",
      "4 5\n"
     ]
    },
    {
     "data": {
      "text/plain": [
       "8"
      ]
     },
     "execution_count": 63,
     "metadata": {},
     "output_type": "execute_result"
    }
   ],
   "source": [
    "# 1. 输入样例\n",
    "N, V = map(int,input().split())   # N表示物品组数，V表示背包容量\n",
    "\n",
    "v_arr = [[] for i in range(N+1)]    # 输入技巧，v_arr初始化为二维空列表，第i维表示第i组物品的各物品体积\n",
    "w_arr = [[] for i in range(N+1)]    # 输入技巧，_arr初始化为二维空列表，第i维表示第i组物品的各物品价值\n",
    "s_arr = [0]    # 存储每组物品数量\n",
    "\n",
    "for i in range(1, N+1):\n",
    "    s_arr.append(int(input().strip()))\n",
    "    for j in range(s_arr[i]):\n",
    "        in_li = list(map(int, input().split()))\n",
    "        v_arr[i].append(in_li[0])\n",
    "        w_arr[i].append(in_li[1])\n",
    "\n",
    "# 2. 初始化dp数组\n",
    "dp = [0 for i in range(V+1)]    # ！！！出错，范围是[0,V],而不是[0,N]\n",
    "\n",
    "# 3. 状态转移方程\n",
    "for i in range(1,N+1):    # 遍历所有物品组\n",
    "    for j in range(V,0,-1):    # 遍历体积阈值，倒序遍历\n",
    "        for s in range(s_arr[i]):    # 遍历第i组物品的所有s_arr[i-1]个物品\n",
    "#             print(i,j,s)         \n",
    "#             print(v_arr[i-1][s-1])\n",
    "#             print(j-v_arr[i-1][s-1])\n",
    "            if j>=v_arr[i][s]:\n",
    "                dp[j] = max(dp[j], dp[j-v_arr[i][s]] + w_arr[i][s])\n",
    "#         print(dp)\n",
    "dp[-1]"
   ]
  },
  {
   "cell_type": "markdown",
   "metadata": {},
   "source": [
    "## 分组背包问题的朴素解法"
   ]
  },
  {
   "cell_type": "code",
   "execution_count": 62,
   "metadata": {},
   "outputs": [
    {
     "name": "stdout",
     "output_type": "stream",
     "text": [
      "3 5\n",
      "2\n",
      "1 2\n",
      "2 4\n",
      "1\n",
      "3 4\n",
      "1\n",
      "4 5\n",
      "8\n"
     ]
    }
   ],
   "source": [
    "# @pysnooper.snoop()\n",
    "def bagGrouped(N,V,v_arr,w_arr,s_arr):\n",
    "    # 2. 初始化dp数组\n",
    "    dp = [[0 for i in range(V+1)] for j in range(N+1)]\n",
    "    \n",
    "    # 3. 状态转移方程\n",
    "    for i in range(1,N+1):    # 遍历所有物品组\n",
    "        for j in range(1,V+1):    # 遍历体积阈值，正序遍历\n",
    "            dp[i][j] = max(dp[i-1][j], dp[i][j])    # !!!出错：在遍历s_arr时，为了防止dp[i][j]多次被dp[i-1][j]覆盖，所以这里要取max(dp[i-1][j], dp[i][j])，而不能只是dp[i-1][j]\n",
    "            for s in range(0,s_arr[i]):    # 遍历第i组物品的所有s_arr[i-1]个物品\n",
    "                if j>=v_arr[i][s]:\n",
    "                    dp[i][j] = max(dp[i][j], dp[i-1][j-v_arr[i][s]] + w_arr[i][s])\n",
    "    return dp[-1][-1]\n",
    "\n",
    "# 1. 输入样例\n",
    "N, V = map(int,input().split())   # N表示物品组数，V表示背包容量\n",
    "\n",
    "v_arr = [[] for i in range(N+1)]    # 输入技巧，v_arr初始化为二维空列表，第i维表示第i组物品的各物品体积;空列表占位\n",
    "w_arr = [[] for i in range(N+1)]    # 输入技巧，_arr初始化为二维空列表，第i维表示第i组物品的各物品价值\n",
    "s_arr = [0]    # 存储每组物品数量\n",
    "\n",
    "for i in range(1,N+1):\n",
    "    s_arr.append(int(input().strip()))\n",
    "    for j in range(s_arr[i]):\n",
    "        in_li = list(map(int, input().split()))\n",
    "        v_arr[i].append(in_li[0])\n",
    "        w_arr[i].append(in_li[1])\n",
    "\n",
    "print(bagGrouped(N,V,v_arr,w_arr,s_arr))"
   ]
  },
  {
   "cell_type": "code",
   "execution_count": 60,
   "metadata": {},
   "outputs": [
    {
     "data": {
      "text/plain": [
       "[[2, 4], [4], [5]]"
      ]
     },
     "execution_count": 60,
     "metadata": {},
     "output_type": "execute_result"
    }
   ],
   "source": [
    "w_arr"
   ]
  },
  {
   "cell_type": "code",
   "execution_count": 61,
   "metadata": {},
   "outputs": [
    {
     "data": {
      "text/plain": [
       "[[1, 2], [3], [4]]"
      ]
     },
     "execution_count": 61,
     "metadata": {},
     "output_type": "execute_result"
    }
   ],
   "source": [
    "v_arr"
   ]
  },
  {
   "cell_type": "markdown",
   "metadata": {},
   "source": [
    "# 动态规划（二）\n",
    "## 一、数字三角形\n",
    "```\n",
    "给定一个如下图所示的数字三角形，从顶部出发，在每一结点可以选择移动至其左下方的结点或移动至其右下方的结点，一直走到底层，要求找出一条路径，使路径上的数字的和最大。\n",
    "\n",
    "        7\n",
    "      3   8\n",
    "    8   1   0\n",
    "  2   7   4   4\n",
    "4   5   2   6   5\n",
    "输入格式\n",
    "第一行包含整数n，表示数字三角形的层数。\n",
    "\n",
    "接下来n行，每行包含若干整数，其中第 i 行表示数字三角形第 i 层包含的整数。\n",
    "\n",
    "输出格式\n",
    "输出一个整数，表示最大的路径数字和。\n",
    "\n",
    "数据范围\n",
    "1≤n≤500,\n",
    "−10000≤三角形中的整数≤10000\n",
    "输入样例：\n",
    "5\n",
    "7\n",
    "3 8\n",
    "8 1 0 \n",
    "2 7 4 4\n",
    "4 5 2 6 5\n",
    "输出样例：\n",
    "30\n",
    "```"
   ]
  },
  {
   "cell_type": "code",
   "execution_count": null,
   "metadata": {},
   "outputs": [],
   "source": [
    "\"\"\"\n",
    "基本思想：\n",
    "1. 状态表示：\n",
    "    1.1 集合f[i,j]：数字三角形中从起点到位置[i][j]的所有路径集合\n",
    "    1.2 属性：max，即所有路径数字和的最大值\n",
    "2. 状态计算（状态转移方程）的优化：\n",
    "    f[i][j] = max(f[i-1][j], f[i][j])  !!!注意，容易出错\n",
    "    f[i][j] = max{f[i][j], f[i-1][j-v[i-1][s-1]]+w_arr[i-1][s-1]}\n",
    "\n",
    "输入样例：\n",
    "5\n",
    "7\n",
    "3 8\n",
    "8 1 0 \n",
    "2 7 4 4\n",
    "4 5 2 6 5\n",
    "输出样例：\n",
    "30\n",
    "\"\"\"\n",
    "\n",
    "# 输入样例\n",
    "n = int(input().strip())\n",
    "arr = [[float(\"inf\") for i in range(n+1)] for j in range(n+1)]    # arr.shape [0~n][0~n],默认值为0\n",
    "\n",
    "for i in range(1,n+1):\n",
    "    in_li = list(map(int, input().split()))\n",
    "    for j in range(1,i+1):\n",
    "        arr[i][j] = in_li[j-1]\n",
    "        \n",
    "# 初始化dp数组\n",
    "dp = [[float(\"-inf\") for i in range(n+1)] for j in range(i+2)]   # !!!技巧：对输入三角形扩大一行两列，扩充的元素用-inf填充（因为是求max），目的是高效处理边界条件\n",
    "dp[1][1] = arr[1][1]\n",
    "\n",
    "# 状态计算\n",
    "for i in range(2, n+1):    # 因为i=1已经初始化，所以i从2开始遍历\n",
    "    for j in range(1,i+1):\n",
    "        dp[i][j] = max(dp[i-1][j-1]+arr[i][j], dp[i-1][j]+arr[i][j])    # 状态转移方程\n",
    "\n",
    "res = float(\"-inf\")\n",
    "for i in range(1,n+1):    # 遍历最后一行所有元素，取最大值作为输出结果\n",
    "    res = max(res, dp[n][i])\n",
    "print(res)"
   ]
  },
  {
   "cell_type": "markdown",
   "metadata": {},
   "source": [
    "## 二、最长上升子序列"
   ]
  },
  {
   "cell_type": "markdown",
   "metadata": {},
   "source": [
    "### 1. 朴素解法，时间复杂度O(n^2)"
   ]
  },
  {
   "cell_type": "markdown",
   "metadata": {},
   "source": [
    "#### 不记录子序列元素"
   ]
  },
  {
   "cell_type": "code",
   "execution_count": 3,
   "metadata": {},
   "outputs": [
    {
     "name": "stdout",
     "output_type": "stream",
     "text": [
      "7\n",
      "3 1 2 1 8 5 6\n",
      "4\n"
     ]
    }
   ],
   "source": [
    "\"\"\"\n",
    "基本思想：\n",
    "1. 状态表示：\n",
    "    1.1 集合f[i]：以序列中以第i个数结尾的所有上升子序列集合\n",
    "    1.2 属性：max，即以第i个数结尾的所有上升子序列的长度的最大值\n",
    "2. 状态计算（状态转移方程, 根据以第i个数结尾的所有上升子序列的倒数第二个数的位置进行集合划分，其中f[i]是倒数第一个数，f[i-1]是倒数第2个数）：\n",
    "    f[i]=1  !!!注意，容易出错\n",
    "    f[i] = max{f[i], f[j]+1}, j=0,1,2,...,i-1; and f[j]<f[i]\n",
    "\n",
    "输入示例：\n",
    "7\n",
    "3 1 2 1 8 5 6\n",
    "\n",
    "输出样例：\n",
    "4\n",
    "\"\"\"\n",
    "\n",
    "# 输入示例\n",
    "n = int(input().strip())\n",
    "nums = [0]\n",
    "nums.extend(list(map(int, input().split())))\n",
    "\n",
    "# 初始化dp数组\n",
    "dp = [0 for i in range(n+1)]\n",
    "\n",
    "# 不记录子序列元素\n",
    "for i in range(1,n+1):\n",
    "    dp[i] = 1    \n",
    "    for j in range(1,i):\n",
    "        # dp[i] = 1    !!! 注意，出错了，初始化dp[i]不能放在内循环里，否则在执行内循环时dp[i]会不断初始化为1\n",
    "        if nums[j]<nums[i]:\n",
    "            dp[i] = max(dp[i], dp[j]+1)    # 状态转移方程\n",
    "res = 0\n",
    "for i in range(n+1):\n",
    "    res = max(res, dp[i])\n",
    "print(res)"
   ]
  },
  {
   "cell_type": "markdown",
   "metadata": {},
   "source": [
    "#### 记录子序列元素"
   ]
  },
  {
   "cell_type": "code",
   "execution_count": 267,
   "metadata": {},
   "outputs": [
    {
     "name": "stdout",
     "output_type": "stream",
     "text": [
      "6 5 2 1 "
     ]
    }
   ],
   "source": [
    "# 初始化dp数组\n",
    "dp = [0 for i in range(n+1)]\n",
    "\n",
    "\n",
    "pathIndex = [0]    # 填0补位，使第一个数在第1个位置。pathIndex用来存储存储dp数组中第i个元素是由哪个元素得到的(可能是第i个元素本身，也可能是某个元素加1)\n",
    "for i in range(1,n+1):   #1-7\n",
    "    dp[i] = 1\n",
    "    pathIndex.append(0)\n",
    "    for j in range(1,i):\n",
    "        # dp[i] = 1    !!! 注意，出错了，初始化dp[i]不能放在内循环里，否则在执行内循环时dp[i]会不断初始化为1\n",
    "        if nums[j]<nums[i]:\n",
    "            if dp[j]+1>dp[i]:\n",
    "                dp[i] = dp[j]+1    # 状态转移方程\n",
    "                pathIndex[-1] = j    # ！！！出错：这里是标记第i个位置是由第j个位置加1得到的，而不能写成pathIndex[-1] = i\n",
    "\n",
    "\n",
    "# 倒序输出最长上升子序列\n",
    "k = 0    # 记录最大长度元素的下标\n",
    "for i in range(n+1):    # 找到dp数组中最大值的索引,赋值为k\n",
    "    if dp[i]>dp[k]:\n",
    "        k = i\n",
    "\n",
    "# print(k, dp[k])    # 7 4\n",
    "        \n",
    "for i in range(dp[k]):    # 其中dp[k]表示最长子序列的长度\n",
    "    print(nums[k], end=' ')\n",
    "    k = pathIndex[k]"
   ]
  },
  {
   "cell_type": "markdown",
   "metadata": {},
   "source": [
    "### 2. 优化解法（二分思想），时间复杂度O(nlogn)"
   ]
  },
  {
   "cell_type": "code",
   "execution_count": 316,
   "metadata": {},
   "outputs": [
    {
     "name": "stdout",
     "output_type": "stream",
     "text": [
      "7\n",
      "3 1 2 1 8 5 6\n",
      "4\n"
     ]
    }
   ],
   "source": [
    "\"\"\"\n",
    "基本思想：\n",
    "    如果一个数可以接到3的后面，那么这个数一定可以接到1的后面，所以可以新建一个数组q，用来存储所有相同长度的子序列的结尾的最小元素\n",
    "步骤：\n",
    "    遍历输入数组nums，然后二分查找q数组中小于nums[i]的最大的结尾元素的索引\n",
    "\n",
    "输入示例：\n",
    "7\n",
    "3 1 2 1 8 5 6\n",
    "\n",
    "输出样例：\n",
    "4\n",
    "\"\"\"\n",
    "# 输入示例\n",
    "n = int(input().strip())\n",
    "nums = [0]\n",
    "nums.extend(list(map(int, input().split())))\n",
    "\n",
    "q = [2e-9]    # q数组用来存储长度为index的所有子序列中的最小值，初始化q数组的第0个元素为2e-9是因为题中最小值为1e-9，这样可以保证任意一个元素的长度为1\n",
    "for i in range(1,n+1):\n",
    "    q.append(0)   # q数组填0补位\n",
    "\n",
    "length = 0    # 记录q数组的长度（不包含填充的最小值：2e-9）\n",
    "for i in range(1,n+1):    # 遍历nums的元素\n",
    "    l = 0    # 必须从0开始，为什么从1开始不行？？？\n",
    "    r = length\n",
    "    while l<r:    # 对q数组进行二分查找，查找q中小于nums[i]的最大值\n",
    "        mid = (l+r+1)>>1    # ！！！出错：后面l=mid时，前面必须是mid = (l+r+1)>>1，否则会出现死循环\n",
    "        if q[mid]<nums[i]:\n",
    "            l = mid\n",
    "        else:\n",
    "            r = mid - 1\n",
    "    length = max(length, r + 1)    # ???更新length,其中r是找到的q数组中小于nums[i]的最大数的索引，因为nums[i]大于q[length],所以r要加1\n",
    "    q[r+1] = nums[i]    # 更新长度为r+1的子序列中最后一个元素的最小值\n",
    "print(length)"
   ]
  },
  {
   "cell_type": "code",
   "execution_count": 317,
   "metadata": {},
   "outputs": [
    {
     "data": {
      "text/plain": [
       "[2e-09, 1, 2, 5, 6, 0, 0, 0]"
      ]
     },
     "execution_count": 317,
     "metadata": {},
     "output_type": "execute_result"
    }
   ],
   "source": [
    "q"
   ]
  },
  {
   "cell_type": "markdown",
   "metadata": {},
   "source": [
    "## 三、最长公共子序列\n",
    "```\n",
    "给定两个长度分别为N和M的字符串A和B，求既是A的子序列又是B的子序列的字符串长度最长是多少。\n",
    "\n",
    "输入格式\n",
    "第一行包含两个整数N和M。\n",
    "\n",
    "第二行包含一个长度为N的字符串，表示字符串A。\n",
    "\n",
    "第三行包含一个长度为M的字符串，表示字符串B。\n",
    "\n",
    "字符串均由小写字母构成。\n",
    "\n",
    "输出格式\n",
    "输出一个整数，表示最大长度。\n",
    "\n",
    "数据范围\n",
    "1≤N≤1000,\n",
    "\n",
    "输入样例：\n",
    "4 5\n",
    "acbd\n",
    "abedc  \n",
    "输出样例：\n",
    "3\n",
    "```"
   ]
  },
  {
   "cell_type": "code",
   "execution_count": 4,
   "metadata": {
    "scrolled": true
   },
   "outputs": [
    {
     "name": "stdout",
     "output_type": "stream",
     "text": [
      "4 5\n",
      "acbd\n",
      "abedc\n",
      "3\n"
     ]
    }
   ],
   "source": [
    "\"\"\"\n",
    "基本思想：\n",
    "1. 状态表示：\n",
    "    1.1 集合f[i,j]：表示所有在第一个字符串a的前i个字符中出现的，且在第二个字符串b的前j个字符也出现的子序列的集合\n",
    "    1.2 属性：max，即集合中子序列长度的最大值\n",
    "2. 状态计算（状态转移方程, 根据第一个字符串的截取位置是i还是i-1以及第二个字符串的截取位置是j还是j-1进行划分）：\n",
    "    if a[i]==b[j]:\n",
    "        f[i,j] = max(f[i-1][j],f[i][j-1],f[i-1][j-1]+1)    # !注意，f[i-1][j-1]包含在了f[i-1][j]和f[i][j-1]中，所以这里省略了\n",
    "    else:\n",
    "        f[i,j] = max(f[i-1][j],f[i][j-1])\n",
    "输入样例： \n",
    "4 5\n",
    "acbd \n",
    "abedc\n",
    "\n",
    "输出样例： \n",
    "3\n",
    "\"\"\"\n",
    "\n",
    "# 1. 输入示例\n",
    "n, m = map(int, input().split())\n",
    "\n",
    "a = \" \"    # 填充空字符占位\n",
    "b = \" \"\n",
    "\n",
    "a = a + input().strip()\n",
    "b = b + input().strip()\n",
    "\n",
    "# 2. 初始化dp数组\n",
    "dp = [[0 for i in range(m+1)] for j in range(n+1)]\n",
    "\n",
    "# 3. 状态计算\n",
    "for i in range(1,n+1):\n",
    "    for j in range(1,m+1):\n",
    "        dp[i][j] = max(dp[i-1][j], dp[i][j-1])    # 状态转移方程-1 ;!!!注意先后顺序\n",
    "        if a[i]==b[j]:\n",
    "            dp[i][j] = max(dp[i][j], dp[i-1][j-1]+1)     # 状态转移方程-2\n",
    "print(dp[n][m])"
   ]
  },
  {
   "cell_type": "markdown",
   "metadata": {},
   "source": [
    "## 四、石子合并\n",
    "```\n",
    "设有N堆石子排成一排，其编号为1，2，3，…，N。\n",
    "\n",
    "每堆石子有一定的质量，可以用一个整数来描述，现在要将这N堆石子合并成为一堆。\n",
    "\n",
    "每次只能合并相邻的两堆，合并的代价为这两堆石子的质量之和，合并后与这两堆石子相邻的石子将和新堆相邻，合并时由于选择的顺序不同，合并的总代价也不相同。\n",
    "\n",
    "例如有4堆石子分别为 1 3 5 2， 我们可以先合并1、2堆，代价为4，得到4 5 2， 又合并 1，2堆，代价为9，得到9 2 ，再合并得到11，总代价为4+9+11=24；\n",
    "\n",
    "如果第二步是先合并2，3堆，则代价为7，得到4 7，最后一次合并代价为11，总代价为4+7+11=22。\n",
    "\n",
    "问题是：找出一种合理的方法，使总的代价最小，输出最小代价。\n",
    "\n",
    "输入格式\n",
    "第一行一个数N表示石子的堆数N。\n",
    "\n",
    "第二行N个数，表示每堆石子的质量(均不超过1000)。\n",
    "\n",
    "输出格式\n",
    "输出一个整数，表示最小代价。\n",
    "\n",
    "数据范围\n",
    "1≤N≤300\n",
    "输入样例：\n",
    "4\n",
    "1 3 5 2\n",
    "输出样例：\n",
    "22\n",
    "```"
   ]
  },
  {
   "cell_type": "markdown",
   "metadata": {},
   "source": [
    "#### 第一种dp初始化方式\n",
    "```\n",
    "初始化为0;\n",
    "循环中dp[l][r]=float(\"inf\")\n",
    "```"
   ]
  },
  {
   "cell_type": "code",
   "execution_count": 299,
   "metadata": {
    "scrolled": true
   },
   "outputs": [
    {
     "name": "stdout",
     "output_type": "stream",
     "text": [
      "4\n",
      "1 3 5 2\n",
      "22\n"
     ]
    }
   ],
   "source": [
    "\"\"\"\n",
    "基本思想：\n",
    "1. 状态表示：\n",
    "    1.1 集合f[i,j]：表示将第i堆石子到第j堆石子合并的方案集合\n",
    "    1.2 属性：min，即将第i堆石子到第j堆石子合并的方案的最小成本\n",
    "2. 状态计算（状态转移方程, 根据将第i堆石子到第j堆石子合并成一堆时的最后一次合并位置进行划分）：\n",
    "    f[i,j] = min(f[i][k] + f[k+1][j] + sum(j) - sum(0~i-1)), 其中k的取值范围为[i,j-1]\n",
    "\"\"\"\n",
    "# 1. 输入示例\n",
    "n = int(input().strip())\n",
    "\n",
    "nums = [0]\n",
    "nums.extend(list(map(int, input().split())))\n",
    "\n",
    "s = [0]\n",
    "for i in range(1, n+1):\n",
    "    s.append(s[-1]+nums[i])\n",
    "\n",
    "# 2. 初始化dp数组\n",
    "dp = [[0 for i in range(n+1)] for j in range(n+1)]\n",
    "\n",
    "for length in range(2, n+1):    # !!!技巧：遍历区间可能的长度\n",
    "    for i in range(1, n+1-length+1):    # ！！！出错：在长度一定下，遍历可能的起点，需要满足 i+length-1<=n，边界条件是i=1，length=n时，边界应该小于等于n\n",
    "        l = i\n",
    "        r = i + length - 1\n",
    "        \n",
    "        dp[l][r] = float(\"inf\")\n",
    "        for k in range(l, r):    # ！！！出错：这里k可以取到左边界l，此时表示为dp[1][1] + dp[2][r],即分隔将第一堆和其他堆分开；但是k不可以取到右边界r，此时表示为dp[1][r] + dp[r+1][r],而当r=n时，n+1超出了索引范围\n",
    "#             print(l,r,k) l=1;r = 5,k =5\n",
    "            # 3. 状态转移方程\n",
    "            dp[l][r] = min(dp[l][r], dp[l][k]+dp[k+1][r]+s[r]-s[l-1])    # s[r]-s[l-1]:表示最后两队合并的cost\n",
    "print(dp[1][n])       "
   ]
  },
  {
   "cell_type": "markdown",
   "metadata": {},
   "source": [
    "#### 第一种dp初始化方式\n",
    "```\n",
    "初始化为float(\"inf\");\n",
    "然后设置dp[i][i]=0\n",
    "```"
   ]
  },
  {
   "cell_type": "code",
   "execution_count": 7,
   "metadata": {},
   "outputs": [
    {
     "name": "stdout",
     "output_type": "stream",
     "text": [
      "4\n",
      "1 3 5 2\n",
      "22\n"
     ]
    }
   ],
   "source": [
    "\"\"\"\n",
    "基本思想：\n",
    "1. 状态表示：\n",
    "    1.1 集合f[i,j]：表示将第i堆石子到第j堆石子合并的方案集合\n",
    "    1.2 属性：min，即将第i堆石子到第j堆石子合并的方案的最小成本\n",
    "2. 状态计算（状态转移方程, 根据将第i堆石子到第j堆石子合并成一堆时的最后一次合并位置进行划分）：\n",
    "    f[i,j] = min(f[i][k] + f[k+1][j] + sum(j) - sum(0~i-1)), 其中k的取值范围为[i,j-1]\n",
    "\"\"\"\n",
    "# 1. 输入示例\n",
    "n = int(input().strip())\n",
    "\n",
    "nums = [0]\n",
    "nums.extend(list(map(int, input().split())))\n",
    "\n",
    "s = [0]\n",
    "for i in range(1, n+1):\n",
    "    s.append(s[-1]+nums[i])\n",
    "\n",
    "# 2. 初始化dp数组\n",
    "dp = [[float(\"inf\") for i in range(n+1)] for j in range(n+1)]\n",
    "for i in range(n+1):\n",
    "    dp[i][i] = 0\n",
    "\n",
    "for length in range(2, n+1):    # !!!技巧：遍历区间可能的长度\n",
    "    for i in range(1, n+1-length+1):    # ！！！出错：在长度一定下，遍历可能的起点，需要满足 i+length-1<=n，边界条件是i=1，length=n时，边界应该小于等于n\n",
    "        l = i\n",
    "        r = i + length - 1\n",
    "        \n",
    "        #dp[l][r] = float(\"inf\")\n",
    "        for k in range(l, r):    # ！！！出错：这里k可以取到左边界l，此时表示为dp[1][1] + dp[2][r],即分隔将第一堆和其他堆分开；但是k不可以取到右边界r，此时表示为dp[1][r] + dp[r+1][r],而当r=n时，n+1超出了索引范围\n",
    "#             print(l,r,k) l=1;r = 5,k =5\n",
    "            # 3. 状态转移方程\n",
    "            dp[l][r] = min(dp[l][r], dp[l][k]+dp[k+1][r]+s[r]-s[l-1])    # s[r]-s[l-1]:表示最后两队合并的cost\n",
    "print(dp[1][n])       "
   ]
  },
  {
   "cell_type": "code",
   "execution_count": 6,
   "metadata": {},
   "outputs": [
    {
     "data": {
      "text/plain": [
       "[[inf, inf, inf, inf, inf],\n",
       " [inf, inf, inf, inf, inf],\n",
       " [inf, inf, inf, inf, inf],\n",
       " [inf, inf, inf, inf, inf],\n",
       " [inf, inf, inf, inf, inf]]"
      ]
     },
     "execution_count": 6,
     "metadata": {},
     "output_type": "execute_result"
    }
   ],
   "source": [
    "dp"
   ]
  },
  {
   "cell_type": "markdown",
   "metadata": {},
   "source": [
    "## 五、最短编辑距离\n",
    "```\n",
    "给定两个字符串A和B，现在要将A经过若干操作变为B，可进行的操作有：\n",
    "\n",
    "删除–将字符串A中的某个字符删除。\n",
    "插入–在字符串A的某个位置插入某个字符。\n",
    "替换–将字符串A中的某个字符替换为另一个字符。\n",
    "现在请你求出，将A变为B至少需要进行多少次操作。\n",
    "\n",
    "输入格式\n",
    "第一行包含整数n，表示字符串A的长度。\n",
    "\n",
    "第二行包含一个长度为n的字符串A。\n",
    "\n",
    "第三行包含整数m，表示字符串B的长度。\n",
    "\n",
    "第四行包含一个长度为m的字符串B。\n",
    "\n",
    "字符串中均只包含大写字母。\n",
    "\n",
    "输出格式\n",
    "输出一个整数，表示最少操作次数。\n",
    "\n",
    "数据范围\n",
    "1≤n,m≤1000\n",
    "输入样例：\n",
    "10 \n",
    "AGTCTGACGC\n",
    "11 \n",
    "AGTAAGTAGGC\n",
    "输出样例：\n",
    "4\n",
    "```"
   ]
  },
  {
   "cell_type": "code",
   "execution_count": 323,
   "metadata": {},
   "outputs": [
    {
     "name": "stdout",
     "output_type": "stream",
     "text": [
      "10\n",
      "AGTCTGACGC\n",
      "11\n",
      "AGTAAGTAGGC\n",
      "4\n"
     ]
    }
   ],
   "source": [
    "\"\"\"\n",
    "基本思想：\n",
    "1. 状态表示：\n",
    "    1.1 集合f[i,j]：表示将第一个字符串a的[1~i]字符子串转换成第二个字符串b的[1~j]字符子串的操作方案集合\n",
    "    1.2 属性：min，即将第一个字符串a的[1~i]字符子串转换成第二个字符串b的[1~j]字符子串的所有操作方案中的最小操作次数\n",
    "2. 状态计算（状态转移方程, 根据对第一个字符串a的第i个字符的增删改三种不同的操作进行划分）：\n",
    "    f[i,j] = min(f[i-1][j]+1, f[i][j-1]+1)    # 状态转移方程-1\n",
    "    if a[i]==b[j]:    # a的第i个字符与b的第j个字符相等时\n",
    "        dp[i][j] = min(dp[i][j], dp[i-1][j-1])    # 状态转移方程-2\n",
    "    else:\n",
    "        dp[i][j] = min(dp[i][j], dp[i-1][j-1]+1)     # 状态转移方程-3\n",
    "\"\"\"\n",
    "# 1. 输入示例\n",
    "n = int(input().strip())\n",
    "a = \" \"    # 空字符串填充补位\n",
    "a = a + input().strip()\n",
    "m = int(input().strip())\n",
    "b = \" \"    # 空字符串填充补位\n",
    "b = b + input().strip()\n",
    "\n",
    "# 2. 初始化dp数组\n",
    "dp = [[0 for i in range(m+1)] for j in range(n+1)]\n",
    "for i in range(n+1):    # b为空串时，减去a的前i个字符需要i步\n",
    "    dp[i][0] = i\n",
    "\n",
    "for i in range(m+1):    # a为空串时，减去b的前i个字符需要i步\n",
    "    dp[0][i] = i\n",
    "    \n",
    "# 3. 状态计算\n",
    "for i in range(1,n+1):\n",
    "    for j in range(1, m+1):\n",
    "        dp[i][j] = min(dp[i-1][j]+1, dp[i][j-1]+1)    # 状态转移方程-1， ！！！注意，dp[i-1][j]+1表示删除a[i], dp[i][j-1]+1表示增加a[i],而增加a[i]等价于删除b[j]\n",
    "        if a[i]==b[j]:    # a的第i个字符与b的第j个字符相等时\n",
    "            dp[i][j] = min(dp[i][j], dp[i-1][j-1])    # 状态转移方程-2\n",
    "        else:\n",
    "            dp[i][j] = min(dp[i][j], dp[i-1][j-1]+1)    # 状态转移方程-3\n",
    "\n",
    "print(dp[n][m])\n",
    "\n"
   ]
  },
  {
   "cell_type": "markdown",
   "metadata": {},
   "source": [
    "## 六、编辑距离\n",
    "```\n",
    "给定n个长度不超过10的字符串以及m次询问，每次询问给出一个字符串和一个操作次数上限。\n",
    "\n",
    "对于每次询问，请你求出给定的n个字符串中有多少个字符串可以在上限操作次数内经过操作变成询问给出的字符串。\n",
    "\n",
    "每个对字符串进行的单个字符的插入、删除或替换算作一次操作。\n",
    "\n",
    "输入格式\n",
    "第一行包含两个整数n和m。\n",
    "\n",
    "接下来n行，每行包含一个字符串，表示给定的字符串。\n",
    "\n",
    "再接下来m行，每行包含一个字符串和一个整数，表示一次询问。\n",
    "\n",
    "字符串中只包含小写字母，且长度均不超过10。\n",
    "\n",
    "输出格式\n",
    "输出共m行，每行输出一个整数作为结果，表示一次询问中满足条件的字符串个数。\n",
    "\n",
    "数据范围\n",
    "1≤n,m≤1000,\n",
    "\n",
    "输入样例：\n",
    "3 2\n",
    "abc\n",
    "acd\n",
    "bcd\n",
    "ab 1\n",
    "acbd 2\n",
    "输出样例：\n",
    "1\n",
    "3\n",
    "```"
   ]
  },
  {
   "cell_type": "code",
   "execution_count": 331,
   "metadata": {},
   "outputs": [
    {
     "name": "stdout",
     "output_type": "stream",
     "text": [
      "3 2\n",
      "abc\n",
      "acd\n",
      "bcd\n",
      "ab 1\n",
      "1\n",
      "acbd 2\n",
      "3\n"
     ]
    }
   ],
   "source": [
    "\"\"\"\n",
    "基本思想：\n",
    "1. 将n个字符串存到数组s_arr中\n",
    "2. 依次遍历m个询问字符串和操作次数上限，遍历s_arr数组中的字符串，分别计算每个询问字符串和第j个操作字符串的操作次数(思路参考\"最短编辑距离\")，将操作次数与操作次数上限进行比较，小于操作上限次数则count加1\n",
    "\n",
    "输入样例：\n",
    "3 2\n",
    "abc\n",
    "acd\n",
    "bcd\n",
    "ab 1\n",
    "acbd 2\n",
    "输出样例：\n",
    "1\n",
    "3\n",
    "\"\"\"\n",
    "\n",
    "def editDistance(s1, s2):\n",
    "    lenOfS1 = len(s1)-1    # !!!出错：因为s1和s2用空白符填充了第一位，所以s1和s2的长度应该减1\n",
    "    lenOfS2 = len(s2)-1\n",
    "    \n",
    "    # 2. 初始化dp数组\n",
    "    dp = [[0 for j in range(lenOfS2+1)] for i in range(lenOfS1+1)]\n",
    "    for i in range(lenOfS1+1):\n",
    "        dp[i][0] = i\n",
    "    for i in range(lenOfS2+1):\n",
    "        dp[0][i] = i\n",
    "    \n",
    "    # 3. 状态计算\n",
    "    for i in range(1, lenOfS1+1):\n",
    "        for j in range(1, lenOfS2+1):\n",
    "#             print(i,j)\n",
    "            dp[i][j] = min(dp[i-1][j]+1, dp[i][j-1]+1)    # !!!出错：忘记加1了\n",
    "            if s1[i]==s2[j]:\n",
    "                dp[i][j] = min(dp[i][j], dp[i-1][j-1])\n",
    "            else:\n",
    "                dp[i][j] = min(dp[i][j], dp[i-1][j-1]+1)\n",
    "    return dp[lenOfS1][lenOfS2]\n",
    "\n",
    "# 1. 输入示例\n",
    "n, m = map(int, input().split())\n",
    "\n",
    "s_arr = []\n",
    "for i in range(n):\n",
    "    s_arr.append(\" \" + input().strip())\n",
    "\n",
    "for i in range(m):\n",
    "    in_li = input().split()\n",
    "    s = \" \" + in_li[0]\n",
    "    limit = int(in_li[1])\n",
    "    count = 0\n",
    "    for string in s_arr:\n",
    "        if editDistance(string, s)<=limit:\n",
    "            count += 1\n",
    "    print(count)\n",
    "\n",
    "\n"
   ]
  },
  {
   "cell_type": "markdown",
   "metadata": {},
   "source": [
    "## 七、整数划分（计数类DP）\n",
    "```\n",
    "一个正整数n可以表示成若干个正整数之和，形如：n=n1+n2+…+nk，其中n1≥n2≥…≥nk,k≥1。\n",
    "\n",
    "我们将这样的一种表示称为正整数n的一种划分。\n",
    "\n",
    "现在给定一个正整数n，请你求出n共有多少种不同的划分方法。\n",
    "\n",
    "输入格式\n",
    "共一行，包含一个整数n。\n",
    "\n",
    "输出格式\n",
    "共一行，包含一个整数，表示总划分数量。\n",
    "\n",
    "由于答案可能很大，输出结果请对109+7取模。\n",
    "\n",
    "数据范围\n",
    "1≤n≤1000\n",
    "输入样例:\n",
    "5\n",
    "输出样例：\n",
    "7\n",
    "```"
   ]
  },
  {
   "cell_type": "markdown",
   "metadata": {},
   "source": [
    "### 完全背包思想求解"
   ]
  },
  {
   "cell_type": "code",
   "execution_count": 6,
   "metadata": {},
   "outputs": [
    {
     "name": "stdout",
     "output_type": "stream",
     "text": [
      "5\n",
      "7\n"
     ]
    }
   ],
   "source": [
    "\"\"\"\n",
    "基本思想：\n",
    "    等价于完全背包问题，n个物品，第i个物品的体积和价值都为i，并且求价值恰好为n的划分方案个数\n",
    "\n",
    "1. 状态表示：\n",
    "    1.1 集合f[i,j]：表示由前i个数组成的体积恰好为j的划分方案集合\n",
    "    1.2 属性：count，即划分方案的个数\n",
    "2. 状态计算（状态转移方程,根据选择第i个数的次数是0，1...s,进行划分）：\n",
    "    因为：\n",
    "        f[i][j] = f[i-1][j] + f[i-1][j-i] + f[i-1][j-2*i] + f[i-1][j-3*i] +...+ f[i-1][j-s*i]\n",
    "        f[i][j-i] =           f[i-1][j-i] + f[i-1][j-2*i] + f[i-1][j-3*i] +...+ f[i-1][j-s*i]\n",
    "    所以：\n",
    "        f[i][j] = f[i-1][j] + f[i][j-i]\n",
    "\n",
    "输入样例：\n",
    "5\n",
    "\n",
    "输出样例：\n",
    "7\n",
    "\n",
    "\"\"\"\n",
    "# 输入示例\n",
    "mod = 1e9 + 7\n",
    "n = int(input().strip())\n",
    "\n",
    "# 初始化dp数组\n",
    "dp = [0 for i in range(n+1)]\n",
    "dp[0] = 1    # !!!注意：当n=0时，只有一种方案，即什么都不选\n",
    "\n",
    "# 状态计算\n",
    "for i in range(1, n+1):    # 等价于遍历n个物品，其中第i个物品的体积为i\n",
    "    for j in range(1,n+1):    # 等价于遍历不同的体积  !!!出错：优化版本的完全背包问题的内层循环要从i开始，即只用当容量j大于体积i时才更新\n",
    "        if j>=i:\n",
    "            dp[j] = (dp[j]+dp[j-i])%mod\n",
    "print(int(dp[-1]))"
   ]
  },
  {
   "cell_type": "code",
   "execution_count": 7,
   "metadata": {},
   "outputs": [
    {
     "data": {
      "text/plain": [
       "[1, 1.0, 2.0, 3.0, 5.0, 7.0]"
      ]
     },
     "execution_count": 7,
     "metadata": {},
     "output_type": "execute_result"
    }
   ],
   "source": [
    "dp"
   ]
  },
  {
   "cell_type": "markdown",
   "metadata": {},
   "source": [
    "### 多重背包的思想求解"
   ]
  },
  {
   "cell_type": "code",
   "execution_count": 27,
   "metadata": {},
   "outputs": [
    {
     "name": "stdout",
     "output_type": "stream",
     "text": [
      "5\n",
      "7\n"
     ]
    }
   ],
   "source": [
    "\"\"\"\n",
    "基本思想：\n",
    "    等价于多重背包问题，n个物品，第i个物品的体积和价值都为i，并且求价值恰好为n的划分方案个数\n",
    "\n",
    "1. 状态表示：\n",
    "    1.1 集合f[i,j]：表示由前i个数组成的体积恰好为j的划分方案集合\n",
    "    1.2 属性：count，即划分方案的个数\n",
    "2. 状态计算（状态转移方程,根据选择第i个数的次数是0，1...s...n,进行划分）：\n",
    "    if s*i<=n\n",
    "        f[i][j] = f[i-1][j] + f[i-1][j-i] + f[i-1][j-2*i] + f[i-1][j-3*i] +...+ f[i-1][j-n*i]\n",
    "        \n",
    "输入样例：\n",
    "5\n",
    "\n",
    "输出样例：\n",
    "7\n",
    "\n",
    "\"\"\"\n",
    "# 输入示例\n",
    "mod = 1e9 + 7\n",
    "n = int(input().strip())\n",
    "\n",
    "# 初始化dp数组\n",
    "dp = [0 for i in range(n+1)]\n",
    "dp[0] = 1    # !!!注意：当n=0时，只有一种方案，即什么都不选\n",
    "# @pysnooper.snoop()\n",
    "def IntHuafen(n):\n",
    "    for i in range(1,n+1):\n",
    "        for j in range(n,i-1,-1):\n",
    "            tmp = 0\n",
    "            for s in range(n+1):\n",
    "                if s*i<=j:\n",
    "#                     dp[j] += dp[j-s*i]    # ！！！出错：不能写成dp[j] += dp[j-s*i]的形式，否则当s*i==0时，dp[i-1][j]被算了两次，即dp[j] += dp[j]\n",
    "                    tmp += dp[j-s*i]\n",
    "\n",
    "            dp[j] = tmp%mod\n",
    "#             print(dp[j])\n",
    "    print(int(dp[-1]))\n",
    "IntHuafen(n)"
   ]
  },
  {
   "cell_type": "markdown",
   "metadata": {},
   "source": [
    "## 八、蒙德里安的猜想（状态压缩DP）\n",
    "```\n",
    "求把N*M的棋盘分割成若干个1*2的的长方形，有多少种方案。\n",
    "\n",
    "例如当N=2，M=4时，共有5种方案。当N=2，M=3时，共有3种方案。\n",
    "\n",
    "如下图所示：\n",
    "\n",
    "\n",
    "输入格式\n",
    "输入包含多组测试用例。\n",
    "\n",
    "每组测试用例占一行，包含两个整数N和M。\n",
    "\n",
    "当输入用例N=0，M=0时，表示输入终止，且该用例无需处理。\n",
    "\n",
    "输出格式\n",
    "每个测试用例输出一个结果，每个结果占一行。\n",
    "\n",
    "数据范围\n",
    "1≤N,M≤11\n",
    "输入样例：\n",
    "1 2\n",
    "1 3\n",
    "1 4\n",
    "2 2\n",
    "2 3\n",
    "2 4\n",
    "2 11\n",
    "4 11\n",
    "0 0\n",
    "输出样例：\n",
    "1\n",
    "0\n",
    "1\n",
    "2\n",
    "3\n",
    "5\n",
    "144\n",
    "51205\n",
    "```"
   ]
  },
  {
   "cell_type": "code",
   "execution_count": 34,
   "metadata": {},
   "outputs": [
    {
     "name": "stdout",
     "output_type": "stream",
     "text": [
      "11 10\n",
      "3852472573499\n",
      "0 0\n"
     ]
    }
   ],
   "source": [
    "\"\"\"\n",
    "基本思想：（因为横向小方格都放完时，纵向小方格只有一种情况，所以摆放的方案数=横向小方格摆放的方案数）\n",
    "1. 状态表示：\n",
    "    1.1 集合f[i,j]：表示在摆第i列时，由第i-1列伸出到第i列的的行数（用一个二进制数j表示）,其中，二进制的位数是方阵的行数n，e.g. 当n=5时，j取值范围为[0,31]\n",
    "    1.2 属性：count，即摆放的方案数\n",
    "2. 状态计算（状态转移方程,根据选择第i个数的次数是0，1...s,进行划分）：\n",
    "    f[i][j] = f[i][j] + f[i-1][k], k=0,1,2,...,1<<n\n",
    "    \n",
    "\"\"\"\n",
    "\n",
    "# 输入示例\n",
    "while True:\n",
    "    n, m = map(int, input().split())    # n行,m列  # 2,4\n",
    "    st = [True for i in range(1<<n)]    \n",
    "    if  n|m:  # n和m不同时为0时\n",
    "        \n",
    "        # for循环用来初始化bool数组st\n",
    "        for i in range(1<<n):    # 遍历n-1位二进制数的每个取值，其中 1<<n : 表示2的n次方，即n-1位的二进制数\n",
    "            cnt = 0    # cnt用来计数数字i的不同二进制位数是否有连续偶数个0\n",
    "            for j in range(n):   # 遍历每一行，即遍历数字i的二进制数的第j位\n",
    "                if (i>>j) & 1:    # 注意：理解成如果数字i的第j位二进制位为1，并且cnt为奇数，则st[i]的状态为False\n",
    "                    if cnt & 1: \n",
    "                        st[i] = False\n",
    "                    cnt = 0\n",
    "                else: cnt += 1    # 如果数字i的第j位二进制位为0,则cnt+=1\n",
    "            if cnt & 1: st[i] = False   # 判断数i的二进制数的最后一段0的个数，如果数字i的二进制数以奇数个0结尾，即形如i = 001000,则st[i]的状态为False\n",
    "#         print(st)\n",
    "        \n",
    "        \n",
    "        # 初始化dp数组\n",
    "        dp = [[0 for i in range(1<<n)] for j in range(m+1)]\n",
    "        dp[0][0] = 1    # 摆放第0列时，，默认没有从-1列伸出的，所以\n",
    "        \n",
    "        # 状态计算\n",
    "        for i in range(1, m+1):   # 遍历矩阵的列\n",
    "            for j in range(0, 1<<n):    # 遍历第i列的由第i-1列捅出的状态所构成的二进制数\n",
    "                for k in range(0, 1<<n):    # 遍历第i-1列的状态所构成的二进制数\n",
    "                    if ((j & k) ==0) and st[j|k]:\n",
    "                        dp[i][j] += dp[i-1][k]\n",
    "        print(dp[m][0])    # 输出，第m列没有任何从m-1列捅出来的行数\n",
    "    else:\n",
    "        break\n",
    "\n"
   ]
  },
  {
   "cell_type": "markdown",
   "metadata": {},
   "source": [
    "## 九、最短Hamilton路径（状态压缩DP）\n",
    "```\n",
    "给定一张 n 个点的带权无向图，点从 0~n-1 标号，求起点 0 到终点 n-1 的最短Hamilton路径。 Hamilton路径的定义是从 0 到 n-1 不重不漏地经过每个点恰好一次。\n",
    "\n",
    "输入格式\n",
    "第一行输入整数n。\n",
    "\n",
    "接下来n行每行n个整数，其中第i行第j个整数表示点i到j的距离（记为a[i,j]）。\n",
    "\n",
    "对于任意的x,y,z，数据保证 a[x,x]=0，a[x,y]=a[y,x] 并且 a[x,y]+a[y,z]>=a[x,z]。\n",
    "\n",
    "输出格式\n",
    "输出一个整数，表示最短Hamilton路径的长度。\n",
    "\n",
    "数据范围\n",
    "1≤n≤20\n",
    "0≤a[i,j]≤107\n",
    "输入样例：\n",
    "5\n",
    "0 2 4 5 1\n",
    "2 0 6 5 3\n",
    "4 6 0 8 3\n",
    "5 5 8 0 5\n",
    "1 3 3 5 0\n",
    "输出样例：\n",
    "18\n",
    "```"
   ]
  },
  {
   "cell_type": "code",
   "execution_count": 389,
   "metadata": {},
   "outputs": [
    {
     "name": "stdout",
     "output_type": "stream",
     "text": [
      "5\n",
      "0 2 4 5 1\n",
      "2 0 6 5 3\n",
      "4 6 0 8 3\n",
      "5 5 8 0 5\n",
      "1 3 3 5 0\n",
      "18\n"
     ]
    }
   ],
   "source": [
    "\"\"\"\n",
    "基本思想：（n个节点，则用0~((1<<n)-1)的所有整数表示经过的所有路径）\n",
    "1. 状态表示：\n",
    "    1.1 集合f[i,j]：表示从节点0到节点j，且经过的所有点是路径i(二进制数)的路径\n",
    "    1.2 属性：Min，即从0开始到节点(n-1)的路径的最短长度\n",
    "2. 状态计算（状态转移方程,根据选择第i个数的次数是0，1...s,进行划分）：\n",
    "    f[i][j] = min(f[i][j], f[i-{j节点}][k]+a[k][j]), k=0,1,2,...,n-1\n",
    "    \n",
    "\"\"\"\n",
    "\n",
    "# 1. 输入示例\n",
    "n = int(input().strip())\n",
    "a = []\n",
    "\n",
    "for i in range(n):\n",
    "    a.append(list(map(int,input().split())))\n",
    "\n",
    "# 2. 初始化dp数组\n",
    "dp = [[float(\"inf\") for i in range(n)] for j in range(1<<n)]    # 属性是求最小值，所以dp数组元素初始化为inf\n",
    "dp[1][0] = 0    # 从第0号点到第0号点，经过第0号点的路径在最短路径长度为0\n",
    "\n",
    "# 3. 状态计算\n",
    "for i in range(1<<n):    # 遍历在从第0号点到第j号点时，可能经过的所有节点组成的路径\n",
    "    for j in range(n):    # 遍历所有路径可能结尾的点[0~n-1]\n",
    "        if (i>>j) & 1:    # 如果路径i以第j号点结尾\n",
    "            for k in range(n):    # 遍历以第j号点结尾的路径i的倒数第二个点的编号k\n",
    "                if (i-(1<<j)) >> k & 1:    # 如果路径i删除节点j后，倒数第二个节点为k，则执行状态转移方程\n",
    "                    dp[i][j] = min(dp[i][j], dp[i-(1<<j)][k]+a[k][j])\n",
    "print(dp[(1<<n)-1][n-1])\n"
   ]
  },
  {
   "cell_type": "markdown",
   "metadata": {},
   "source": [
    "## 十、没有上司的舞会（树形DP）（待做）\n",
    "```\n",
    "Ural大学有N名职员，编号为1~N。\n",
    "\n",
    "他们的关系就像一棵以校长为根的树，父节点就是子节点的直接上司。\n",
    "\n",
    "每个职员有一个快乐指数，用整数 Hi 给出，其中 1≤i≤N。\n",
    "\n",
    "现在要召开一场周年庆宴会，不过，没有职员愿意和直接上司一起参会。\n",
    "\n",
    "在满足这个条件的前提下，主办方希望邀请一部分职员参会，使得所有参会职员的快乐指数总和最大，求这个最大值。\n",
    "\n",
    "输入格式\n",
    "第一行一个整数N。\n",
    "\n",
    "接下来N行，第 i 行表示 i 号职员的快乐指数Hi。\n",
    "\n",
    "接下来N-1行，每行输入一对整数L, K,表示K是L的直接上司。\n",
    "\n",
    "输出格式\n",
    "输出最大的快乐指数。\n",
    "\n",
    "数据范围\n",
    "1≤N≤6000,\n",
    "−128≤Hi≤127\n",
    "输入样例：\n",
    "7\n",
    "1\n",
    "1\n",
    "1\n",
    "1\n",
    "1\n",
    "1\n",
    "1\n",
    "1 3\n",
    "2 3\n",
    "6 4\n",
    "7 4\n",
    "4 5\n",
    "3 5\n",
    "输出样例：\n",
    "5\n",
    "```"
   ]
  },
  {
   "cell_type": "markdown",
   "metadata": {},
   "source": [
    "## 十一、滑雪（记忆化搜索）\n",
    "```\n",
    "给定一个R行C列的矩阵，表示一个矩形网格滑雪场。\n",
    "\n",
    "矩阵中第 i 行第 j 列的点表示滑雪场的第 i 行第 j 列区域的高度。\n",
    "\n",
    "一个人从滑雪场中的某个区域内出发，每次可以向上下左右任意一个方向滑动一个单位距离。\n",
    "\n",
    "当然，一个人能够滑动到某相邻区域的前提是该区域的高度低于自己目前所在区域的高度。\n",
    "\n",
    "下面给出一个矩阵作为例子：\n",
    "\n",
    " 1  2  3  4 5\n",
    "\n",
    "16 17 18 19 6\n",
    "\n",
    "15 24 25 20 7\n",
    "\n",
    "14 23 22 21 8\n",
    "\n",
    "13 12 11 10 9\n",
    "在给定矩阵中，一条可行的滑行轨迹为24-17-2-1。\n",
    "\n",
    "在给定矩阵中，最长的滑行轨迹为25-24-23-…-3-2-1，沿途共经过25个区域。\n",
    "\n",
    "现在给定你一个二维矩阵表示滑雪场各区域的高度，请你找出在该滑雪场中能够完成的最长滑雪轨迹，并输出其长度(可经过最大区域数)。\n",
    "\n",
    "输入格式\n",
    "第一行包含两个整数R和C。\n",
    "\n",
    "接下来R行，每行包含C个整数，表示完整的二维矩阵。\n",
    "\n",
    "输出格式\n",
    "输出一个整数，表示可完成的最长滑雪长度。\n",
    "\n",
    "数据范围\n",
    "1≤R,C≤300,\n",
    "0≤矩阵中整数≤10000\n",
    "输入样例：\n",
    "5 5\n",
    "1 2 3 4 5\n",
    "16 17 18 19 6\n",
    "15 24 25 20 7\n",
    "14 23 22 21 8\n",
    "13 12 11 10 9\n",
    "输出样例：\n",
    "25\n",
    "```"
   ]
  },
  {
   "cell_type": "code",
   "execution_count": 10,
   "metadata": {},
   "outputs": [
    {
     "name": "stdout",
     "output_type": "stream",
     "text": [
      "5 5\n",
      "1 2 3 4 5\n",
      "16 17 18 19 6\n",
      "15 24 25 20 7\n",
      "14 23 22 21 8\n",
      "13 12 11 10 9\n",
      "25\n"
     ]
    }
   ],
   "source": [
    "# 1.输入示例\n",
    "r,c = map(int, input().split())\n",
    "\n",
    "arr = [[0 for i in range(c+1)] for j in range(r+1)]\n",
    "for i in range(1, r+1):\n",
    "    in_li = list(map(int, input().split()))   \n",
    "    for j in range(1, c+1):\n",
    "        arr[i][j] = in_li[j-1]\n",
    "               \n",
    "# 2. 初始化dp数组\n",
    "dp = [[-1 for i in range(c+1)] for j in range(r+1)]\n",
    "\n",
    "                 \n",
    "# 3.递归搜索\n",
    "dx = [-1,0,1,0]    # ！！！技巧：遍历方格的上下左右四个方向的技巧，新建两个这样的数组\n",
    "dy = [0,1,0,-1]\n",
    "\n",
    "def dfs(i,j):\n",
    "    if  dp[i][j]!=-1:    # 递归停止条件：表示点[i，j]已经搜索过了\n",
    "        return dp[i][j]\n",
    "    dp[i][j] = 1    # 初始化dp[i][j]等于1，表示路劲只包含[i,j]元素，长度为1\n",
    "    for d in range(4):\n",
    "        a = i+dx[d]\n",
    "        b = j+dy[d]\n",
    "        if a>=1 and a<=r and b>=1 and b<=c and arr[a][b]<arr[i][j]:    # !出错，最后要比较arr数组中移动一个位置前后的高度大小\n",
    "            dp[i][j] = max(dp[i][j], dfs(a,b)+1)    # 记忆化搜索是用递归实现\n",
    "    return dp[i][j]\n",
    "\n",
    "res = 0\n",
    "for i in range(1, r+1):\n",
    "    for j in range(1, c+1):\n",
    "        res = max(res, dfs(i,j))\n",
    "print(res)\n"
   ]
  },
  {
   "cell_type": "markdown",
   "metadata": {},
   "source": [
    "## 十二、计数问题\n",
    "```\n",
    "给定两个整数 a 和 b，求 a 和 b 之间的所有数字中0~9的出现次数。\n",
    "\n",
    "例如，a=1024，b=1032，则 a 和 b 之间共有9个数如下：\n",
    "\n",
    "1024 1025 1026 1027 1028 1029 1030 1031 1032\n",
    "\n",
    "其中‘0’出现10次，‘1’出现10次，‘2’出现7次，‘3’出现3次等等…\n",
    "\n",
    "输入格式\n",
    "输入包含多组测试数据。\n",
    "\n",
    "每组测试数据占一行，包含两个整数 a 和 b。\n",
    "\n",
    "当读入一行为0 0时，表示输入终止，且该行不作处理。\n",
    "\n",
    "输出格式\n",
    "每组数据输出一个结果，每个结果占一行。\n",
    "\n",
    "每个结果包含十个用空格隔开的数字，第一个数字表示‘0’出现的次数，第二个数字表示‘1’出现的次数，以此类推。\n",
    "\n",
    "数据范围\n",
    "0<a,b<100000000\n",
    "输入样例：\n",
    "1 10\n",
    "44 497\n",
    "346 542\n",
    "1199 1748\n",
    "1496 1403\n",
    "1004 503\n",
    "1714 190\n",
    "1317 854\n",
    "1976 494\n",
    "1001 1960\n",
    "0 0\n",
    "输出样例：\n",
    "1 2 1 1 1 1 1 1 1 1\n",
    "85 185 185 185 190 96 96 96 95 93\n",
    "40 40 40 93 136 82 40 40 40 40\n",
    "115 666 215 215 214 205 205 154 105 106\n",
    "16 113 19 20 114 20 20 19 19 16\n",
    "107 105 100 101 101 197 200 200 200 200\n",
    "413 1133 503 503 503 502 502 417 402 412\n",
    "196 512 186 104 87 93 97 97 142 196\n",
    "398 1375 398 398 405 499 499 495 488 471\n",
    "294 1256 296 296 296 296 287 286 286 247\n",
    "```"
   ]
  },
  {
   "cell_type": "code",
   "execution_count": 32,
   "metadata": {},
   "outputs": [
    {
     "name": "stdout",
     "output_type": "stream",
     "text": [
      "44 497\n",
      "85 185 185 185 190 96 96 96 95 93 0 0\n"
     ]
    }
   ],
   "source": [
    "\"\"\"\n",
    "基本思想：\n",
    "1. 计算a~b中不同数字出现的次数，可以转化为分别求1~a和1~b中不同数字出现的次数。\n",
    "2. 每种情况则可以按照数字n的个位、十位、百位...的取值与0~9不同数字的关系来分情况讨论，假设n=abcdefgh,然后分别求出数字1在n中每一位出现的次数\n",
    "    2.1 设数字n表示为xxxxeyyy,当x=0~abcd-1时，则yyy=000~999，即10^3,所以方案数为abcd*1000 = abc*pow(10,i)\n",
    "    2.2 当xxx=abc时：\n",
    "        2.2.1 当e<1时，abcd1yyy>abceyyy，所以方案数为0\n",
    "        2.2.2 当e=1时，ancdeyyy=abc1yyy,方案数为fgh+1\n",
    "        2.2.3 当e>1时，abcdeyyy的方案数为pow(10,i)\n",
    "\"\"\"\n",
    "def getNums(n):\n",
    "    \"\"\"\n",
    "    将整数n转换为一个数组\n",
    "    Example:\n",
    "        getNums(12345)-->nums = [5,4,3,2,1] \n",
    "    \"\"\"\n",
    "    nums = []\n",
    "    while n!=0:    # ！出错，这里不能写(n%10!=0),因为特例10不会返回[0,1],而是返回空列表\n",
    "        nums.append(n%10)\n",
    "        n = n//10\n",
    "    return nums\n",
    "\n",
    "def getInteger(nums, l, r):\n",
    "    \"\"\"\n",
    "    截取nums从l位到r位的整数\n",
    "    Return:\n",
    "        int\n",
    "    Exmple:\n",
    "        nums = [5,4,3,2,1]\n",
    "        getInteger(nums, 3, 1)    # l是十位，r是千位\n",
    "    \"\"\"\n",
    "    res = 0\n",
    "    for i in range(l,r-1,-1):\n",
    "        res = res*10 + nums[i]\n",
    "    return res\n",
    "\n",
    "def countX(n, x):\n",
    "    if n<=0:\n",
    "        return 0\n",
    "    nums = getNums(n)\n",
    "    length = len(nums)\n",
    "#     print(nums, length)    # nums=[0,1]\n",
    "    \n",
    "    # 遍历数字n的每一位\n",
    "    res = 0\n",
    "    for i in range(length-1, -1, -1): # 遍历nums的每一位\n",
    "#         if i<length-1:    # 这行可以删掉\n",
    "        res += getInteger(nums, length-1,i+1)*pow(10,i)    # ！！！出错：这里应该是+=，而不是=\n",
    "        if x==0:\n",
    "            res -= pow(10,i)\n",
    "        if nums[i]==x:    # 如果数字n的从个位开始的第i位nums[i]==x\n",
    "            res += getInteger(nums, i-1, 0) + 1\n",
    "#             print(res)\n",
    "        elif nums[i]>x:\n",
    "            res += pow(10,i)\n",
    "    return res\n",
    "    \n",
    "\n",
    "# 输入示例\n",
    "while True\n",
    "    a, b = map(int, input().split())    # n行,m列  # 2,4\n",
    "    if  a|b:  # a和b不同时为0时\n",
    "        if a<b:     # 如果a<b，交换两个数的位置，保证a>b\n",
    "            a,b = b,a\n",
    "        for x in range(10):    # 遍历数字0-9\n",
    "            res = countX(a, x) - countX(b-1, x)\n",
    "            print(res, end=\" \")\n",
    "            print()\n",
    "    else:\n",
    "        break"
   ]
  },
  {
   "cell_type": "markdown",
   "metadata": {},
   "source": [
    "### 类似题型：(牛客网)整数中1出现的次数（从1到n整数中1出现的次数）"
   ]
  },
  {
   "cell_type": "code",
   "execution_count": null,
   "metadata": {},
   "outputs": [],
   "source": [
    "\n",
    "# -*- coding:utf-8 -*-\n",
    "class Solution:\n",
    "    def NumberOf1Between1AndN_Solution(self, n):\n",
    "        # write code here\n",
    "        count = 0    # 记录10的count次方\n",
    "        sum_num = 0    # 记录1出现的总次数\n",
    "        lowValue = 1\n",
    "        midValue = 1\n",
    "        highValue = 1\n",
    "        while highValue!=0:    # 迭代数字n的各个位数，直到highValue==0停止\n",
    "            lowValue = n%pow(10,count)    # 将数字n的所有位数分为三个部分，分别是lowValue、midValue、highValue\n",
    "            midValue = (n//pow(10,count))%10\n",
    "            highValue = (n//pow(10,count+1))\n",
    "            if midValue==0:    # midValue==0的情况\n",
    "                num = (highValue+1-1)*pow(10,count)\n",
    "            elif midValue>1:    # midValue>1的情况\n",
    "                num = (highValue+1)*pow(10,count)\n",
    "            else:    # midValue==1的情况(该条件满足n等于1时的特殊情况)\n",
    "                num = highValue*pow(10,count)+lowValue+1\n",
    "            sum_num += num\n",
    "            count+=1\n",
    "        return sum_num"
   ]
  },
  {
   "cell_type": "markdown",
   "metadata": {},
   "source": [
    "# 5.最长回文子串"
   ]
  },
  {
   "cell_type": "code",
   "execution_count": 126,
   "metadata": {
    "scrolled": true
   },
   "outputs": [
    {
     "name": "stdout",
     "output_type": "stream",
     "text": [
      "abcba\n",
      "abcba\n"
     ]
    },
    {
     "name": "stderr",
     "output_type": "stream",
     "text": [
      "Source path:... <ipython-input-126-0aac7af9884b>\n",
      "Starting var:.. self = <__main__.Solution object at 0x1075a47f0>\n",
      "Starting var:.. s = 'abcba'\n",
      "11:00:30.335554 call        38     def longestPalindrome2(self, s):\n",
      "11:00:30.336285 line        43         length=len(s)\n",
      "New var:....... length = 5\n",
      "11:00:30.336373 line        44         if length<1:\n",
      "11:00:30.336451 line        46         max_len=0\n",
      "New var:....... max_len = 0\n",
      "11:00:30.336511 line        47         dp = [[False for i in range(length)] for j in range(length)]    # 注意，这里是两个列表推导式\n",
      "New var:....... dp = [[False, False, False, False, False], [False, Fa...lse, False], [False, False, False, False, False]]\n",
      "11:00:30.336736 line        48         for i in range(length):\n",
      "New var:....... i = 0\n",
      "11:00:30.336849 line        49             for j in range(i+1):\n",
      "New var:....... j = 0\n",
      "11:00:30.336939 line        50                 if(s[i]==s[j]):\n",
      "11:00:30.337044 line        51                     if(i-j<2):\n",
      "11:00:30.337117 line        52                         dp[i][j]=True\n",
      "Modified var:.. dp = [[True, False, False, False, False], [False, Fal...lse, False], [False, False, False, False, False]]\n",
      "11:00:30.337203 line        57                 if dp[i][j] and max_len<i-j+1:\n",
      "11:00:30.337298 line        58                     max_len=i-j+1\n",
      "Modified var:.. max_len = 1\n",
      "11:00:30.337371 line        59                     start=j\n",
      "New var:....... start = 0\n",
      "11:00:30.337455 line        49             for j in range(i+1):\n",
      "11:00:30.337648 line        48         for i in range(length):\n",
      "Modified var:.. i = 1\n",
      "11:00:30.337765 line        49             for j in range(i+1):\n",
      "11:00:30.337864 line        50                 if(s[i]==s[j]):\n",
      "11:00:30.337940 line        56                     dp[i][j]=False\n",
      "11:00:30.338019 line        57                 if dp[i][j] and max_len<i-j+1:\n",
      "11:00:30.338130 line        49             for j in range(i+1):\n",
      "Modified var:.. j = 1\n",
      "11:00:30.338205 line        50                 if(s[i]==s[j]):\n",
      "11:00:30.338300 line        51                     if(i-j<2):\n",
      "11:00:30.338376 line        52                         dp[i][j]=True\n",
      "Modified var:.. dp = [[True, False, False, False, False], [False, Tru...lse, False], [False, False, False, False, False]]\n",
      "11:00:30.338465 line        57                 if dp[i][j] and max_len<i-j+1:\n",
      "11:00:30.338555 line        49             for j in range(i+1):\n",
      "11:00:30.338628 line        48         for i in range(length):\n",
      "Modified var:.. i = 2\n",
      "11:00:30.338699 line        49             for j in range(i+1):\n",
      "Modified var:.. j = 0\n",
      "11:00:30.338785 line        50                 if(s[i]==s[j]):\n",
      "11:00:30.338870 line        56                     dp[i][j]=False\n",
      "11:00:30.338941 line        57                 if dp[i][j] and max_len<i-j+1:\n",
      "11:00:30.339012 line        49             for j in range(i+1):\n",
      "Modified var:.. j = 1\n",
      "11:00:30.339091 line        50                 if(s[i]==s[j]):\n",
      "11:00:30.339181 line        56                     dp[i][j]=False\n",
      "11:00:30.339260 line        57                 if dp[i][j] and max_len<i-j+1:\n",
      "11:00:30.339334 line        49             for j in range(i+1):\n",
      "Modified var:.. j = 2\n",
      "11:00:30.339407 line        50                 if(s[i]==s[j]):\n",
      "11:00:30.339497 line        51                     if(i-j<2):\n",
      "11:00:30.339577 line        52                         dp[i][j]=True\n",
      "11:00:30.339659 line        57                 if dp[i][j] and max_len<i-j+1:\n",
      "11:00:30.339928 line        49             for j in range(i+1):\n",
      "11:00:30.340005 line        48         for i in range(length):\n",
      "Modified var:.. i = 3\n",
      "11:00:30.340077 line        49             for j in range(i+1):\n",
      "Modified var:.. j = 0\n",
      "11:00:30.340164 line        50                 if(s[i]==s[j]):\n",
      "11:00:30.340249 line        56                     dp[i][j]=False\n",
      "11:00:30.340321 line        57                 if dp[i][j] and max_len<i-j+1:\n",
      "11:00:30.340405 line        49             for j in range(i+1):\n",
      "Modified var:.. j = 1\n",
      "11:00:30.340479 line        50                 if(s[i]==s[j]):\n",
      "11:00:30.340564 line        51                     if(i-j<2):\n",
      "11:00:30.340635 line        54                         dp[i][j]=dp[i-1][j+1]\n",
      "11:00:30.340705 line        57                 if dp[i][j] and max_len<i-j+1:\n",
      "11:00:30.340776 line        58                     max_len=i-j+1\n",
      "Modified var:.. max_len = 3\n",
      "11:00:30.340844 line        59                     start=j\n",
      "Modified var:.. start = 1\n",
      "11:00:30.340928 line        49             for j in range(i+1):\n",
      "Modified var:.. j = 2\n",
      "11:00:30.341013 line        50                 if(s[i]==s[j]):\n",
      "11:00:30.341096 line        56                     dp[i][j]=False\n",
      "11:00:30.341167 line        57                 if dp[i][j] and max_len<i-j+1:\n",
      "11:00:30.341237 line        49             for j in range(i+1):\n",
      "Modified var:.. j = 3\n",
      "11:00:30.341307 line        50                 if(s[i]==s[j]):\n",
      "11:00:30.341420 line        51                     if(i-j<2):\n",
      "11:00:30.341495 line        52                         dp[i][j]=True\n",
      "Modified var:.. dp = [[True, False, False, False, False], [False, Tru...rue, False], [False, False, False, False, False]]\n",
      "11:00:30.341566 line        57                 if dp[i][j] and max_len<i-j+1:\n",
      "11:00:30.341650 line        49             for j in range(i+1):\n",
      "11:00:30.341730 line        48         for i in range(length):\n",
      "Modified var:.. i = 4\n",
      "11:00:30.341805 line        49             for j in range(i+1):\n",
      "Modified var:.. j = 0\n",
      "11:00:30.341898 line        50                 if(s[i]==s[j]):\n",
      "11:00:30.342048 line        51                     if(i-j<2):\n",
      "11:00:30.342136 line        54                         dp[i][j]=dp[i-1][j+1]\n",
      "Modified var:.. dp = [[True, False, False, False, False], [False, Tru...True, False], [True, False, False, False, False]]\n",
      "11:00:30.342221 line        57                 if dp[i][j] and max_len<i-j+1:\n",
      "11:00:30.342319 line        58                     max_len=i-j+1\n",
      "Modified var:.. max_len = 5\n",
      "11:00:30.342397 line        59                     start=j\n",
      "Modified var:.. start = 0\n",
      "11:00:30.342489 line        49             for j in range(i+1):\n",
      "Modified var:.. j = 1\n",
      "11:00:30.342585 line        50                 if(s[i]==s[j]):\n",
      "11:00:30.342682 line        56                     dp[i][j]=False\n",
      "11:00:30.342770 line        57                 if dp[i][j] and max_len<i-j+1:\n",
      "11:00:30.342887 line        49             for j in range(i+1):\n",
      "Modified var:.. j = 2\n",
      "11:00:30.343056 line        50                 if(s[i]==s[j]):\n",
      "11:00:30.343256 line        56                     dp[i][j]=False\n",
      "11:00:30.343359 line        57                 if dp[i][j] and max_len<i-j+1:\n",
      "11:00:30.343449 line        49             for j in range(i+1):\n",
      "Modified var:.. j = 3\n",
      "11:00:30.343543 line        50                 if(s[i]==s[j]):\n",
      "11:00:30.343678 line        56                     dp[i][j]=False\n",
      "11:00:30.343789 line        57                 if dp[i][j] and max_len<i-j+1:\n",
      "11:00:30.343935 line        49             for j in range(i+1):\n",
      "Modified var:.. j = 4\n",
      "11:00:30.344138 line        50                 if(s[i]==s[j]):\n",
      "11:00:30.344262 line        51                     if(i-j<2):\n",
      "11:00:30.344382 line        52                         dp[i][j]=True\n",
      "Modified var:.. dp = [[True, False, False, False, False], [False, Tru... True, False], [True, False, False, False, True]]\n",
      "11:00:30.344519 line        57                 if dp[i][j] and max_len<i-j+1:\n",
      "11:00:30.344660 line        49             for j in range(i+1):\n",
      "11:00:30.344802 line        48         for i in range(length):\n",
      "11:00:30.344964 line        60         return s[start:start +max_len]\n",
      "11:00:30.345181 return      60         return s[start:start +max_len]\n",
      "Return value:.. 'abcba'\n"
     ]
    }
   ],
   "source": [
    "\"\"\"\n",
    "基本思想：\n",
    "动态规划\n",
    "1. 状态表示：\n",
    "    1.1 集合f[i,j]：表示所有字符子串string从[j,i]的所有子串，注意，这里i是子串结尾指针，j是子串的开头指针\n",
    "    1.2 属性：count-->最长回文子串\n",
    "2. 状态计算（状态转移方程）：\n",
    "    2.1 状态初始化：dp[i][i] = True； dp[j][j+1]= (s[j]==s[j+1]), 即 if i-j<2: dp[i][j] = True\n",
    "    2.2 状态转移方程：f[i][j] = f[i-1][j+1] and s[i]==s[j]\n",
    "\n",
    "\n",
    "\"\"\"\n",
    "class Solution:\n",
    "    \n",
    "    def longestPalindrome(self, s: str) -> str:\n",
    "        if len(s)<2:\n",
    "            return s\n",
    "        \n",
    "        length = len(s)\n",
    "        subStr = \"\"\n",
    "        maxLen = 0\n",
    "        dp = [[False for i in range(length)] for j in range(length)]    # 注意，这里是两个列表推导式\n",
    "        \n",
    "        for i in range(length):    # ！！！技巧：i是字符串结尾指针\n",
    "            for j in range(i+1):   # j是字符串开头指针，这样才能够在计算dp[i][j]时，dp[i-1][j+1]为已更新状态\n",
    "                if s[i] == s[j]:\n",
    "                    if i-j<2:\n",
    "                        dp[i][j] = True\n",
    "                    else:\n",
    "                        dp[i][j] = dp[i-1][j+1]\n",
    "                else:\n",
    "                    dp[i][j] = False\n",
    "                if dp[i][j] and maxLen<i-j+1:\n",
    "                    maxLen = i-j+1\n",
    "                    subStr = s[j:i+1]\n",
    "        return subStr\n",
    "    \n",
    "#     @pysnooper.snoop()\n",
    "    def longestPalindrome2(self, s):\n",
    "        \"\"\"\n",
    "        :type s: str\n",
    "        :rtype: str\n",
    "        \"\"\"   \n",
    "        length=len(s)\n",
    "        if length<1:\n",
    "            return s\n",
    "        max_len=0\n",
    "        dp = [[False for i in range(length)] for j in range(length)]    # 注意，这里是两个列表推导式\n",
    "        for i in range(length):\n",
    "            for j in range(i+1):\n",
    "                if(s[i]==s[j]):\n",
    "                    if(i-j<2):\n",
    "                        dp[i][j]=True\n",
    "                    else:\n",
    "                        dp[i][j]=dp[i-1][j+1]\n",
    "                else:\n",
    "                    dp[i][j]=False\n",
    "                if dp[i][j] and max_len<i-j+1:\n",
    "                    max_len=i-j+1\n",
    "                    start=j\n",
    "        return s[start:start +max_len]\n",
    "if __name__==\"__main__\":\n",
    "    s = Solution()\n",
    "    string = \"abcba\"\n",
    "    print(s.longestPalindrome(string))\n",
    "    print(s.longestPalindrome2(string))\n",
    "    "
   ]
  }
 ],
 "metadata": {
  "kernelspec": {
   "display_name": "Python 3",
   "language": "python",
   "name": "python3"
  },
  "language_info": {
   "codemirror_mode": {
    "name": "ipython",
    "version": 3
   },
   "file_extension": ".py",
   "mimetype": "text/x-python",
   "name": "python",
   "nbconvert_exporter": "python",
   "pygments_lexer": "ipython3",
   "version": "3.6.5"
  }
 },
 "nbformat": 4,
 "nbformat_minor": 2
}
