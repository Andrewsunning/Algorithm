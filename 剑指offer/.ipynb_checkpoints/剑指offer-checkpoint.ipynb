{
 "cells": [
  {
   "cell_type": "markdown",
   "metadata": {},
   "source": [
    "# 剑指offer刷题指南\n",
    "\n",
    "## 一. 数组  \n",
    "```\n",
    "1. 二维数组中的查找\n",
    "6. 非减序列的旋转数组的最小值\n",
    "13.调整数组顺序使奇数位于偶数前面\n",
    "28. 数组中出现次数超过一半的数字\n",
    "30.连续子数组的最大和\n",
    "32. 把数组排成最小的数\n",
    "35. 数组中的逆序对\n",
    "37. 数字在排序数组中出现的次数\n",
    "40. 数组中只出现一次的数字\n",
    "46.孩子们的游戏(圆圈中最后剩下的数)\n",
    "50. 数组中重复的数字\n",
    "51. 构建乘积数组\n",
    "```\n",
    "\n",
    "## 二. 链表（包括栈和队列）\n",
    "```\n",
    "3.从尾到头打印链表\n",
    "5. 两个栈实现队列\n",
    "14. 链表中倒数第k个结点\n",
    "15. 反转链表\n",
    "16. 合并两个排序的链表\n",
    "20. 包含min函数的栈\n",
    "21.栈的压入、弹出序列\n",
    "25. 复杂链表的赋值\n",
    "26. 二叉搜索树与双向链表\n",
    "36. 两个链表的第一个公共结点\n",
    "55. 链表中环的入口结点\n",
    "56. 删除链表中重复的结点\n",
    "```\n",
    "\n",
    "## 三. 二叉树\n",
    "```\n",
    "4. 利用二叉树的前序和中序遍历结果，重建二叉树\n",
    "17.树的子结构\n",
    "18. 二叉树的镜像\n",
    "22. 从上往下打印二叉树\n",
    "23. 二叉搜索树的后序遍历序列\n",
    "24. here!!! 二叉树中和为某一值的路径\n",
    "26. 二叉搜索树与双向链表\n",
    "38. 二叉树的深度\n",
    "39. 平衡二叉树\n",
    "57. 二叉树的下一个结点\n",
    "58. 对称的二叉树\n",
    "59. 按之字形顺序打印二叉树\n",
    "60. 把二叉树打印成多行\n",
    "61. 序列化二叉树\n",
    "62. 二叉搜索树的第k个结点\n",
    "```\n",
    "\n",
    "## 四. 图\n",
    "\n",
    "\n",
    "## 五. 字符串\n",
    "```\n",
    "2. 替换空格\n",
    "27. 字符串的排列\n",
    "34. 第一个只出现一次的字符\n",
    "43.左旋转字符串\n",
    "44.翻转单词顺序列\n",
    "49. 把字符串转换成整数\n",
    "52. 正则表达式匹配\n",
    "53. 表示数值的字符串\n",
    "54. 字符流中第一个不重复的字符\n",
    "```\n",
    "\n",
    "## 六. DP算法\n",
    "```\n",
    "7.菲波那切数列的第n项\n",
    "8. 跳台阶\n",
    "9. 变态跳台阶\n",
    "10.矩形覆盖\n",
    "52. 正则表达式匹配\n",
    "67. 剪绳子\n",
    "```\n",
    "\n",
    "## 七. 回溯法（深度优先搜索）\n",
    "```\n",
    "65. 矩阵中的路径\n",
    "66. 机器人的运动范围\n",
    "```\n",
    "\n",
    "## 八. 递归\n",
    "```\n",
    "4. 利用二叉树的前序和中序遍历结果，重建二叉树\n",
    "```\n",
    "\n",
    "## 九. 二进制 \n",
    "```\n",
    "11.二进制中1的个数\n",
    "```\n",
    "\n",
    "## 十. 数值规律\n",
    "```\n",
    "12.数值的整数次方  \n",
    "29. 最小的K个数\n",
    "31. 整数中1出现的次数（从1到n整数中1出现的次数）\n",
    "33. 丑数\n",
    "41. 和为S的连续正数序列\n",
    "42.和为S的两个数字\n",
    "45.扑克牌顺子\n",
    "47. 求1+2+3+...+n  \n",
    "48.不用加减乘除做加法\n",
    "63. 数据流中的中位数\n",
    "64. 滑动窗口的最大值\n",
    "```\n",
    "\n",
    "## 十一. 矩阵\n",
    "```\n",
    "19. 顺时针打印矩阵\n",
    "65. 矩阵中的路径\n",
    "66. 机器人的运动范围\n",
    "```"
   ]
  },
  {
   "cell_type": "code",
   "execution_count": 7,
   "metadata": {},
   "outputs": [],
   "source": [
    "import os, sys\n",
    "sys.path.append(os.path.dirname(os.path.dirname(os.path.abspath(\"__file__\"))))\n",
    "import DataStructure"
   ]
  },
  {
   "cell_type": "markdown",
   "metadata": {},
   "source": [
    "## 1. 二维数组中的查找"
   ]
  },
  {
   "cell_type": "code",
   "execution_count": null,
   "metadata": {},
   "outputs": [],
   "source": [
    "\"\"\"\n",
    "基本思想：\n",
    "观察元素的关系，发现从右上角或左下角元素开始查找比较好，因为对于右上角的元素，同一行的比该元素小，同一列的比该元素大，保证了元素之间的相对顺序\n",
    "\"\"\"\n",
    "# -*- coding:utf-8 -*-\n",
    "class Solution:\n",
    "    # array 二维列表\n",
    "    def Find(self, target, array):\n",
    "        rows = len(array)\n",
    "        cols = len(array[0])\n",
    "        row = 0\n",
    "        col = cols-1\n",
    "        while (row>-1 and row<rows) and (col>-1 and col<cols):\n",
    "            if array[row][col]==target:\n",
    "                return True\n",
    "            elif array[row][col]>target:\n",
    "                col-=1\n",
    "            else:\n",
    "                row+=1\n",
    "        return False"
   ]
  },
  {
   "cell_type": "code",
   "execution_count": null,
   "metadata": {},
   "outputs": [],
   "source": [
    "# -*- coding:utf-8 -*-\n",
    "class Solution:\n",
    "    # array 二维列表\n",
    "    def Find(self, target, array):\n",
    "        # write code here\n",
    "        rows = len(array)\n",
    "        cols = len(array[0])\n",
    "        \n",
    "        row = 0\n",
    "        col = cols-1\n",
    "        while row<rows and col>=0:\n",
    "            if array[row][col]<target:\n",
    "                row+=1\n",
    "            elif array[row][col]>target:\n",
    "                col-=1\n",
    "            else:\n",
    "                return True\n",
    "        return False"
   ]
  },
  {
   "cell_type": "markdown",
   "metadata": {},
   "source": [
    "## 2. 替换空格"
   ]
  },
  {
   "cell_type": "code",
   "execution_count": 1,
   "metadata": {},
   "outputs": [],
   "source": [
    "s = \"abcdefab\"\n"
   ]
  },
  {
   "cell_type": "code",
   "execution_count": 3,
   "metadata": {},
   "outputs": [
    {
     "data": {
      "text/plain": [
       "'12bcdef12b'"
      ]
     },
     "execution_count": 3,
     "metadata": {},
     "output_type": "execute_result"
    }
   ],
   "source": [
    "s.replace(\"a\",\"12\")"
   ]
  },
  {
   "cell_type": "code",
   "execution_count": null,
   "metadata": {},
   "outputs": [],
   "source": [
    "# -*- coding:utf-8 -*-\n",
    "\"\"\"\n",
    "基本思想：\n",
    "借助一个空字符串s_1，遍历原字符串s实现相对的替换操作\n",
    "\"\"\"\n",
    "class Solution:\n",
    "    # s 源字符串\n",
    "    def replaceSpace(self, s):\n",
    "        # write code here\n",
    "        # 实例化一个空字符串\n",
    "        s_1 = \"\"\n",
    "        # 遍历原始字符串s\n",
    "        for i in range(len(s)):\n",
    "            if s[i]==\" \":    # 如果遇到空格，则将%20追加到s_1中\n",
    "                s_1 = s_1+\"%20\"\n",
    "            else:    # 如果不为空格，则直接将字符追加到s_1中；\n",
    "                s_1 = s_1+s[i]\n",
    "        return s_1"
   ]
  },
  {
   "cell_type": "code",
   "execution_count": 9,
   "metadata": {
    "scrolled": true
   },
   "outputs": [
    {
     "name": "stdout",
     "output_type": "stream",
     "text": [
      "2\n"
     ]
    },
    {
     "data": {
      "text/plain": [
       "'123 456 78%202'"
      ]
     },
     "execution_count": 9,
     "metadata": {},
     "output_type": "execute_result"
    }
   ],
   "source": [
    "# -*- coding:utf-8 -*-\n",
    "class Solution:\n",
    "    # s 源字符串\n",
    "    def replaceSpace(self, s):\n",
    "        # write code here\n",
    "        old_length = len(s)\n",
    "        if old_length==0:\n",
    "            return\n",
    "        # 计算字符串s中空格数量\n",
    "        space_count = 0\n",
    "        for ch in s:\n",
    "            if ch==\" \":\n",
    "                space_count+=1\n",
    "        new_length = old_length + space_count*2\n",
    "        print(space_count)\n",
    "        # 为s扩容到new_length，用\"*\"扩容\n",
    "        s += \"*\"*2*space_count\n",
    "        indexOfOriginal = old_length-1\n",
    "        indexOfNew = new_length-1\n",
    "        while indexOfOriginal>0 and indexOfOriginal<indexOfNew:\n",
    "            if s[indexOfOriginal]==\" \":\n",
    "                s = s[:indexOfNew-3]+\"%20\"+s[indexOfNew+1:]   # 这里不对\n",
    "#                 s[indexOfNew] = \"0\"\n",
    "#                 indexOfNew -= 1\n",
    "#                 s[indexOfNew] = \"2\"\n",
    "#                 indexOfNew -= 1\n",
    "#                 s[indexOfNew] = \"%\"\n",
    "#                 indexOfNew -= 1\n",
    "            else:\n",
    "                s = s[:indexOfNew]+s[indexOfOriginal]+s[indexOfNew+1:]\n",
    "#                 s[indexOfNew] = s[indexOfOriginal]    # 出错，python中字符串是不可变对象，所以不能直接改变\n",
    "            indexOfOriginal-=1\n",
    "        return s\n",
    "so = Solution()\n",
    "so.replaceSpace('123 456 78')"
   ]
  },
  {
   "cell_type": "markdown",
   "metadata": {},
   "source": [
    "## 3.从尾到头打印链表"
   ]
  },
  {
   "cell_type": "code",
   "execution_count": null,
   "metadata": {},
   "outputs": [],
   "source": [
    "# -*- coding:utf-8 -*-\n",
    "# class ListNode:\n",
    "#     def __init__(self, x):\n",
    "#         self.val = x\n",
    "#         self.next = None\n",
    "\n",
    "class Solution:\n",
    "    # 返回从尾部到头部的列表值序列，例如[1,2,3]\n",
    "    def printListFromTailToHead(self, listNode):\n",
    "        # write code here\n",
    "        alist = []\n",
    "        while listNode is not None:\n",
    "            alist.insert(0, listNode.val)\n",
    "            listNode = listNode.next\n",
    "        return alist"
   ]
  },
  {
   "cell_type": "markdown",
   "metadata": {},
   "source": [
    "## 4. 利用二叉树的前序和中序遍历结果，重建二叉树"
   ]
  },
  {
   "cell_type": "code",
   "execution_count": 12,
   "metadata": {},
   "outputs": [],
   "source": [
    "\"\"\"\n",
    "基本思想：\n",
    "递归思想；\n",
    "前序遍历的首节点为根节点；\n",
    "中序遍历的根节点左右对应左右子树节点\n",
    "\"\"\"\n",
    "#-*- coding:utf-8 -*-\n",
    "class TreeNode:\n",
    "    def __init__(self, x):\n",
    "        self.val = x\n",
    "        self.left = None\n",
    "        self.right = None\n",
    "class Solution:\n",
    "    # 返回构造的TreeNode根节点\n",
    "    def reConstructBinaryTree(self, pre, tin):\n",
    "        # write code here\n",
    "        if not pre and not tin:    # 递归停止条件，前序和中序子序列均为空\n",
    "            return\n",
    "        root = TreeNode(pre[0])    # 前序遍历的第一个元素为根节点元素；    ！！！出错：这里不能用pre.pop(0),因为这样会导致tin的索引与pre的索引不一致，不能用index去索引pre\n",
    "        index = tin.index(pre[0])    # 利用中序遍历结果和根节点元素所在位置将左右子树分开\n",
    "        # 利用递归，利用子序列继续构建左右子树\n",
    "        root.left = self.reConstructBinaryTree(pre[1:index+1], tin[:index])    # !!!出错：pre的索引错了，应该是pre[1:index+1]，而不是pre[1:]\n",
    "        root.right = self.reConstructBinaryTree(pre[index+1:], tin[index+1:])\n",
    "        return root    # 返回二叉树的根节点\n",
    "if __name__==\"__main__\":\n",
    "    s = Solution()\n",
    "    root = s.reConstructBinaryTree([1,2,4,7,3,5,6,8], [4,7,2,1,5,3,8,6])\n"
   ]
  },
  {
   "cell_type": "code",
   "execution_count": null,
   "metadata": {},
   "outputs": [],
   "source": [
    "# -*- coding:utf-8 -*-\n",
    "# class TreeNode:\n",
    "#     def __init__(self, x):\n",
    "#         self.val = x\n",
    "#         self.left = None\n",
    "#         self.right = None\n",
    "class Solution:\n",
    "    # 返回构造的TreeNode根节点\n",
    "    def reConstructBinaryTree(self, pre, tin):\n",
    "        # write code here\n",
    "        if not pre and not tin:\n",
    "            return\n",
    "        \n",
    "        x = pre[0]\n",
    "        tin_index = tin.index(x)\n",
    "        node = TreeNode(x)\n",
    "        node.left = self.reConstructBinaryTree(pre[1:tin_index+1], tin[:tin_index])\n",
    "        node.right = self.reConstructBinaryTree(pre[tin_index+1:], tin[tin_index+1:])\n",
    "        \n",
    "        return node"
   ]
  },
  {
   "cell_type": "markdown",
   "metadata": {},
   "source": [
    "## 5. 两个栈实现队列"
   ]
  },
  {
   "cell_type": "code",
   "execution_count": 17,
   "metadata": {},
   "outputs": [
    {
     "name": "stdout",
     "output_type": "stream",
     "text": [
      "[1, 2, 3]\n",
      "[1, 2, 3, 4]\n",
      "[]\n",
      "\n",
      "1\n",
      "2\n",
      "3\n",
      "4\n"
     ]
    }
   ],
   "source": [
    "\"\"\"\n",
    "基本思想：\n",
    "两个栈，stack1实现入队操作，stack2实现出队操作；\n",
    "stack2实现出队时如果其不为空，则在其本身出栈，如果为空，则将stack1中的元素从尾至头添加到stack2中\n",
    "\"\"\"\n",
    "# -*- coding:utf-8 -*-\n",
    "class Solution:\n",
    "    def __init__(self):\n",
    "        self.stack1 = []\n",
    "        self.stack2 = []\n",
    "    def push(self, node):\n",
    "        # write code here\n",
    "        self.stack1.append(node)\n",
    "    def pop(self):\n",
    "        # return xx\n",
    "        # 先判断stack2是否为空，如果不为空，则直接弹出其最后一个元素；如果为空，则将是他stack1中的所有元素压入到stack2中\n",
    "        if len(self.stack2)!=0:\n",
    "            return self.stack2.pop()\n",
    "        else:\n",
    "            while len(self.stack1)!=0:\n",
    "                self.stack2.append(self.stack1.pop())\n",
    "            return self.stack2.pop()\n",
    "if __name__==\"__main__\":\n",
    "    s = Solution([1,2,3])\n",
    "    print(s.stack1)    # [1, 2, 3]\n",
    "    s.push(4)\n",
    "    print(s.stack1)    # [1, 2, 3, 4]\n",
    "    print(s.stack2)    # []\n",
    "    print()\n",
    "    print(s.pop())    # 1\n",
    "    print(s.pop())    # 2\n",
    "    print(s.pop())    # 3\n",
    "    print(s.pop())    # 4"
   ]
  },
  {
   "cell_type": "markdown",
   "metadata": {},
   "source": [
    "## 6. 非减序列的旋转数组的最小值"
   ]
  },
  {
   "cell_type": "code",
   "execution_count": 21,
   "metadata": {},
   "outputs": [
    {
     "name": "stdout",
     "output_type": "stream",
     "text": [
      "0\n",
      "1\n"
     ]
    }
   ],
   "source": [
    "\"\"\"\n",
    "基本思想：\n",
    "类比于凸函数查找最小值，\n",
    "可对二分查找算法进行修改以实现目标\n",
    "\"\"\"\n",
    "# -*- coding:utf-8 -*-\n",
    "class Solution:\n",
    "    def minNumberInRotateArray(self, rotateArray):\n",
    "        # write code here\n",
    "        if not rotateArray:\n",
    "            return 0\n",
    "        start = 0\n",
    "        end = len(rotateArray) - 1\n",
    "        while start<=end:\n",
    "            mid = (start+end)//2\n",
    "            if rotateArray[mid]<rotateArray[mid-1]:    # 若mid个元素小于mid-1个元素，则mid个元素为最小值\n",
    "                return rotateArray[mid]\n",
    "            elif rotateArray[mid]<=rotateArray[end]:    # 若第mid个元素小于等于第end个元素，则最小元素在mid的左侧，eg[1,1,1,0,1,1]\n",
    "                end = mid - 1\n",
    "            else:    # 若第mid个元素大于第end个元素，则最小元素在mid的右侧,eg[6,1,2,3,4,5]\n",
    "                start = mid + 1\n",
    "        return 0\n",
    "    \n",
    "if __name__==\"__main__\":\n",
    "    s = Solution()\n",
    "    li_1 = [1,1,1,0,0,1]\n",
    "    print(s.minNumberInRotateArray(li_1))\n",
    "    \n",
    "    li_2 = [6,1,2,3,4,5]\n",
    "    print(s.minNumberInRotateArray(li_2))"
   ]
  },
  {
   "cell_type": "markdown",
   "metadata": {},
   "source": [
    "## 7.菲波那切数列的第n项"
   ]
  },
  {
   "cell_type": "code",
   "execution_count": 8,
   "metadata": {},
   "outputs": [
    {
     "name": "stdout",
     "output_type": "stream",
     "text": [
      "0\n",
      "2\n"
     ]
    }
   ],
   "source": [
    "# -*- coding:utf-8 -*-\n",
    "class Solution:\n",
    "    def Fibonacci_1(self, n):    # 太慢了\n",
    "        # write code here\n",
    "        if n<=1:\n",
    "            return n\n",
    "        result = self.Fibonacci(n-1)+self.Fibonacci(n-2)\n",
    "        return result\n",
    "    \n",
    "    def Fibonacci_2(self, n):    # 动态规划\n",
    "        # write code here\n",
    "        dp = [0,1]\n",
    "        i = 1\n",
    "        while i<n:\n",
    "            dp.append(dp[i-1] + dp[i])   # f(i+1) = f(i-1) + f(i)\n",
    "            i+=1\n",
    "        return dp[n]\n",
    "    \n",
    "    def Fibonacci_3(self, n):    # 双指针\n",
    "        # write code here\n",
    "        if n==0:\n",
    "            return 0\n",
    "        pre = 0\n",
    "        real = 1\n",
    "        i = 2\n",
    "        while i<n+1:\n",
    "            tmp = pre+real\n",
    "            pre = real\n",
    "            real = tmp\n",
    "            i+=1\n",
    "        return real\n",
    "if __name__==\"__main__\":\n",
    "    s = Solution()\n",
    "    print(s.Fibonacci_2(0))\n",
    "    print(s.Fibonacci_3(3))"
   ]
  },
  {
   "cell_type": "markdown",
   "metadata": {},
   "source": [
    "## 8.跳台阶"
   ]
  },
  {
   "cell_type": "code",
   "execution_count": 11,
   "metadata": {},
   "outputs": [
    {
     "name": "stdout",
     "output_type": "stream",
     "text": [
      "8\n"
     ]
    }
   ],
   "source": [
    "\"\"\"\n",
    "基本思想：\n",
    "菲波那切数列\n",
    "\"\"\"\n",
    "# -*- coding:utf-8 -*-\n",
    "class Solution:\n",
    "    def jumpFloor(self, number):    # 动态规划求解\n",
    "        # write code here\n",
    "        dp = [1,2]\n",
    "        i = 2\n",
    "        while i < number:\n",
    "            dp.append(dp[i-1] + dp[i-2])\n",
    "            i += 1\n",
    "        return dp[number-1]\n",
    "if __name__==\"__main__\":\n",
    "    s = Solution()\n",
    "    print(s.jumpFloor(5))"
   ]
  },
  {
   "cell_type": "markdown",
   "metadata": {},
   "source": [
    "## 9. 变态跳台阶"
   ]
  },
  {
   "cell_type": "code",
   "execution_count": 10,
   "metadata": {},
   "outputs": [
    {
     "name": "stdout",
     "output_type": "stream",
     "text": [
      "4\n"
     ]
    }
   ],
   "source": [
    "\"\"\"\n",
    "基本思想：\n",
    "f(n)=2*f(n-1)=2*2*f(n-2)......\n",
    "\n",
    "\"\"\"\n",
    "# -*- coding:utf-8 -*-\n",
    "class Solution:\n",
    "    def jumpFloorII(self, number):\n",
    "        # write code here\n",
    "        return pow(2,number-1)\n",
    "if __name__==\"__main__\":\n",
    "    s = Solution()\n",
    "    print(s.jumpFloorII(3))"
   ]
  },
  {
   "cell_type": "markdown",
   "metadata": {},
   "source": [
    "## 10.矩形覆盖"
   ]
  },
  {
   "cell_type": "code",
   "execution_count": 9,
   "metadata": {},
   "outputs": [
    {
     "name": "stdout",
     "output_type": "stream",
     "text": [
      "8\n"
     ]
    }
   ],
   "source": [
    "\"\"\"\n",
    "基本思想：\n",
    "菲波那切数列\n",
    "\"\"\"\n",
    "# -*- coding:utf-8 -*-\n",
    "class Solution:\n",
    "    def rectCover(self, number):    # 动态规划\n",
    "        # write code here\n",
    "        if number==0:\n",
    "            return 0\n",
    "        dp = [1,2]\n",
    "        i = 2\n",
    "        while i<number:\n",
    "            dp.append(dp[i-1] + dp[i-2])\n",
    "            i+=1\n",
    "        return dp[number-1]\n",
    "if __name__==\"__main__\":\n",
    "    s = Solution()\n",
    "    print(s.rectCover(5))"
   ]
  },
  {
   "cell_type": "markdown",
   "metadata": {},
   "source": [
    "## 11.二进制中1的个数"
   ]
  },
  {
   "cell_type": "code",
   "execution_count": 35,
   "metadata": {},
   "outputs": [
    {
     "name": "stdout",
     "output_type": "stream",
     "text": [
      "1\n",
      "1\n"
     ]
    }
   ],
   "source": [
    "# -*- coding:utf-8 -*-\n",
    "class Solution:\n",
    "    def NumberOf1_2(self, n):\n",
    "        # write code here\n",
    "        # s = self.binary(n)\n",
    "        n = n & 0xffffffff    # 只保留32位的二进制位，其他的都省略\n",
    "        count = 0\n",
    "        for ch in str(bin(n)):\n",
    "            if ch==\"1\":\n",
    "                count+=1\n",
    "        return count\n",
    "    def NumberOf1(self, n):\n",
    "        count = 0\n",
    "        for i in range(32):    # 遍历32位数\n",
    "            mask = 1<<i    # 1向右移动i位，eg：i=3时，mask=0b1000=8\n",
    "            if n & mask!=0:\n",
    "                count+=1\n",
    "        return count\n",
    "if __name__==\"__main__\":\n",
    "    s = Solution()\n",
    "    print(s.NumberOf1(8))\n",
    "    print(s.NumberOf1_2(8))"
   ]
  },
  {
   "cell_type": "code",
   "execution_count": 37,
   "metadata": {},
   "outputs": [
    {
     "data": {
      "text/plain": [
       "'10'"
      ]
     },
     "execution_count": 37,
     "metadata": {},
     "output_type": "execute_result"
    }
   ],
   "source": [
    "# 将正整数n转换为二进制表示的字符串\n",
    "def binary(n):\n",
    "    if n==0:\n",
    "        return \"0\"\n",
    "    li_0_1 = []\n",
    "    while n//2!=0:\n",
    "        li_0_1.insert(0,str(n%2))\n",
    "        n=n//2\n",
    "    li_0_1.insert(0,\"1\")\n",
    "    return \"\".join(li_0_1)\n",
    "binary(2)"
   ]
  },
  {
   "cell_type": "markdown",
   "metadata": {},
   "source": [
    "## 12.数值的整数次方"
   ]
  },
  {
   "cell_type": "code",
   "execution_count": 39,
   "metadata": {},
   "outputs": [
    {
     "name": "stdout",
     "output_type": "stream",
     "text": [
      "64\n"
     ]
    }
   ],
   "source": [
    "# -*- coding:utf-8 -*-\n",
    "class Solution:\n",
    "    def Power(self, base, exponent):\n",
    "        # write code here\n",
    "        return pow(base, exponent)\n",
    "if __name__==\"__main__\":\n",
    "    s = Solution()\n",
    "    print(s.Power(8,2))"
   ]
  },
  {
   "cell_type": "markdown",
   "metadata": {},
   "source": [
    "## 13.调整数组顺序使奇数位于偶数前面\n",
    "* 题目描述  \n",
    "输入一个整数数组，实现一个函数来调整该数组中数字的顺序，使得所有的奇数位于数组的前半部分，所有的偶数位于数组的后半部分，并保证奇数和奇数，偶数和偶数之间的相对位置不变。"
   ]
  },
  {
   "cell_type": "code",
   "execution_count": 41,
   "metadata": {},
   "outputs": [
    {
     "name": "stdout",
     "output_type": "stream",
     "text": [
      "[1, 3, 2]\n"
     ]
    }
   ],
   "source": [
    "# -*- coding:utf-8 -*-\n",
    "class Solution:\n",
    "    def reOrderArray(self, array):\n",
    "        # write code here\n",
    "        order_li = [0 for x in range(len(array))]    # array为空数组时，order_li也为空数组，符合特殊情况\n",
    "        odd_count = 0    # 计数array中奇数的个数\n",
    "        for v in array:\n",
    "            if v%2!=0:\n",
    "                odd_count+=1\n",
    "        odd_index = 0    # 奇数的起始填充索引\n",
    "        even_index = odd_count    # 偶数的起始填充索引\n",
    "        for v in array:\n",
    "            if v%2==0:\n",
    "                order_li[even_index] = v\n",
    "                even_index += 1\n",
    "            else:\n",
    "                order_li[odd_index] = v\n",
    "                odd_index+=1\n",
    "        return order_li\n",
    "if __name__==\"__main__\":\n",
    "    s = Solution()\n",
    "    print(s.reOrderArray([1,2,3]))"
   ]
  },
  {
   "cell_type": "markdown",
   "metadata": {},
   "source": [
    "## 14. 链表中倒数第k个结点\n",
    "* 题目描述  \n",
    "输入一个链表，输出该链表中倒数第k个结点。"
   ]
  },
  {
   "cell_type": "code",
   "execution_count": 61,
   "metadata": {},
   "outputs": [],
   "source": [
    "### 待补充，双指针方法"
   ]
  },
  {
   "cell_type": "code",
   "execution_count": 30,
   "metadata": {
    "scrolled": false
   },
   "outputs": [
    {
     "name": "stdout",
     "output_type": "stream",
     "text": [
      "0 1 2 3 4 5 6 7 \n",
      "6\n"
     ]
    }
   ],
   "source": [
    "\"\"\"\n",
    "基本思想：\n",
    "计算链表倒数第k个节点，等价于计算链表正数第n-k个节点；\n",
    "先计算链表长度n，然后再计算第n-k个节点\n",
    "\n",
    "\"\"\"\n",
    "\n",
    "# -*- coding:utf-8 -*-\n",
    "# class ListNode:\n",
    "#     def __init__(self, x):\n",
    "#         self.val = x\n",
    "#         self.next = None\n",
    "\n",
    "class Solution:\n",
    "    def FindKthToTail(self, head, k):\n",
    "        # write code here\n",
    "        if head is None:\n",
    "            return\n",
    "        cur = head\n",
    "        n = 0    # 出错，在计算链表长度时，如果循环条件是while cur is not None，那么count要从0开始\n",
    "        while cur is not None:\n",
    "            cur = cur.next\n",
    "            n+=1\n",
    "        if k>n:    # k超过链表的长度\n",
    "            return\n",
    "        else:\n",
    "            cur_2 = head\n",
    "            index = 0\n",
    "            while index<n-k:\n",
    "                cur_2 = cur_2.next\n",
    "                index += 1\n",
    "            return cur_2.val\n",
    "if __name__==\"__main__\":\n",
    "    node = DataStructure.Node(0)\n",
    "    ll = DataStructure.SingleLinkList(node)\n",
    "    ll.append(1)\n",
    "    ll.append(2)\n",
    "    ll.append(3)\n",
    "    ll.append(4)\n",
    "    ll.append(5)\n",
    "    ll.append(6)\n",
    "    ll.append(7)\n",
    "    ll.travel()\n",
    "    \n",
    "    s = Solution()\n",
    "    print()\n",
    "    print(s.FindKthToTail(node, 2))"
   ]
  },
  {
   "cell_type": "markdown",
   "metadata": {},
   "source": [
    "## 15. 反转链表\n",
    "* 题目描述：  \n",
    "输入一个链表，反转链表后，输出新链表的表头。"
   ]
  },
  {
   "cell_type": "code",
   "execution_count": 65,
   "metadata": {},
   "outputs": [
    {
     "name": "stdout",
     "output_type": "stream",
     "text": [
      "0 1 2 3 4 5 6 7 \n",
      "7\n"
     ]
    }
   ],
   "source": [
    "# -*- coding:utf-8 -*-\n",
    "# class ListNode:\n",
    "#     def __init__(self, x):\n",
    "#         self.val = x\n",
    "#         self.next = None\n",
    "class Solution:\n",
    "    # 返回ListNode\n",
    "    def ReverseList(self, pHead):\n",
    "        # write code here\n",
    "        if (pHead is None) or (pHead.next is None):    # 考虑空链表和只有一个节点的链表，直接返回头节点返回\n",
    "            return pHead\n",
    "        else:\n",
    "            left = None\n",
    "            cur = pHead\n",
    "            right = pHead.next    # 定义三个指针实现链表反转\n",
    "            while right is not None:\n",
    "                cur.next = left    # 反转操作\n",
    "                left = cur    # 指针移动\n",
    "                cur = right    # 指针移动\n",
    "                right = right.next    # 指针移动\n",
    "            cur.next = left    # right==None时，让cur.next指向left\n",
    "            return cur\n",
    "if __name__==\"__main__\":\n",
    "    node = DataStructure.Node(0)\n",
    "    ll = DataStructure.SingleLinkList(node)\n",
    "    ll.append(1)\n",
    "    ll.append(2)\n",
    "    ll.append(3)\n",
    "    ll.append(4)\n",
    "    ll.append(5)\n",
    "    ll.append(6)\n",
    "    ll.append(7)\n",
    "    ll.travel()\n",
    "    \n",
    "    s = Solution()\n",
    "    print()\n",
    "    print(s.ReverseList(node).elem)    # 输出反转后的头结点"
   ]
  },
  {
   "cell_type": "markdown",
   "metadata": {},
   "source": [
    "## 16. 合并两个排序的链表\n",
    "* 题目描述：  \n",
    "输入两个单调递增的链表，输出两个链表合成后的链表，当然我们需要合成后的链表满足单调不减规则。"
   ]
  },
  {
   "cell_type": "code",
   "execution_count": 70,
   "metadata": {},
   "outputs": [
    {
     "name": "stdout",
     "output_type": "stream",
     "text": [
      "\n",
      "1\n"
     ]
    }
   ],
   "source": [
    "\"\"\"\n",
    "基本思想：\n",
    "1.\n",
    "一个指针prev始终指向合并链表的最后一个节点\n",
    "两个指针pTmp1和pTmp2分别指向两个未合并子链表的头结点\n",
    "当其中一个指针为None时，将另一个链表添加到prev之后\n",
    "\n",
    "2.\n",
    "递归实现时，子问题是两个头结点中值较小的节点为合并链表的头结点；\n",
    "递归停止条件是有一个头结点针指向None\n",
    "\"\"\"\n",
    "\n",
    "# -*- coding:utf-8 -*-\n",
    "# class ListNode:\n",
    "#     def __init__(self, x):\n",
    "#         self.val = x\n",
    "#         self.next = None\n",
    "class Solution:\n",
    "    # 返回合并后列表\n",
    "    def Merge(self, pHead1, pHead2):    # 循环实现\n",
    "        # write code here\n",
    "        if pHead1 is None:    # 考虑两个链表分别为空链表的情况\n",
    "            return pHead2\n",
    "        if pHead2 is None:\n",
    "            return pHead1\n",
    "        newHead = pHead1 if pHead1.val<pHead2.val else pHead2    # 合并链表的头节点为两个链表头节点的较小节点\n",
    "        if newHead == pHead1:    # 设置两个指针pTmp1、pTmp2，分别指向未合并的两个链表的头节点\n",
    "            pTmp1 = newHead.next\n",
    "            pTmp2 = pHead2\n",
    "        else:\n",
    "            pTmp1 = pHead1\n",
    "            pTmp2 = newHead.next\n",
    "        prev = newHead    # prev始终指向合并链表的最后一个节点\n",
    "        while pTmp1 and pTmp2:\n",
    "            if pTmp1.val>pTmp2.val:\n",
    "                prev.next = pTmp2\n",
    "                prev = pTmp2\n",
    "                pTmp2 = pTmp2.next\n",
    "            else:\n",
    "                prev.next = pTmp1\n",
    "                prev = pTmp1\n",
    "                pTmp1 = pTmp1.next\n",
    "        if pTmp1 is None:\n",
    "            prev.next = pTmp2\n",
    "        else:\n",
    "            prev.next = pTmp1\n",
    "        return newHead\n",
    "    \n",
    "    def Merge_2(self, pHead1, pHead2):    # 递归实现\n",
    "        # write code here\n",
    "        if pHead1 is None:    # 考虑两个链表分别为空链表的情况\n",
    "            return pHead2\n",
    "        if pHead2 is None:\n",
    "            return pHead1\n",
    "        mergedHead = None\n",
    "        if pHead1.val<pHead2.val:\n",
    "            mergedHead = pHead1\n",
    "            mergedHead.next = self.Merge(pHead1.next, pHead2)\n",
    "        else:\n",
    "            mergedHead = pHead2\n",
    "            mergedHead.next = self.Merge(pHead1, pHead2.next)\n",
    "        return mergedHead\n",
    "    \n",
    "if __name__==\"__main__\":\n",
    "    node_1 = DataStructure.Node(1)\n",
    "    l_1 = DataStructure.SingleLinkList(node_1)\n",
    "    l_1.append(3)\n",
    "    l_1.append(5)\n",
    "    l_1.append(7)\n",
    "    node_2 = DataStructure.Node(2)\n",
    "    l_2 = DataStructure.SingleLinkList(node_2)\n",
    "    l_2.append(4)\n",
    "    l_2.append(6)\n",
    "    l_2.append(8)\n",
    "    \n",
    "    s = Solution()\n",
    "    print()\n",
    "    print(s.Merge(node_1, node_2).val)    # 输出反转后的头结点"
   ]
  },
  {
   "cell_type": "markdown",
   "metadata": {},
   "source": [
    "## 17.树的子结构\n",
    "* 题目描述  \n",
    "输入两棵二叉树A，B，判断B是不是A的子结构。（ps：我们约定空树不是任意一个树的子结构）"
   ]
  },
  {
   "cell_type": "code",
   "execution_count": 88,
   "metadata": {},
   "outputs": [
    {
     "name": "stdout",
     "output_type": "stream",
     "text": [
      "True\n"
     ]
    }
   ],
   "source": [
    "\"\"\"\n",
    "基本思想：\n",
    "1. 遍历Tree1，找到与Tree2的root相同的节点\n",
    "2. 遍历Tree2和Tree1的子结构，判断Tree2是否在Tree1中\n",
    "3. 考虑临界情况，Tree1或Tree2为空时返回False\n",
    "\"\"\"\n",
    "\n",
    "# -*- coding:utf-8 -*-\n",
    "# class TreeNode:\n",
    "#     def __init__(self, x):\n",
    "#         self.val = x\n",
    "#         self.left = None\n",
    "#         self.right = None\n",
    "class Solution:\n",
    "    def HasSubtree(self, pRoot1, pRoot2):\n",
    "        # write code here\n",
    "        result = False    # 设置flag\n",
    "        if not pRoot1 or not pRoot2:    # 如果有一个树为None，返回False\n",
    "            return result\n",
    "        if pRoot1.val==pRoot2.val:    # 如果两棵树的根节点值相同，比较其左右子节点\n",
    "            result = self.isSubTree(pRoot1, pRoot2)\n",
    "        # else: ！！！出错：if-else间的逻辑出错了：这里不应该填else，因为如果加上else的话，前面的if返回False时后面的两个if就不执行了，但是，实际上是应该执行的\n",
    "        if not result:\n",
    "            result = self.HasSubtree(pRoot1.left, pRoot2)    # 如果不是子结构，递归遍历根节点的左结点\n",
    "        if not result:\n",
    "            result = self.HasSubtree(pRoot1.right, pRoot2)    # 如果不是子结构，递归遍历根节点的右结点\n",
    "        return result\n",
    "    \n",
    "    \n",
    "    def isSubTree(self, pRoot1, pRoot2):    # 判断Tree1和Tree2的子结构是否相同\n",
    "        if not pRoot2:    # 如果Tree2的节点为None，返回True\n",
    "            return True\n",
    "        if not pRoot1:    # 如果Tree1的节点为None，返回False\n",
    "            return False\n",
    "        if  pRoot1.val!= pRoot2.val:    # 如果Tree1和Tree2的值不同，返回False\n",
    "            return False\n",
    "        return self.isSubTree(pRoot1.left, pRoot2.left) and self.isSubTree(pRoot1.right, pRoot2.right)    # 递归遍历树的左右子节点\n",
    "\n",
    "if __name__==\"__main__\":\n",
    "    tree1 = DataStructure.Tree()\n",
    "    tree1.add('A')\n",
    "    tree1.add('B')\n",
    "    tree1.add('C')\n",
    "    tree1.add('D')\n",
    "    tree1.add('E')\n",
    "    tree1.add('F')\n",
    "    tree1.add('G')\n",
    "    tree1.add('H')\n",
    "    \n",
    "    tree2 = DataStructure.Tree()\n",
    "    tree2.add('C')\n",
    "    tree2.add('F')\n",
    "    tree2.add('G')\n",
    "    \n",
    "    s = Solution()\n",
    "    print(s.HasSubtree(tree1.root, tree2.root))    # 输出反转后的头结点"
   ]
  },
  {
   "cell_type": "code",
   "execution_count": null,
   "metadata": {},
   "outputs": [],
   "source": [
    "# -*- coding:utf-8 -*-\n",
    "# class TreeNode:\n",
    "#     def __init__(self, x):\n",
    "#         self.val = x\n",
    "#         self.left = None\n",
    "#         self.right = None\n",
    "class Solution:\n",
    "    def HasSubtree(self, pRoot1, pRoot2):\n",
    "        # write code here\n",
    "        flag = False\n",
    "        if not pRoot1 or not pRoot2:\n",
    "            return False\n",
    "        if pRoot1.val==pRoot2.val:\n",
    "            flag = self.isSubTree(pRoot1, pRoot2)\n",
    "        # else ！！！出错：这里不应该填else，因为如果加上else的话，前面的if返回False后面的两个if就不执行了，但是，实际上是应该执行的\n",
    "        if not flag:\n",
    "            flag = self.HasSubtree(pRoot1.left, pRoot2)\n",
    "        if not flag:\n",
    "            flag =  self.HasSubtree(pRoot1.right, pRoot2)\n",
    "        return flag\n",
    "    def isSubTree(self, pRoot1, pRoot2):\n",
    "        if not pRoot2:\n",
    "            return True\n",
    "        if not pRoot1:\n",
    "            return False\n",
    "        \n",
    "        if pRoot1.val==pRoot2.val:\n",
    "            return self.isSubTree(pRoot1.left,pRoot2.left) and self.isSubTree(pRoot1.right,pRoot2.right)\n",
    "        else:\n",
    "            return False"
   ]
  },
  {
   "cell_type": "markdown",
   "metadata": {},
   "source": [
    "## 18. 二叉树的镜像\n",
    "* 题目描述  \n",
    "操作给定的二叉树，将其变换为源二叉树的镜像。  \n",
    "输入描述:\n",
    "二叉树的镜像定义：  \n",
    "源二叉树   \n",
    "    \t    8\n",
    "    \t   /  \\\n",
    "    \t  6   10\n",
    "    \t / \\  / \\\n",
    "    \t5  7 9 11\n",
    "镜像二叉树\n",
    "    \t    8\n",
    "    \t   /  \\\n",
    "    \t  10   6\n",
    "    \t / \\  / \\\n",
    "    \t11 9 7  5"
   ]
  },
  {
   "cell_type": "code",
   "execution_count": 94,
   "metadata": {},
   "outputs": [
    {
     "name": "stdout",
     "output_type": "stream",
     "text": [
      "C\n"
     ]
    }
   ],
   "source": [
    "\"\"\"\n",
    "基本思想：\n",
    "递归，从根节点开始，调换每个子根节点的左右子节点\n",
    "\n",
    "注意：递归停止条件为：root为None，而不是if not root.left and not root.right\n",
    "\"\"\"\n",
    "\n",
    "# -*- coding:utf-8 -*-\n",
    "# class TreeNode:\n",
    "#     def __init__(self, x):\n",
    "#         self.val = x\n",
    "#         self.left = None\n",
    "#         self.right = None\n",
    "class Solution(object):\n",
    "    # 返回镜像树的根节点\n",
    "    def Mirror(self, root):\n",
    "        # write code here\n",
    "        if not root:    # 出错了，递归停止条件应该为not root，而不是if not root.left and not root.right： return\n",
    "            return root\n",
    "        # 交换左右子节点的顺序\n",
    "        tmpNode = root.left\n",
    "        root.left = root.right\n",
    "        root.right = tmpNode\n",
    "        # 将左右子节点作为根节点进行递归\n",
    "        self.Mirror(root.left)\n",
    "        self.Mirror(root.right)\n",
    "\n",
    "        return root\n",
    "if __name__==\"__main__\":\n",
    "    tree1 = DataStructure.Tree()\n",
    "    tree1.add('A')\n",
    "    tree1.add('B')\n",
    "    tree1.add('C')\n",
    "    tree1.add('D')\n",
    "    tree1.add('E')\n",
    "    tree1.add('F')\n",
    "    tree1.add('G')\n",
    "    tree1.add('H')\n",
    "    \n",
    "    s = Solution()\n",
    "    print(s.Mirror(tree1.root).left.val)"
   ]
  },
  {
   "cell_type": "code",
   "execution_count": null,
   "metadata": {},
   "outputs": [],
   "source": [
    "# -*- coding:utf-8 -*-\n",
    "# class TreeNode:\n",
    "#     def __init__(self, x):\n",
    "#         self.val = x\n",
    "#         self.left = None\n",
    "#         self.right = None\n",
    "class Solution(object):\n",
    "    # 返回镜像树的根节点\n",
    "    def Mirror(self, root):\n",
    "        # write code here\n",
    "        if not root:\n",
    "            return\n",
    "        \n",
    "        tmpNode = root.left\n",
    "        root.left = root.right\n",
    "        root.right = tmpNode\n",
    "        \n",
    "        self.Mirror(root.left)\n",
    "        self.Mirror(root.right)\n",
    "        return root\n",
    "        "
   ]
  },
  {
   "cell_type": "markdown",
   "metadata": {},
   "source": [
    "## 19. 顺时针打印矩阵\n",
    "* 题目描述：  \n",
    "输入一个矩阵，按照从外向里以顺时针的顺序依次打印出每一个数字，例如，如果输入如下4 X 4矩阵： 1 2 3 4 5 6 7 8 9 10 11 12 13 14 15 16 则依次打印出数字1,2,3,4,8,12,16,15,14,13,9,5,6,7,11,10."
   ]
  },
  {
   "cell_type": "code",
   "execution_count": 10,
   "metadata": {},
   "outputs": [
    {
     "data": {
      "text/plain": [
       "3"
      ]
     },
     "execution_count": 10,
     "metadata": {},
     "output_type": "execute_result"
    }
   ],
   "source": [
    "import math\n",
    "math.ceil(5/2)"
   ]
  },
  {
   "cell_type": "code",
   "execution_count": 22,
   "metadata": {},
   "outputs": [
    {
     "name": "stdout",
     "output_type": "stream",
     "text": [
      "[1, 2, 4, 6, 8, 10, 9, 7, 5, 3]\n"
     ]
    }
   ],
   "source": [
    "\"\"\"\n",
    "基本思想：\n",
    "递归打印，打印一圈为大问题的子问题\n",
    "\n",
    "注意：边界情况要考虑全，打印的不同情况容易出错\n",
    "\"\"\"\n",
    "# -*- coding:utf-8 -*-\n",
    "class Solution:\n",
    "    # matrix类型为二维列表，需要返回列表\n",
    "    def printMatrix(self, matrix):\n",
    "        import math\n",
    "        # write code here\n",
    "        li = []\n",
    "        start = 0\n",
    "        rows = len(matrix)\n",
    "        cols = len(matrix[0])\n",
    "        while start < math.ceil(rows / 2) and start < math.ceil(cols / 2):    # 4的时候迭代到1；5的时候迭代到2\n",
    "        # while rows>start*2 and cols>start*2:\n",
    "            li += self.printM(matrix, start, rows, cols)\n",
    "            start += 1\n",
    "            # rows = rows-2   # 出错，千万不要更改矩阵的行数和列数参数，因为在循环输出时有用到；解决方法是通过减start来避免计算endX和endY的偏移\n",
    "            # cols = cols-2\n",
    "        return li\n",
    "\n",
    "    def printM(self, matrix, start, rows, cols):\n",
    "        tmp_li = []\n",
    "        endX = rows - 1-start\n",
    "        endY = cols - 1-start\n",
    "        # 自左向右打印\n",
    "        for i in range(start, endY + 1, 1):\n",
    "            tmp_li.append(matrix[start][i])\n",
    "        \"\"\"临界条件判断方法：通过举具有代表性的例子，题中可以举一行（不用自上至下、自右自左和自下至上打印）、一列（不用自右自左和自下至上打印）、一个元素、2行2列（不用自下向上打印）\"\"\"\n",
    "        # 自上至下打印\n",
    "        if start<endX:    # 终止行号大于起始行号；！！！一行的话不需要自上向下打印\n",
    "            for j in range(start + 1, endX + 1, 1):\n",
    "                tmp_li.append(matrix[j][endY])\n",
    "\n",
    "        # 自右向左打印\n",
    "        if start<endX and start<endY:    # 终止行号大于起始行号且终止列号大于起始列号；！！！一列的话不需要自右向左打印\n",
    "            for m in range(endY - 1, start - 1, -1):\n",
    "                tmp_li.append(matrix[endX][m])\n",
    "\n",
    "        # 自下向上打印\n",
    "        if start<endY and endX - start>1:    #终止行号减起始行号>1 且 终止列号大于起始列号；！！！2*2矩阵不需要自下向上打印\n",
    "            for n in range(endX - 1, start, -1):\n",
    "                tmp_li.append(matrix[n][start])\n",
    "        return tmp_li\n",
    "\n",
    "\n",
    "if __name__ == \"__main__\":\n",
    "    matrix = [[1, 2, 3, 4],\n",
    "              [5, 6, 7, 8],\n",
    "              [9, 10, 11, 12],\n",
    "              [13, 14, 15, 16]]\n",
    "    matrix2 = [[1, 2, 3, 4, 5], [6, 7, 8, 9, 10], [11, 12, 13, 14, 15], [16, 17, 18, 19, 20], [21, 22, 23, 24, 25]]\n",
    "    matrix3 = [[1,2],[3,4],[5,6],[7,8],[9,10]]\n",
    "    s = Solution()\n",
    "    print(s.printMatrix(matrix3))\n"
   ]
  },
  {
   "cell_type": "code",
   "execution_count": null,
   "metadata": {},
   "outputs": [],
   "source": [
    "class Solution:\n",
    "    def printOneCycle(self, matrix, start, rows, cols):\n",
    "        tmp = []\n",
    "        endX = rows - start - 1\n",
    "        endY = cols- start - 1\n",
    "        # 左--右\n",
    "        for y in range(start, endY+1):\n",
    "            tmp.append(matrix[start][y])\n",
    "        # 上--下\n",
    "        if endX>start:    # 2行以上\n",
    "            for x in range(start+1, endX+1):\n",
    "                tmp.append(matrix[x][endY])\n",
    "        # 右--左\n",
    "        if endX>start and endY>start:    # 2行，且2列以上\n",
    "            for y in range(endY-1, start-1, -1):\n",
    "                tmp.append(matrix[endX][y])\n",
    "        # 下--上\n",
    "        if endY>start and endX-start>1:    # 3行，且2列以上\n",
    "            for x in range(endX-1, start, -1):\n",
    "                tmp.append(matrix[x][start])\n",
    "        return tmp\n",
    "\n",
    "    def spiralOrder(self, matrix):\n",
    "        import math\n",
    "        if not matrix:\n",
    "            return []\n",
    "        res = []\n",
    "        rows = len(matrix)\n",
    "        cols = len(matrix[0])\n",
    "        start = 0\n",
    "        while start < math.ceil(rows / 2) and start < math.ceil(cols / 2):     # !!! 出错：临界条件向上取整，然后小于是小于，否则2*3矩阵不满足条件\n",
    "            res += self.printOneCycle(matrix, start, rows, cols)\n",
    "            start += 1\n",
    "        return res"
   ]
  },
  {
   "cell_type": "code",
   "execution_count": null,
   "metadata": {},
   "outputs": [],
   "source": []
  },
  {
   "cell_type": "markdown",
   "metadata": {},
   "source": [
    "## 20. 包含min函数的栈\n",
    "* 题目描述  \n",
    "定义栈的数据结构，请在该类型中实现一个能够得到栈中所含最小元素的min函数（时间复杂度应为O（1））。"
   ]
  },
  {
   "cell_type": "code",
   "execution_count": 31,
   "metadata": {
    "collapsed": true
   },
   "outputs": [
    {
     "name": "stdout",
     "output_type": "stream",
     "text": [
      "3\n",
      "3\n",
      "2\n",
      "2\n",
      "3\n",
      "2\n",
      "2\n",
      "3\n",
      "0\n"
     ]
    }
   ],
   "source": [
    "\"\"\"\n",
    "基本思想：时间复杂度应为O（1）\n",
    "用空间来换时间，通过构建一个栈minStack来存储不同索引时的最小值，从而使min函数的时间复杂度应为O（1）\n",
    "\"\"\"\n",
    "# -*- coding:utf-8 -*-\n",
    "class Solution:\n",
    "    def __init__(self):\n",
    "        self.stack = []\n",
    "        self.minStack = []\n",
    "\n",
    "    def push(self, node):\n",
    "        # write code here\n",
    "        # self.stack.append(node)    # !出错了，node不能在一开始加，因为加入之后下一行if self.stack == []:直接跳过了\n",
    "        if self.stack == []:\n",
    "            self.minStack.append(node)\n",
    "        elif self.minStack[-1] < node:\n",
    "            self.minStack.append(self.minStack[-1])\n",
    "        else:\n",
    "            self.minStack.append(node)\n",
    "        self.stack.append(node)\n",
    "\n",
    "    def pop(self):\n",
    "        # write code here\n",
    "        if self.stack == []:\n",
    "            return\n",
    "        else:\n",
    "            self.minStack.pop()\n",
    "            return self.stack.pop()\n",
    "\n",
    "    def top(self):\n",
    "        # write code here\n",
    "        if self.stack == []:\n",
    "            return\n",
    "        else:\n",
    "            return self.stack[-1]\n",
    "\n",
    "    def min(self):\n",
    "        # write code here\n",
    "        if self.minStack == []:\n",
    "            return\n",
    "        else:\n",
    "            return self.minStack[-1]\n",
    "if __name__ == \"__main__\":\n",
    "    # [\"PSH3\",\"MIN\",\"PSH4\",\"MIN\",\"PSH2\",\"MIN\",\"PSH3\",\"MIN\",\"POP\",\"MIN\",\"POP\",\"MIN\",\"POP\",\"MIN\",\"PSH0\",\"MIN\"]\n",
    "    s = Solution()\n",
    "    #     print(s.printMatrix(matrix3))\n",
    "    s.push(3)\n",
    "    print(s.min())\n",
    "    s.push(4)\n",
    "    print(s.min())\n",
    "    s.push(2)\n",
    "    print(s.min())\n",
    "    s.push(3)\n",
    "    print(s.min())\n",
    "    print(s.pop())\n",
    "    print(s.min())\n",
    "    print(s.pop())\n",
    "    print(s.min())\n",
    "    s.push(0)\n",
    "    print(s.min())"
   ]
  },
  {
   "cell_type": "code",
   "execution_count": null,
   "metadata": {},
   "outputs": [],
   "source": [
    "# 版本2，push()中第1个if条件不一样\n",
    "# -*- coding:utf-8 -*-\n",
    "class Solution:\n",
    "    def __init__(self):\n",
    "        self.stack = []\n",
    "        self.minStack = []\n",
    "\n",
    "    def push(self, node):\n",
    "        # write code here\n",
    "        self.stack.append(node)\n",
    "        if self.minStack == []:\n",
    "            self.minStack.append(node)\n",
    "        elif self.minStack[-1] < node:\n",
    "            self.minStack.append(self.minStack[-1])\n",
    "        else:\n",
    "            self.minStack.append(node)\n",
    "        #self.stack.append(node)\n",
    "\n",
    "    def pop(self):\n",
    "        # write code here\n",
    "        if self.stack == []:\n",
    "            return\n",
    "        else:\n",
    "            self.minStack.pop()\n",
    "            return self.stack.pop()\n",
    "\n",
    "    def top(self):\n",
    "        # write code here\n",
    "        if self.stack == []:\n",
    "            return\n",
    "        else:\n",
    "            return self.stack[-1]\n",
    "\n",
    "    def min(self):\n",
    "        # write code here\n",
    "        if self.minStack == []:\n",
    "            return\n",
    "        else:\n",
    "            return self.minStack[-1]"
   ]
  },
  {
   "cell_type": "markdown",
   "metadata": {},
   "source": [
    "## 21.栈的压入、弹出序列\n",
    "* 题目描述\n",
    "输入两个整数序列，第一个序列表示栈的压入顺序，请判断第二个序列是否可能为该栈的弹出顺序。假设压入栈的所有数字均不相等。例如序列1,2,3,4,5是某栈的压入顺序，序列4,5,3,2,1是该压栈序列对应的一个弹出序列，但4,3,5,1,2就不可能是该压栈序列的弹出序列。（注意：这两个序列的长度是相等的）"
   ]
  },
  {
   "cell_type": "code",
   "execution_count": 35,
   "metadata": {},
   "outputs": [
    {
     "name": "stdout",
     "output_type": "stream",
     "text": [
      "True\n",
      "False\n"
     ]
    }
   ],
   "source": [
    "\"\"\"\n",
    "基本思想：\n",
    "初始化一个空栈stack，并用stack按照pushV的入栈顺序执行入栈操作,当stack的栈顶元素与popV中index所指元素相同时执行出栈操作；\n",
    "如果最后stack为空，则popV为出栈顺序，否则为入栈顺序\n",
    "\"\"\"\n",
    "# -*- coding:utf-8 -*-\n",
    "class Solution:\n",
    "    def IsPopOrder(self, pushV, popV):\n",
    "        # write code here\n",
    "        if pushV==[] or len(pushV)!=len(popV):\n",
    "            return None\n",
    "        stack = []\n",
    "        index = 0    # 出栈序列popV的索引\n",
    "        for item in pushV:    # 按照pushV的顺序入栈，满足里面的while循环则出栈\n",
    "            stack.append(item)\n",
    "            while stack and stack[-1]==popV[index]:    # 如果栈不为空，且栈顶元素等于index所指的popV的出栈元素，则执行出栈操作\n",
    "                stack.pop()\n",
    "                index+=1\n",
    "        return True if stack==[] else False    # 如果栈为空，则表示popV是出栈序列，否则不是出栈序列\n",
    "        \n",
    "if __name__ == \"__main__\":\n",
    "    s = Solution()\n",
    "    pushV = [1,2,3,4,5]\n",
    "    popV = [4,5,3,2,1]\n",
    "    popV2 = [4,3,5,1,2]\n",
    "    print(s.IsPopOrder(pushV, popV))\n",
    "    print(s.IsPopOrder(pushV, popV2))\n"
   ]
  },
  {
   "cell_type": "code",
   "execution_count": 33,
   "metadata": {},
   "outputs": [
    {
     "name": "stdout",
     "output_type": "stream",
     "text": [
      "True\n"
     ]
    }
   ],
   "source": [
    "## 骚操作\n",
    "# -*- coding:utf-8 -*-\n",
    "class Solution:\n",
    "    def IsPopOrder(self, pushV, popV):\n",
    "        # write code here\n",
    "        if popV[-1] != pushV[0]:    # 如果popV的最后一个元素不等于pushV的第0个元素，就证明popV不是pushV的弹出序列\n",
    "            return False\n",
    "        else:\n",
    "            return True\n",
    "        \n",
    "if __name__ == \"__main__\":\n",
    "    s = Solution()\n",
    "    pushV = [1,2,3,4,5]\n",
    "    popV = [4,5,3,2,1]\n",
    "    print(s.IsPopOrder(pushV, popV))"
   ]
  },
  {
   "cell_type": "markdown",
   "metadata": {},
   "source": [
    "## 22. 从上往下打印二叉树\n",
    "* 题目描述  \n",
    "从上往下打印出二叉树的每个节点，同层节点从左至右打印。"
   ]
  },
  {
   "cell_type": "code",
   "execution_count": 40,
   "metadata": {},
   "outputs": [
    {
     "name": "stdout",
     "output_type": "stream",
     "text": [
      "['A', 'B', 'C', 'D', 'E', 'F', 'G', 'H']\n"
     ]
    }
   ],
   "source": [
    "\"\"\"\n",
    "基本思想：\n",
    "利用队列queue来存储元素的输出顺序，每打印完一个元素就从队列中pop()出来，同时如果当前节点的左/右子节点不为空，则将其添加到队列queue中；\n",
    "使用result列表来存储打印的元素\n",
    "\n",
    "循环停止条件：队列queue为空\n",
    "\"\"\"\n",
    "# -*- coding:utf-8 -*-\n",
    "# class TreeNode:\n",
    "#     def __init__(self, x):\n",
    "#         self.val = x\n",
    "#         self.left = None\n",
    "#         self.right = None\n",
    "class Solution:\n",
    "    # 返回从上到下每个节点值列表，例：[1,2,3]\n",
    "    def PrintFromTopToBottom(self, root):\n",
    "        # write code here\n",
    "        if not root:\n",
    "            return []\n",
    "        queue = [root]    # 利用队列存储二叉树元素的打印顺序\n",
    "        result = []    # 存储打印结果\n",
    "        while queue:\n",
    "            root = queue.pop(0)\n",
    "            result.append(root.val)\n",
    "            if root.left is not None:\n",
    "                queue.append(root.left)\n",
    "            if root.right is not None:\n",
    "                queue.append(root.right)\n",
    "        return result\n",
    "if __name__==\"__main__\":\n",
    "    tree1 = DataStructure.Tree()\n",
    "    tree1.add('A')\n",
    "    tree1.add('B')\n",
    "    tree1.add('C')\n",
    "    tree1.add('D')\n",
    "    tree1.add('E')\n",
    "    tree1.add('F')\n",
    "    tree1.add('G')\n",
    "    tree1.add('H')\n",
    "    \n",
    "    s = Solution()\n",
    "    print(s.PrintFromTopToBottom(tree1.root))"
   ]
  },
  {
   "cell_type": "code",
   "execution_count": null,
   "metadata": {},
   "outputs": [],
   "source": [
    "# -*- coding:utf-8 -*-\n",
    "# class TreeNode:\n",
    "#     def __init__(self, x):\n",
    "#         self.val = x\n",
    "#         self.left = None\n",
    "#         self.right = None\n",
    "class Solution:\n",
    "    # 返回从上到下每个节点值列表，例：[1,2,3]\n",
    "    def PrintFromTopToBottom(self, root):\n",
    "        # write code here\n",
    "        if not root:\n",
    "            return []\n",
    "        res = []\n",
    "        queue = [root]\n",
    "        while queue:\n",
    "            node = queue.pop(0)\n",
    "            res.append(node.val)\n",
    "            if node.left:\n",
    "                queue.append(node.left)\n",
    "            if node.right:\n",
    "                queue.append(node.right)\n",
    "        return res"
   ]
  },
  {
   "cell_type": "markdown",
   "metadata": {},
   "source": [
    "## 23. 二叉搜索树的后序遍历序列\n",
    "* 题目描述  \n",
    "输入一个整数数组，判断该数组是不是某二叉搜索树的后序遍历的结果。如果是则输出Yes,否则输出No。假设输入的数组的任意两个数字都互不相同。"
   ]
  },
  {
   "cell_type": "code",
   "execution_count": 8,
   "metadata": {},
   "outputs": [
    {
     "name": "stdout",
     "output_type": "stream",
     "text": [
      "True\n"
     ]
    }
   ],
   "source": [
    "\"\"\"\n",
    "基本思想：\n",
    "递归；\n",
    "后续遍历的最后一个节点为根节点；\n",
    "\n",
    "二叉查找树的左子树都小于根节点，右子树都大于根节点,寻找第一个大于根节点的节点索引index；\n",
    "\n",
    "\n",
    "特殊情况：\n",
    "1. 只有左子树[1,2,3,4,5]\n",
    "2. 只有右子树[10,11,9]\n",
    "\n",
    "递归停止条件：\n",
    "右子树中出现小于根节点的值，e.g.seq=[1,2,3,9,7，8],其中7在右子树，但值小于根节点8\n",
    "\n",
    "\"\"\"\n",
    "# -*- coding:utf-8 -*-\n",
    "class Solution:\n",
    "    def VerifySquenceOfBST(self, sequence):\n",
    "        # write code here\n",
    "        if sequence==[]:\n",
    "            return False\n",
    "        rootVal = sequence[-1]\n",
    "        index = 0    # 左右子树分界点的初始化索引\n",
    "        n = len(sequence) - 1\n",
    "        for i in range(n):    # 寻找大于根节点的第一个索引index,sequence[index:n+1]为root的右子树\n",
    "            if sequence[i]>rootVal:\n",
    "                index = i\n",
    "                break\n",
    "        if index!=0:    # 出错，没有单独考虑index==0的情况，index==0的情况有两种，分别是seq=[9，7，8]和seq=[1,2,3,4,5]\n",
    "            for j in range(index,n):    # 判断[index,n]是否有小于根节点值的元素，如果存在seq不是二叉树的后续遍历\n",
    "                 if sequence[j]<rootVal:\n",
    "                    return False\n",
    "        elif index==0 and sequence[index]>rootVal:   # 处理seq=[9，7，8]的特殊情况\n",
    "            for m in range(1,n):\n",
    "                if sequence[m]<rootVal:\n",
    "                    return False\n",
    "\n",
    "        \n",
    "        # 递归以rootVal为根的左子树和右子树\n",
    "        if sequence[:index]==[]:    # 注意，这块如果seq==[]需要提前处理一下，不然测试用例seq=[]-->输出False会报错\n",
    "            return True\n",
    "        else:\n",
    "            left = self.VerifySquenceOfBST(sequence[:index])\n",
    "        if sequence[index:n]==[]:    # 同上\n",
    "            return True\n",
    "        else:\n",
    "            right = self.VerifySquenceOfBST(sequence[index:n])\n",
    "        return True if left and right else False\n",
    "if __name__==\"__main__\":\n",
    "    s = Solution()\n",
    "    print(s.VerifySquenceOfBST([4,8,6,12,16,14,10]))"
   ]
  },
  {
   "cell_type": "markdown",
   "metadata": {},
   "source": [
    "## 24. 二叉树中和为某一值的路径\n",
    "* 题目描述  \n",
    "输入一颗二叉树的根节点和一个整数，打印出二叉树中结点值的和为输入整数的所有路径。路径定义为从树的根结点开始往下一直到叶结点所经过的结点形成一条路径。(注意: 在返回值的list中，数组长度大的数组靠前)"
   ]
  },
  {
   "cell_type": "code",
   "execution_count": 84,
   "metadata": {},
   "outputs": [
    {
     "name": "stdout",
     "output_type": "stream",
     "text": [
      "[[10, 5], [10, 5]]\n"
     ]
    }
   ],
   "source": [
    "\"\"\"\n",
    "基本思想：\n",
    "先找到所有小于等于expectNumber的路径,并按照长度进行排序；\n",
    "然后筛选出等于expectNumber的路径\n",
    "\"\"\"\n",
    "class Solution:\n",
    "    # 返回二维列表，内部每个列表表示找到的路径\n",
    "    def FindPath(self, root, expectNumber):\n",
    "        # write code here\n",
    "        res = self.FindAllPath(root, expectNumber)\n",
    "        result2 = []\n",
    "        for item in res:    # 遍历寻找到的所有路径，将和为expectNumber的路径添加到result2中\n",
    "            if sum(item) == expectNumber:\n",
    "                result2.append(item)\n",
    "        return result2\n",
    "\n",
    "    def FindAllPath(self, root, expectNumber):\n",
    "        if not root:    # 如果root为None，返回空列表\n",
    "            return []\n",
    "        if root.val > expectNumber:    # 如果和已经大于expectNumber，但还没遍历到根节点，直接返回\n",
    "            return [[root.val]]\n",
    "        if not root.left and not root.right and root.val == expectNumber:    # 如果节点为叶节点，且和等于expectNumber，返回叶节点的值\n",
    "            return [[root.val]]\n",
    "        else:\n",
    "            result = []\n",
    "            expectNumber -= root.val\n",
    "            left = self.FindAllPath(root.left, expectNumber)\n",
    "            right = self.FindAllPath(root.right, expectNumber)\n",
    "\n",
    "            if left == []:\n",
    "                result = [[root.val]]    # 如果左节点为空列表，则直接返回根节点的val；否则遍历left，将其元素添加到result中\n",
    "            else:\n",
    "                result = [[root.val] + i for i in left]\n",
    "            for i in right:\n",
    "                result.append([root.val] + i)    # 遍历right，并将结果添加为一个新的路径（append添加一个路径列表）\n",
    "        return sorted(result, key=lambda x: -len(x))\n",
    "    \n",
    "if __name__==\"__main__\":\n",
    "    tree1 = DataStructure.Tree()\n",
    "    tree1.add(10)\n",
    "    tree1.add(5)\n",
    "    tree1.add(12)\n",
    "    tree1.add(4)\n",
    "    tree1.add(7)\n",
    "    expectNumber = 15\n",
    "    s = Solution()\n",
    "    print(s.FindPath(tree1.root, expectNumber))"
   ]
  },
  {
   "cell_type": "markdown",
   "metadata": {},
   "source": [
    "## 25. 复杂链表的赋值\n",
    "* 题目描述  \n",
    "输入一个复杂链表（每个节点中有节点值，以及两个指针，一个指向下一个节点，另一个特殊指针指向任意一个节点），返回结果为复制后复杂链表的head。（注意，输出结果中请不要返回参数中的节点引用，否则判题程序会直接返回空）"
   ]
  },
  {
   "cell_type": "code",
   "execution_count": 1,
   "metadata": {},
   "outputs": [
    {
     "name": "stdout",
     "output_type": "stream",
     "text": [
      "1\n",
      "2\n",
      "3\n",
      "4\n"
     ]
    }
   ],
   "source": [
    "\"\"\"\n",
    "基本思想：\n",
    "链表的指针操作，主要分三步：\n",
    "1. 复制链表中的每个节点\n",
    "2. 复制新的节点的random指针\n",
    "3. 将所有新链表节点和旧链表节点分开\n",
    "\"\"\"\n",
    "\n",
    "# -*- coding:utf-8 -*-\n",
    "class RandomListNode:\n",
    "    def __init__(self, x):\n",
    "        self.label = x\n",
    "        self.next = None\n",
    "        self.random = None\n",
    "class Solution:\n",
    "    # 返回 RandomListNode\n",
    "    def Clone(self, pHead):\n",
    "        # write code here\n",
    "        if not pHead:\n",
    "            return None\n",
    "        # 复制链表中的每个节点\n",
    "        pTmp = pHead\n",
    "        while pTmp:\n",
    "            node = RandomListNode(pTmp.label)\n",
    "            node.next = pTmp.next\n",
    "            pTmp.next = node\n",
    "            pTmp = node.next\n",
    "\n",
    "        # 复制新的节点的random指针\n",
    "        pTmp = pHead\n",
    "        while pTmp:\n",
    "            if pTmp.random:    # 出错，需要判断节点的random属性是否为None,不为None时执行if条件语句\n",
    "                pTmp.next.random = pTmp.random.next\n",
    "            pTmp = pTmp.next.next\n",
    "\n",
    "        # 将所有新链表节点和旧链表节点分开\n",
    "        pTmp = pHead\n",
    "        pNewTmp = pHead.next\n",
    "        pNewHead = pHead.next\n",
    "        while pTmp:\n",
    "            pTmp.next = pNewTmp.next\n",
    "            if pTmp.next is None:    # 出错，没有考虑尾结点情况\n",
    "                pNewTmp.next = None\n",
    "            else:\n",
    "                pNewTmp.next = pTmp.next.next\n",
    "            pNewTmp = pNewTmp.next\n",
    "            pTmp = pTmp.next\n",
    "\n",
    "        return pNewHead\n",
    "if __name__ == '__main__':\n",
    "    node1 = RandomListNode(1)\n",
    "    node2 = RandomListNode(2)\n",
    "    node3 = RandomListNode(3)\n",
    "    node4 = RandomListNode(4)\n",
    "    node1.next = node2\n",
    "    node2.next = node3\n",
    "    node3.next = node4\n",
    "    s = Solution()\n",
    "    pNewHead = s.Clone(node1)\n",
    "    tmp = pNewHead\n",
    "    while tmp:\n",
    "        print(tmp.label)\n",
    "        tmp = tmp.next"
   ]
  },
  {
   "cell_type": "code",
   "execution_count": 2,
   "metadata": {},
   "outputs": [
    {
     "name": "stdout",
     "output_type": "stream",
     "text": [
      "1\n",
      "2\n",
      "3\n",
      "4\n"
     ]
    }
   ],
   "source": [
    "# 骚操作：直接将头指针pHead深拷贝一下，后面的链表都没有改变，即只复制了第一个节点\n",
    "\n",
    "# -*- coding:utf-8 -*-\n",
    "# class RandomListNode:\n",
    "#     def __init__(self, x):\n",
    "#         self.label = x\n",
    "#         self.next = None\n",
    "#         self.random = None\n",
    "class Solution:\n",
    "    # 返回 RandomListNode\n",
    "    def Clone(self, pHead):\n",
    "        # write code here\n",
    "        import copy\n",
    "        pHead2 = copy.deepcopy(pHead)\n",
    "        return pHead2\n",
    "if __name__ == '__main__':\n",
    "    node1 = RandomListNode(1)\n",
    "    node2 = RandomListNode(2)\n",
    "    node3 = RandomListNode(3)\n",
    "    node4 = RandomListNode(4)\n",
    "    node1.next = node2\n",
    "    node2.next = node3\n",
    "    node3.next = node4\n",
    "    s = Solution()\n",
    "    pNewHead = s.Clone(node1)\n",
    "    tmp = pNewHead\n",
    "    while tmp:\n",
    "        print(tmp.label)\n",
    "        tmp = tmp.next"
   ]
  },
  {
   "cell_type": "markdown",
   "metadata": {},
   "source": [
    "## ***26. 二叉搜索树与双向链表\n",
    "* 题目描述  \n",
    "输入一棵二叉搜索树，将该二叉搜索树转换成一个排序的双向链表。要求不能创建任何新的结点，只能调整树中结点指针的指向。"
   ]
  },
  {
   "cell_type": "code",
   "execution_count": null,
   "metadata": {},
   "outputs": [],
   "source": [
    "\"\"\"\n",
    "基本思想待补充（）：\n",
    "递归\n",
    "\"\"\"\n",
    "# -*- coding:utf-8 -*-\n",
    "# class TreeNode:\n",
    "#     def __init__(self, x):\n",
    "#         self.val = x\n",
    "#         self.left = None\n",
    "#         self.right = None\n",
    "class Solution:\n",
    "    def findRight(self,node):    # 找到node的最右节点\n",
    "        while node.right:\n",
    "            node = node.right\n",
    "        return node\n",
    "    \n",
    "    def Convert(self, pRootOfTree):\n",
    "        # write code here\n",
    "        if not pRootOfTree:\n",
    "            return None\n",
    "        # if not pRootOfTree.left and pRootOfTree.right:\n",
    "        #     return pRootofTree\n",
    "        leftNode = self.Convert(pRootOfTree.left)\n",
    "        rightNode = self.Convert(pRootOfTree.right)\n",
    "        retNode = leftNode    # 放在if语句里不行，为什么？？？\n",
    "        if leftNode:\n",
    "            leftNode = self.findRight(leftNode)    # 找左结点的最右（最大）节点\n",
    "        else:\n",
    "            retNode = pRootOfTree\n",
    "        \n",
    "        pRootOfTree.left = leftNode   # 根节点的左指针连接左子树的最右节点\n",
    "        pRootOfTree.right = rightNode    #???，根节点的右指针连接右子树的最左节点\n",
    "        if leftNode!=None:\n",
    "            leftNode.right = pRootOfTree    # 左子树的最右节点连接根节点\n",
    "        if rightNode!=None:\n",
    "            rightNode.left = pRootOfTree     # 右子树的最左节点连接根节点\n",
    "        return retNode"
   ]
  },
  {
   "cell_type": "markdown",
   "metadata": {},
   "source": [
    "## ***27. 字符串的排列\n",
    "* 题目描述  \n",
    "输入一个字符串,按字典序打印出该字符串中字符的所有排列。例如输入字符串abc,则打印出由字符a,b,c所能排列出来的所有字符串abc,acb,bac,bca,cab和cba。\n",
    ">输入描述:\n",
    "输入一个字符串,长度不超过9(可能有字符重复),字符只包括大小写字母。"
   ]
  },
  {
   "cell_type": "code",
   "execution_count": 3,
   "metadata": {},
   "outputs": [
    {
     "name": "stdout",
     "output_type": "stream",
     "text": [
      "['abc', 'acb', 'bac', 'bca', 'cab', 'cba']\n"
     ]
    }
   ],
   "source": [
    "\"\"\"\n",
    "基本思想：\n",
    "递归：\n",
    "将字符串的第i个字符视为第一个字符，其他所有字符排列的所有情况组成一个list\n",
    "例如：ss=\"bc\"，i = 0时组成\"bc\";i = 1时组成\"cb\",所以li=[\"bc\", \"cb\"]\n",
    "\"\"\"\n",
    "# -*- coding:utf-8 -*-\n",
    "class Solution:\n",
    "    def Permutation(self, ss):\n",
    "        # write code here\n",
    "        if len(ss)==1:    # 如果ss只包含一个字符，则返回这个字符\n",
    "            return ss\n",
    "        li = []\n",
    "        n = len(ss)\n",
    "        char_index = 0    # 固定第i个字符为首字母\n",
    "        while char_index<n:\n",
    "            for j in self.Permutation(ss[:char_index]+ss[char_index+1:]):\n",
    "                temp = ss[char_index]+j    # 生成第二个字符以后的所有字符的所有组合，保存在li中\n",
    "                if temp not in li:    #出错：如果字符串temp不在li中才添加进去\n",
    "                    li.append(temp)\n",
    "            char_index+=1\n",
    "        return li\n",
    "if __name__ == '__main__':\n",
    "    s = Solution()\n",
    "    print(s.Permutation(\"abc\"))"
   ]
  },
  {
   "cell_type": "markdown",
   "metadata": {},
   "source": [
    "## 28. 数组中出现次数超过一半的数字\n",
    "* 题目描述:  \n",
    "数组中有一个数字出现的次数超过数组长度的一半，请找出这个数字。例如输入一个长度为9的数组{1,2,3,2,2,2,5,4,2}。由于数字2在数组中出现了5次，超过数组长度的一半，因此输出2。如果不存在则输出0。"
   ]
  },
  {
   "cell_type": "code",
   "execution_count": 7,
   "metadata": {},
   "outputs": [
    {
     "name": "stdout",
     "output_type": "stream",
     "text": [
      "2\n"
     ]
    }
   ],
   "source": [
    "# 方法一：数组排序求解\n",
    "\"\"\"\n",
    "基本思想：\n",
    "先排序，然后计算数组中的数字出现的最大次数\n",
    "\"\"\"\n",
    "# -*- coding:utf-8 -*-\n",
    "class Solution:\n",
    "    def MoreThanHalfNum_Solution(self, numbers):\n",
    "        # write code here\n",
    "        if not numbers:\n",
    "            return None\n",
    "        if len(numbers)==1:\n",
    "            return numbers[0]\n",
    "        numbers = sorted(numbers)\n",
    "        max_count = 0    # 存储数字出现的最大次数\n",
    "        count = 1\n",
    "        n = len(numbers)\n",
    "        max_index = 1    # 存储最大次数的数字对应的第一个索引\n",
    "        for i in range(1,n):    \n",
    "            if numbers[i]==numbers[i-1] and i<n-1:\n",
    "                count+=1\n",
    "            elif numbers[i] == numbers[i - 1] and i == n - 1:\n",
    "                count += 1\n",
    "                max_count = count\n",
    "            else:\n",
    "                if count>max_count:    # 满足条件，则修改max_count和max_index\n",
    "                    max_count = count\n",
    "                    max_index = i-1\n",
    "                count=1\n",
    "        # print(max_count)\n",
    "        if n/2.0<max_count:\n",
    "            return numbers[max_index]\n",
    "        else:\n",
    "            return 0\n",
    "if __name__==\"__main__\":\n",
    "    s = Solution()\n",
    "    print(s.MoreThanHalfNum_Solution([1,2,3,2,2,2,5,4,2]))"
   ]
  },
  {
   "cell_type": "code",
   "execution_count": null,
   "metadata": {},
   "outputs": [],
   "source": [
    "# 方法二：利用字典结构求解\n",
    "\"\"\"\n",
    "基本思想：\n",
    "将每个数字及其出现次数存成一个字典\n",
    "\"\"\""
   ]
  },
  {
   "cell_type": "markdown",
   "metadata": {},
   "source": [
    "## 29. 最小的K个数\n",
    "* 题目描述:  \n",
    "输入n个整数，找出其中最小的K个数。例如输入4,5,1,6,2,7,3,8这8个数字，则最小的4个数字是1,2,3,4,。"
   ]
  },
  {
   "cell_type": "code",
   "execution_count": 19,
   "metadata": {},
   "outputs": [
    {
     "name": "stdout",
     "output_type": "stream",
     "text": [
      "[1, 2, 3, 4]\n"
     ]
    }
   ],
   "source": [
    "\"\"\"\n",
    "基本思想：\n",
    "获取数组中最小的k个数，那么可以维护一个大顶堆，时间复杂度时O(n*log(k))\n",
    "\"\"\"\n",
    "# -*- coding:utf-8 -*-\n",
    "class Solution:\n",
    "    def swap(slef, num1, num2):\n",
    "        \"\"\"交换num1和num2的顺序\"\"\"\n",
    "        tmp = num1\n",
    "        num1 = num2\n",
    "        num2 = tmp\n",
    "        return num1, num2\n",
    "\n",
    "    def createMaxHeap(self, num, max_heap):\n",
    "        \"\"\"\n",
    "        创建一个大顶堆max_heap，，从下往上调整元素顺序以维持大顶堆的顺序结构，堆的元素个数在GetLeastNumbers_Solution()函数中定义\n",
    "        \"\"\"\n",
    "        # print(max_heap)\n",
    "        max_heap.append(num)\n",
    "        # print(max_heap)\n",
    "        current_index = len(max_heap) - 1\n",
    "        while current_index != 0:\n",
    "            parent_index = (current_index - 1) // 2\n",
    "            if max_heap[parent_index] < max_heap[current_index]:\n",
    "                max_heap[parent_index], max_heap[current_index] = self.swap(max_heap[parent_index],max_heap[current_index])\n",
    "                current_index = parent_index\n",
    "            else:\n",
    "                break\n",
    "        return max_heap    # 出错：忘记return了\n",
    "    \n",
    "    \n",
    "    def heapify(self, num, max_heap):\n",
    "        \"\"\"\n",
    "        如果num小于大根堆max_heap的根节点，则在堆的顶部插入一个节点，从上向下调整维持其大顶堆顺序结构\n",
    "        \"\"\"\n",
    "        if num < max_heap[0]:\n",
    "            max_heap[0] = num\n",
    "            index = 0\n",
    "            max_heap_length = len(max_heap)\n",
    "            while index < max_heap_length:\n",
    "                left_index = index * 2 + 1\n",
    "                right_index = index * 2 + 2\n",
    "                if right_index < max_heap_length:\n",
    "                    if max_heap[left_index] < max_heap[right_index]:\n",
    "                        lager_index = right_index\n",
    "                    else:\n",
    "                        lager_index = left_index\n",
    "\n",
    "                elif left_index < max_heap_length:\n",
    "                    lager_index = left_index\n",
    "                else:\n",
    "                    break\n",
    "                if max_heap[index] < max_heap[lager_index]:\n",
    "                    max_heap[index], max_heap[lager_index] = self.swap(max_heap[index], max_heap[lager_index])\n",
    "                    index = lager_index\n",
    "                else:\n",
    "                    break\n",
    "        return max_heap    # 出错：return应该和前面的if语句对齐\n",
    "\n",
    "    def GetLeastNumbers_Solution(self, tinput, k):\n",
    "        \"\"\"\n",
    "        获取tinput序列中的最下的k个元素\n",
    "        ------\n",
    "        Return：\n",
    "            返回一个有序数组，升序存储最小的k个元素\n",
    "        ------\n",
    "        Example：\n",
    "            s = Solution()\n",
    "            s.GetLeastNumbers_Solution([4, 5, 1, 6, 2, 7, 3, 8], 4)\n",
    "        \"\"\"\n",
    "        # write code here\n",
    "        input_length = len(tinput)\n",
    "        if input_length < k:\n",
    "            return []\n",
    "        if k < 1:\n",
    "            return []\n",
    "        max_heap = []\n",
    "        for i in range(input_length):\n",
    "            if i < k:\n",
    "                max_heap = self.createMaxHeap(tinput[i], max_heap)\n",
    "            else:\n",
    "                max_heap = self.heapify(tinput[i], max_heap)\n",
    "        return sorted(max_heap)\n",
    "\n",
    "\n",
    "if __name__ == \"__main__\":\n",
    "    s = Solution()\n",
    "    print(s.GetLeastNumbers_Solution([4, 5, 1, 6, 2, 7, 3, 8], 4))"
   ]
  },
  {
   "cell_type": "markdown",
   "metadata": {},
   "source": [
    "## 30.连续子数组的最大和\n",
    "* 题目描述  \n",
    "HZ偶尔会拿些专业问题来忽悠那些非计算机专业的同学。今天测试组开完会后,他又发话了:在古老的一维模式识别中,常常需要计算连续子向量的最大和,当向量全为正数的时候,问题很好解决。但是,如果向量中包含负数,是否应该包含某个负数,并期望旁边的正数会弥补它呢？例如:{6,-3,-2,7,-15,1,2,2},连续子向量的最大和为8(从第0个开始,到第3个为止)。给一个数组，返回它的最大连续子序列的和，你会不会被他忽悠住？(子向量的长度至少是1)"
   ]
  },
  {
   "cell_type": "code",
   "execution_count": 4,
   "metadata": {},
   "outputs": [
    {
     "name": "stdout",
     "output_type": "stream",
     "text": [
      "8\n"
     ]
    }
   ],
   "source": [
    "\"\"\"\n",
    "基本思想：\n",
    "考虑子数组和的性质：如果前i-1个数字累加和为负，那么以第i个数字开头的子数组的最大当前和应为array[i]\n",
    "e.g. array=[2,-5,6],前两个数字的累加和为-3<0,所以第3个数字的累加和最大值应为其本身array[2]\n",
    "\"\"\"\n",
    "# 方法一：根据数组子序列求和规律求解\n",
    "# -*- coding:utf-8 -*-\n",
    "class Solution:\n",
    "    def FindGreatestSumOfSubArray(self, array):\n",
    "        # write code here\n",
    "        if not array:\n",
    "            return None\n",
    "        max_sum = array[0]    # 出错：这里不能预先设置max_sum=0，因为如果数组元素全为负,会返回0,与预期结果不符\n",
    "        cur_sum = 0\n",
    "        n = len(array)\n",
    "        for i in range(n):\n",
    "            if cur_sum<0:\n",
    "                cur_sum = array[i]\n",
    "            else:\n",
    "                cur_sum += array[i]\n",
    "            if max_sum<cur_sum:\n",
    "                max_sum = cur_sum\n",
    "        return max_sum\n",
    "if __name__ == '__main__':\n",
    "    s = Solution()\n",
    "    print(s.FindGreatestSumOfSubArray([6,-3,-2,7,-15,1,2,2]))"
   ]
  },
  {
   "cell_type": "code",
   "execution_count": null,
   "metadata": {},
   "outputs": [],
   "source": [
    "# 方法二：动态规划求解"
   ]
  },
  {
   "cell_type": "markdown",
   "metadata": {},
   "source": [
    "## 31. 整数中1出现的次数（从1到n整数中1出现的次数）\n",
    "* 题目描述：  \n",
    "求出1~13的整数中1出现的次数,并算出100~1300的整数中1出现的次数？为此他特别数了一下1~13中包含1的数字有1、10、11、12、13因此共出现6次,但是对于后面问题他就没辙了。ACMer希望你们帮帮他,并把问题更加普遍化,可以很快的求出任意非负整数区间中1出现的次数（从1 到 n 中1出现的次数）。"
   ]
  },
  {
   "cell_type": "code",
   "execution_count": 20,
   "metadata": {},
   "outputs": [
    {
     "name": "stdout",
     "output_type": "stream",
     "text": [
      "4171443730\n"
     ]
    }
   ],
   "source": [
    "\"\"\"\n",
    "基本思想：\n",
    "将数字n拆分为由lowValue、midValue、highValue三个数字来表示，计算midValue为某一位时的其余位置1出现的次数；\n",
    "以3459082190为例，当midValue=8时，lowValue=n%10^4=2190;midValue=(n//10^4)%10=8;highValue=n//10^5=34590\n",
    "\"\"\"\n",
    "# -*- coding:utf-8 -*-\n",
    "class Solution:\n",
    "    def NumberOf1Between1AndN_Solution(self, n):\n",
    "        # write code here\n",
    "        count = 0    # 记录10的count次方\n",
    "        sum_num = 0    # 记录1出现的总次数\n",
    "        lowValue = 1\n",
    "        midValue = 1\n",
    "        highValue = 1\n",
    "        while highValue!=0:    # 迭代数字n的各个位数，直到highValue==0停止\n",
    "            lowValue = n%pow(10,count)    # 将数字n的所有位数分为三个部分，分别是lowValue、midValue、highValue\n",
    "            midValue = (n//pow(10,count))%10\n",
    "            highValue = (n//pow(10,count+1))\n",
    "            if midValue==0:    # midValue==0的情况\n",
    "                num = (highValue+1-1)*pow(10,count)\n",
    "            elif midValue>1:    # midValue>1的情况\n",
    "                num = (highValue+1)*pow(10,count)\n",
    "            else:    # midValue==1的情况(该条件满足n等于1时的特殊情况)\n",
    "                num = highValue*pow(10,count)+lowValue+1\n",
    "            sum_num += num\n",
    "            count+=1\n",
    "        return sum_num\n",
    "if __name__ == '__main__':\n",
    "    s = Solution()\n",
    "    print(s.NumberOf1Between1AndN_Solution(3459082190))"
   ]
  },
  {
   "cell_type": "markdown",
   "metadata": {},
   "source": [
    "## 32. 把数组排成最小的数\n",
    "* 题目描述：  \n",
    "输入一个正整数数组，把数组里所有数字拼接起来排成一个数，打印能拼接出的所有数字中最小的一个。例如输入数组{3，32，321}，则打印出这三个数字能排成的最小数字为321323。"
   ]
  },
  {
   "cell_type": "code",
   "execution_count": 26,
   "metadata": {},
   "outputs": [
    {
     "name": "stdout",
     "output_type": "stream",
     "text": [
      "1456\n"
     ]
    }
   ],
   "source": [
    "\"\"\"\n",
    "基本思想：\n",
    "制定比较规则compare()函数，将数字转换为字符串进行比较，例如\"4\">\"12\";\n",
    "借助冒泡排序对数组中元素进行比较\n",
    "\n",
    "\"\"\"\n",
    "# -*- coding:utf-8 -*-\n",
    "class Solution:\n",
    "    def compare(self,num1,num2):    # str2_1>str1_2时调换两个数的顺序\n",
    "        str1 = str(num1)\n",
    "        str2 = str(num2)\n",
    "        \n",
    "        str1_2 = str1+str2\n",
    "        str2_1 = str2+str1\n",
    "        if str2_1>str1_2:    # 大的str在后面，所以不交换\n",
    "            return False\n",
    "        else:\n",
    "            return True\n",
    "    \n",
    "    def PrintMinNumber(self, numbers):\n",
    "        # write code here\n",
    "        if numbers==[]:\n",
    "            return \"\"\n",
    "        length = len(numbers)\n",
    "        for i in range(length-1):    # 借鉴冒泡排序的思想，将比较大小转换为compare函数\n",
    "            for j in range(length-i-1):\n",
    "                if self.compare(numbers[j], numbers[j+1]):\n",
    "                    numbers[j],numbers[j+1] = numbers[j+1],numbers[j]\n",
    "        numbers = map(str, numbers)\n",
    "        return int(\"\".join(numbers))\n",
    "if __name__ == '__main__':\n",
    "    s = Solution()\n",
    "    print(s.PrintMinNumber([1,5,6,4]))"
   ]
  },
  {
   "cell_type": "markdown",
   "metadata": {},
   "source": [
    "## 33. 丑数\n",
    "* 题目描述：  \n",
    "把只包含质因子2、3和5的数称作丑数（Ugly Number）。例如6、8都是丑数，但14不是，因为它包含质因子7。 习惯上我们把1当做是第一个丑数。求按从小到大的顺序的第N个丑数。"
   ]
  },
  {
   "cell_type": "code",
   "execution_count": 31,
   "metadata": {},
   "outputs": [
    {
     "name": "stdout",
     "output_type": "stream",
     "text": [
      "36\n"
     ]
    }
   ],
   "source": [
    "\"\"\"\n",
    "基本思想：\n",
    "因为丑数是只包含质因子2、3和5的数，所以考虑三指针法，每个指针代表指针所指元素可以乘的系数\n",
    "\"\"\"\n",
    "# -*- coding:utf-8 -*-\n",
    "class Solution:\n",
    "    def GetUglyNumber_Solution(self, index):\n",
    "        # write code here\n",
    "        if index<1:    # index从1开始，小于1时返回0\n",
    "            return 0\n",
    "        uglyNumbers = [1]    # 初始化丑数数组\n",
    "        twoPointer = 0    # 初始化2/3/5的指针，都指向第0个元素\n",
    "        threePointer = 0\n",
    "        fivePointer = 0\n",
    "        count = 1    # 计数，计算列表uglyNumbers的长度\n",
    "        while count<index:\n",
    "            minUglyNumber = min(uglyNumbers[twoPointer]*2\n",
    "                                , uglyNumbers[threePointer]*3,uglyNumbers[fivePointer]*5)    # 将3个指针所指向的数乘以对应的2/3/5，选择最小值添加的数组中\n",
    "            if minUglyNumber not in uglyNumbers:    # 考虑2*3和3*2都等于6，所以要判断是不是已经添加进数组中\n",
    "                uglyNumbers.append(minUglyNumber)\n",
    "                count+=1\n",
    "                \n",
    "            if minUglyNumber==uglyNumbers[twoPointer]*2:    # 移动minUglyNumber值所对应的指针\n",
    "                twoPointer+=1\n",
    "            elif minUglyNumber==uglyNumbers[threePointer]*3:\n",
    "                threePointer+=1\n",
    "            else:\n",
    "                fivePointer+=1\n",
    "        return uglyNumbers[-1]\n",
    "    \n",
    "if __name__==\"__main__\":\n",
    "    s = Solution()\n",
    "    print(s.GetUglyNumber_Solution(20))"
   ]
  },
  {
   "cell_type": "markdown",
   "metadata": {},
   "source": [
    "## 34. 第一个只出现一次的字符\n",
    "* 题目描述  \n",
    "在一个字符串(0<=字符串长度<=10000，全部由字母组成)中找到第一个只出现一次的字符,并返回它的位置, 如果没有则返回 -1（需要区分大小写）."
   ]
  },
  {
   "cell_type": "code",
   "execution_count": 16,
   "metadata": {},
   "outputs": [
    {
     "name": "stdout",
     "output_type": "stream",
     "text": [
      "4\n",
      "4\n"
     ]
    }
   ],
   "source": [
    "\"\"\"\n",
    "基本思想：\n",
    "通过构建一个哈希表(字典)来存储字符及其对应出现的次数，然后再遍历找到哈希表k-v对中value为1的字符\n",
    "\"\"\"\n",
    "# -*- coding:utf-8 -*-\n",
    "class Solution:\n",
    "    def FirstNotRepeatingChar_1(self, s):\n",
    "        # write code here\n",
    "        if len(s) == 0:\n",
    "            return -1\n",
    "        char_count_dict = dict()\n",
    "        for ch in s:\n",
    "            if ch not in char_count_dict:\n",
    "                char_count_dict[ch] = 1\n",
    "            else:\n",
    "                char_count_dict[ch] = char_count_dict[ch] + 1\n",
    "\n",
    "        for key, count in char_count_dict.items():    # 这种遍历适用于python3，因为py3中遍历字典的顺序与元素的添加顺序一致\n",
    "            if count == 1:\n",
    "                return s.index(key)\n",
    "        return -1\n",
    "    \n",
    "    def FirstNotRepeatingChar_2(self, s):\n",
    "        # write code here\n",
    "        if len(s) == 0:\n",
    "            return -1\n",
    "        char_count_dict = dict()\n",
    "        for ch in s:\n",
    "            if ch not in char_count_dict:\n",
    "                char_count_dict[ch] = 1\n",
    "            else:\n",
    "                char_count_dict[ch] = char_count_dict[ch] + 1\n",
    "\n",
    "        for ch in s:    # 这种遍历适用于python2和python3，因为py2中遍历字典的顺序是按照字符的顺序\n",
    "            if char_count_dict[ch] == 1:\n",
    "                return s.index(ch)\n",
    "        return -1\n",
    "    \n",
    "if __name__==\"__main__\":\n",
    "    solu = Solution()\n",
    "    s =\"google\"\n",
    "    print(solu.FirstNotRepeatingChar_1(s))\n",
    "    print(solu.FirstNotRepeatingChar_2(s))"
   ]
  },
  {
   "cell_type": "markdown",
   "metadata": {},
   "source": [
    "## 35. 数组中的逆序对\n",
    "* 题目描述  \n",
    "在数组中的两个数字，如果前面一个数字大于后面的数字，则这两个数字组成一个逆序对。输入一个数组,求出这个数组中的逆序对的总数P。并将P对1000000007取模的结果输出。 即输出P%1000000007"
   ]
  },
  {
   "cell_type": "code",
   "execution_count": 33,
   "metadata": {},
   "outputs": [
    {
     "name": "stdout",
     "output_type": "stream",
     "text": [
      "2519\n"
     ]
    }
   ],
   "source": [
    "\"\"\"\n",
    "基本思想：\n",
    "借助归并排序的思想，每次计算两个子数组中逆序对的个数，然后再合并，计算更大数组的逆序对个数\n",
    "\"\"\"\n",
    "## -*- coding:utf-8 -*-\n",
    "class Solution:\n",
    "    def InversePairs(self, data):\n",
    "        # write code here\n",
    "        global sum_count\n",
    "        sum_count = 0\n",
    "        def merge_sort(data):\n",
    "            global sum_count\n",
    "            if len(data) <= 1:\n",
    "                return data\n",
    "            n = len(data)\n",
    "            num = n // 2\n",
    "\n",
    "            left_merge_li = merge_sort(data[:num])\n",
    "            right_merge_li = merge_sort(data[num:])\n",
    "\n",
    "            leftPointer, rightPointer = 0, 0\n",
    "            result = []\n",
    "            left_len = len(left_merge_li)\n",
    "            right_len = len(right_merge_li)\n",
    "\n",
    "            while (leftPointer < left_len) and (rightPointer < right_len):\n",
    "                if left_merge_li[leftPointer] < right_merge_li[rightPointer]:\n",
    "                    result.append(left_merge_li[leftPointer])\n",
    "                    leftPointer += 1\n",
    "                else:\n",
    "                    result.append(right_merge_li[rightPointer])\n",
    "                    sum_count += (left_len - leftPointer)\n",
    "                    rightPointer += 1\n",
    "            result += left_merge_li[leftPointer:]\n",
    "            result += right_merge_li[rightPointer:]\n",
    "            return result\n",
    "        merge_sort(data)\n",
    "        return sum_count % 1000000007\n",
    "\n",
    "\n",
    "if __name__==\"__main__\":\n",
    "    s = Solution()\n",
    "    data = [364,637,341,406,747,995,234,971,571,219,993,407,416,366,315,301,601,650,418,355,460,505,360,965,516,648,727,667,465,849,455,181,486,149,588,233,144,174,557,67,746,550,474,162,268,142,463,221,882,576,604,739,288,569,256,936,275,401,497,82,935,983,583,523,697,478,147,795,380,973,958,115,773,870,259,655,446,863,735,784,3,671,433,630,425,930,64,266,235,187,284,665,874,80,45,848,38,811,267,575]\n",
    "    # data = [1,2,3,4,5,6,7,0]\n",
    "    print(s.InversePairs(data))"
   ]
  },
  {
   "cell_type": "markdown",
   "metadata": {},
   "source": [
    "## 36. 两个链表的第一个公共结点\n",
    "* 题目描述  \n",
    "输入两个链表，找出它们的第一个公共结点。"
   ]
  },
  {
   "cell_type": "code",
   "execution_count": 102,
   "metadata": {
    "scrolled": true
   },
   "outputs": [
    {
     "name": "stdout",
     "output_type": "stream",
     "text": [
      "\n",
      "6\n"
     ]
    }
   ],
   "source": [
    "\"\"\"\n",
    "基本思想：\n",
    "1. 分别计算两个链表的节点个数，得到二者节点个数的差值\n",
    "2. 让长的链表先遍历差值个节点，使两个链表后面的节点数相同\n",
    "3. 沿当前位置继续遍历，直到两个当前节点相等\n",
    "\n",
    "e.g.: \n",
    "l_1 = {1,3,5,7,9}\n",
    "l_2 = {2,7,9}\n",
    "差值=2\n",
    "\"\"\"\n",
    "# -*- coding:utf-8 -*-\n",
    "# class ListNode:\n",
    "#     def __init__(self, x):\n",
    "#         self.val = x\n",
    "#         self.next = None\n",
    "class Solution:\n",
    "    def FindFirstCommonNode(self, pHead1, pHead2):\n",
    "        # write code here\n",
    "        if not pHead1 or not pHead2:\n",
    "            return\n",
    "        if pHead1 == pHead2:\n",
    "            return pHead1\n",
    "        curNode1 = pHead1\n",
    "        curNode2 = pHead2\n",
    "        count1 = 0\n",
    "        count2 = 0\n",
    "        # 分别计算两个链表的元素个数\n",
    "        while curNode1 is not None:\n",
    "            curNode1 = curNode1.next\n",
    "            count1+=1\n",
    "        while curNode2 is not None:\n",
    "            curNode2 = curNode2.next\n",
    "            count2+=1\n",
    "        \n",
    "        curNode1 = pHead1\n",
    "        curNode2 = pHead2\n",
    "        if count1>count2:\n",
    "            substractNodeNum = count1 - count2    # 两个链表元素个数的差值\n",
    "            for i in range(substractNodeNum):    # 保证链表1的curNode1和链表2的curNode2后面的节点个数相同\n",
    "                curNode1 = curNode1.next\n",
    "        else:\n",
    "            substractNodeNum = count2 - count1\n",
    "            for i in range(substractNodeNum):\n",
    "                curNode2 = curNode2.next\n",
    "        \n",
    "        while curNode1 != curNode2:    # 出错：这里没有考虑链表1是{3，4，5，6，7，8}，链表2是{6，7，8}的特殊情况\n",
    "            curNode1 = curNode1.next\n",
    "            curNode2 = curNode2.next\n",
    "        return curNode1.val\n",
    "    \n",
    "if __name__==\"__main__\":\n",
    "    node_1 = DataStructure.Node(0)\n",
    "    l_1 = DataStructure.SingleLinkList(node_1)\n",
    "    l_1.append(1)\n",
    "    l_1.append(2)\n",
    "    l_1.append(3)\n",
    "    l_1.append(4)\n",
    "    l_1.append(5)\n",
    "    l_1.append(6)\n",
    "    l_1.append(7)    # l_1 = {0,1,2,3,4,5,6,7}, l_2 = {6,7}\n",
    "#     l_1.travel()\n",
    "    tmp1 = node_1\n",
    "    for i in range(6):\n",
    "        tmp1 = tmp1.next\n",
    "    node_2 = tmp1\n",
    "    \n",
    "    s = Solution()\n",
    "    print()\n",
    "    print(s.FindFirstCommonNode(node_1, node_2))"
   ]
  },
  {
   "cell_type": "markdown",
   "metadata": {},
   "source": [
    "## 37. 数字在排序数组中出现的次数\n",
    "* 题目描述  \n",
    "统计一个数字在排序数组中出现的次数。"
   ]
  },
  {
   "cell_type": "code",
   "execution_count": 36,
   "metadata": {},
   "outputs": [
    {
     "name": "stdout",
     "output_type": "stream",
     "text": [
      "3\n"
     ]
    }
   ],
   "source": [
    "# 方法1：暴力遍历\n",
    "# -*- coding:utf-8 -*-\n",
    "class Solution:\n",
    "    def GetNumberOfK(self, data, k):\n",
    "        # write code here\n",
    "        if not data:\n",
    "            return 0\n",
    "        count = 0\n",
    "        n = len(data)\n",
    "        index = 0\n",
    "        start = 0\n",
    "        end = 0\n",
    "        while index<n:\n",
    "            if (data[index]==k):\n",
    "                count+=1\n",
    "            index+=1\n",
    "        return count\n",
    "if __name__==\"__main__\":\n",
    "    s = Solution()\n",
    "    data = [1,2,3,4,5,6,6,6,7,5,9,2]\n",
    "    print(s.GetNumberOfK(data,6))"
   ]
  },
  {
   "cell_type": "code",
   "execution_count": 37,
   "metadata": {},
   "outputs": [
    {
     "name": "stdout",
     "output_type": "stream",
     "text": [
      "3\n"
     ]
    }
   ],
   "source": [
    "# 方法2：在暴力遍历基础上优化\n",
    "# -*- coding:utf-8 -*-\n",
    "class Solution:\n",
    "    def GetNumberOfK(self, data, k):\n",
    "        # write code here\n",
    "        if not data:\n",
    "            return 0\n",
    "        count = 0\n",
    "        n = len(data)\n",
    "        index = 0\n",
    "        start = 0\n",
    "        end = 0\n",
    "        while index<n:\n",
    "            if (data[index]==k):\n",
    "                count+=1\n",
    "            elif (index>0) and (data[index]!=k) and (data[index-1]==k):\n",
    "                break\n",
    "            index+=1\n",
    "        return count\n",
    "if __name__==\"__main__\":\n",
    "    s = Solution()\n",
    "    data = [1,2,3,4,5,6,6,6,7,5,9,2]\n",
    "    print(s.GetNumberOfK(data,6))"
   ]
  },
  {
   "cell_type": "code",
   "execution_count": 38,
   "metadata": {},
   "outputs": [
    {
     "name": "stdout",
     "output_type": "stream",
     "text": [
      "4\n"
     ]
    }
   ],
   "source": [
    "# 方法2：二分查找\n",
    "\"\"\"\n",
    "基本思想：\n",
    "二分法先查找第一次出现的k，然后二分查找最后一次出现的k\n",
    "\"\"\"\n",
    "# -*- coding:utf-8 -*-\n",
    "class Solution:\n",
    "    def GetNumberOfK(self, data, k):\n",
    "        # write code here\n",
    "        if not data:\n",
    "            return 0\n",
    "        start = self.GetFirstK(data, k)\n",
    "        end = self.GetLastK(data, k)\n",
    "        if start != -1 and end != -1:\n",
    "            return (end - start + 1)\n",
    "        else:\n",
    "            return 0\n",
    "\n",
    "    def GetFirstK(self, data, k):\n",
    "        start = 0\n",
    "        end = len(data) - 1\n",
    "        while start <= end:\n",
    "            mid = (start + end) // 2\n",
    "            if data[mid] == k:\n",
    "                if data[mid - 1] != k or mid < 1:\n",
    "                    return mid\n",
    "                else:\n",
    "                    end = mid - 1\n",
    "            elif data[mid] > k:\n",
    "                end = mid - 1\n",
    "            else:\n",
    "                start = mid + 1\n",
    "        return -1\n",
    "\n",
    "    def GetLastK(self, data, k):\n",
    "        n = len(data)\n",
    "        start = 0\n",
    "        end = len(data) - 1\n",
    "        while start <= end:\n",
    "            mid = (start + end) // 2\n",
    "            if data[mid] == k:\n",
    "                if mid + 1 >= n or data[mid + 1] != k:\n",
    "                    return mid\n",
    "                else:\n",
    "                    start = mid + 1\n",
    "            elif data[mid] > k:\n",
    "                end = mid - 1\n",
    "            else:\n",
    "                start = mid + 1\n",
    "        return -1\n",
    "\n",
    "if __name__ == '__main__':\n",
    "    s =Solution()\n",
    "    data = [1,2,3,3,3,3]\n",
    "    k = 3\n",
    "    print(s.GetNumberOfK(data,k))"
   ]
  },
  {
   "cell_type": "markdown",
   "metadata": {},
   "source": [
    "## 38.  二叉树的深度\n",
    "* 题目描述  \n",
    "输入一棵二叉树，求该树的深度。从根结点到叶结点依次经过的结点（含根、叶结点）形成树的一条路径，最长路径的长度为树的深度。"
   ]
  },
  {
   "cell_type": "code",
   "execution_count": 7,
   "metadata": {},
   "outputs": [
    {
     "name": "stdout",
     "output_type": "stream",
     "text": [
      "\n",
      "4\n"
     ]
    }
   ],
   "source": [
    "\"\"\"\n",
    "基本思想：\n",
    "递归，拆分子问题为根节点的左右子节点是否为None：为None返回0，不为None则继续递归\n",
    "递归停止条件：根节点是否为None\n",
    "\"\"\"\n",
    "class Solution:\n",
    "    def TreeDepth(self, pRoot):\n",
    "        # write code here\n",
    "        if not pRoot:    # 递归停止条件：节点为None时，返回0，即没有层\n",
    "            return 0\n",
    "        depth = max(self.TreeDepth(pRoot.left)+1, self.TreeDepth(pRoot.right)+1)    # pRoot.left或者pRoot.right为None，而pRoot不为None时，层数为1，故加1\n",
    "        return depth\n",
    "if __name__ == \"__main__\":\n",
    "    root = DataStructure.TreeNode(1)\n",
    "    node_1 = DataStructure.TreeNode(2)\n",
    "    node_2 = DataStructure.TreeNode(3)\n",
    "    node_3 = DataStructure.TreeNode(4)\n",
    "    node_4 = DataStructure.TreeNode(5)\n",
    "    node_5 = DataStructure.TreeNode(6)\n",
    "    node_6 = DataStructure.TreeNode(7)\n",
    "    root.left = node_1\n",
    "    root.right = node_2\n",
    "    node_1.left = node_3\n",
    "    node_1.right = node_4\n",
    "    node_4.left = node_6\n",
    "    node_2.right = node_5\n",
    "\n",
    "    s = Solution()\n",
    "    print()\n",
    "\n",
    "    print(s.TreeDepth(root))"
   ]
  },
  {
   "cell_type": "code",
   "execution_count": null,
   "metadata": {},
   "outputs": [],
   "source": [
    "# 更易理解的写法\n",
    "class Solution:\n",
    "    def TreeDepth(self, pRoot):\n",
    "        # write code here\n",
    "        if not pRoot:    # 递归停止条件：节点为None时，返回0，即没有层\n",
    "            return 0\n",
    "        # depth = max(self.TreeDepth(pRoot.left)+1, self.TreeDepth(pRoot.right)+1)    # pRoot.left或者pRoot.right为None时，层数为1，故加1\n",
    "        leftDepth = self.TreeDepth(pRoot.left)+1\n",
    "        rightDepth = self.TreeDepth(pRoot.right)+1\n",
    "        depth = leftDepth if leftDepth>rightDepth else rightDepth\n",
    "        return depth"
   ]
  },
  {
   "cell_type": "markdown",
   "metadata": {},
   "source": [
    "## 39. 平衡二叉树\n",
    "* 题目描述  \n",
    "输入一棵二叉树，判断该二叉树是否是平衡二叉树。"
   ]
  },
  {
   "cell_type": "code",
   "execution_count": 8,
   "metadata": {},
   "outputs": [
    {
     "name": "stdout",
     "output_type": "stream",
     "text": [
      "\n",
      "True\n"
     ]
    }
   ],
   "source": [
    "\"\"\"\n",
    "基本思想：\n",
    "1. 递归，分别求左右子树的深度，判断相差是否大于1（借鉴38题求树的最大深度的思路）\n",
    "2. 设置标志位flag位对象属性self.flag\n",
    "\"\"\"\n",
    "class Solution:\n",
    "    def TreeDepth(self, pRoot):\n",
    "        \"\"\"求树的左右子树的深度，再求树的最大深度并返回\"\"\"\n",
    "        # write code here\n",
    "        if not pRoot:    # 递归停止条件：节点为None时，返回0，即没有层\n",
    "            return 0\n",
    "        leftDepth = self.TreeDepth(pRoot.left)    # 计算root节点左子树的深度\n",
    "        rightDepth = self.TreeDepth(pRoot.right)    # 计算root节点右子树的深度\n",
    "        if abs(leftDepth-rightDepth)>1:\n",
    "            self.flag = False    # 如果左右子树的深度相差1，则标志变量设为false，表示不是平衡二叉树\n",
    "        return max(leftDepth, rightDepth)+1\n",
    "    \n",
    "    def IsBalanced_Solution(self, pRoot):\n",
    "        \"\"\"调用self.TreeDepth(pRoot)，判断是否为平衡二叉树\"\"\"\n",
    "        # write code here\n",
    "        self.flag = True    # 技巧：设置标致为对象属性，这样可以在Solution类中的所有方法中共用\n",
    "        self.TreeDepth(pRoot)\n",
    "        return self.flag\n",
    "if __name__ == \"__main__\":\n",
    "    root = DataStructure.TreeNode(1)\n",
    "    node_1 = DataStructure.TreeNode(2)\n",
    "    node_2 = DataStructure.TreeNode(3)\n",
    "    node_3 = DataStructure.TreeNode(4)\n",
    "    node_4 = DataStructure.TreeNode(5)\n",
    "    node_5 = DataStructure.TreeNode(6)\n",
    "    node_6 = DataStructure.TreeNode(7)\n",
    "    root.left = node_1\n",
    "    root.right = node_2\n",
    "    node_1.left = node_3\n",
    "    node_1.right = node_4\n",
    "    node_4.left = node_6\n",
    "    node_2.right = node_5\n",
    "\n",
    "    s = Solution()\n",
    "    print()\n",
    "\n",
    "    print(s.IsBalanced_Solution(root))"
   ]
  },
  {
   "cell_type": "markdown",
   "metadata": {},
   "source": [
    "## 40. 数组中只出现一次的数字\n",
    "* 题目描述  \n",
    "一个整型数组里除了两个数字之外，其他的数字都出现了两次。请写程序找出这两个只出现一次的数字。"
   ]
  },
  {
   "cell_type": "code",
   "execution_count": 55,
   "metadata": {
    "scrolled": true
   },
   "outputs": [
    {
     "name": "stdout",
     "output_type": "stream",
     "text": [
      "[6, 5]\n"
     ]
    }
   ],
   "source": [
    "\"\"\"\n",
    "基本思想：\n",
    "借助的数学定理：\n",
    "# 数字异或其本身等于0，（二进制数的位数相同为0，不同为1）\n",
    "# a^b^c = a^c^b  （^ 异或符）\n",
    "# 按位与运算符&：参与运算的两个值,如果两个相应位都为1,则该位的结果为1,否则为0\n",
    "\n",
    "程序步骤：\n",
    "1.先做所有元素的异或，也就是两个不同元素的异或\n",
    "2.再求异或值中的1第一次出现的位置count，并求得用于将元素分组的mask\n",
    "3.将数组元素按照与mask做与运算是否为0分为两组，每组有一个只出现一次的数字\n",
    "\"\"\"\n",
    "# -*- coding:utf-8 -*-\n",
    "class Solution:\n",
    "    # 返回[a,b] 其中ab是出现一次的两个数字\n",
    "    def FindNumsAppearOnce(self, array):\n",
    "        # write code here\n",
    "        # 数字异或其本身等于0，（二进制数的位数相同为0，不同为1）\n",
    "        # a^b^c = a^c^b  （^ 异或符）\n",
    "        # 按位与运算符&：参与运算的两个值,如果两个相应位都为1,则该位的结果为1,否则为0\n",
    "        \n",
    "        # 1.先做所有元素的异或\n",
    "        if len(array)<2:\n",
    "            return None\n",
    "        xorOfArray = None\n",
    "        for item in array:\n",
    "            if xorOfArray is None:\n",
    "                xorOfArray = item\n",
    "            else:\n",
    "                xorOfArray = xorOfArray^item\n",
    "        # 2. 再求异或值中的1第一次出现的位置count，并求得mask\n",
    "        count = 0\n",
    "        while xorOfArray%2==0:\n",
    "            xorOfArray = xorOfArray>>1\n",
    "            count+=1\n",
    "        mask = 1<<count\n",
    "        \n",
    "        # 3.将数组元素按照与mask做与运算是否为0分为两组，每组有一个只出现一次的数字\n",
    "        firstOnceNum = None\n",
    "        secondOnceNum = None\n",
    "        for item in array:\n",
    "            if item & mask==0:\n",
    "                if firstOnceNum is None:\n",
    "                    firstOnceNum = item\n",
    "                else:\n",
    "                    firstOnceNum = firstOnceNum^item\n",
    "            else:\n",
    "                if secondOnceNum is None:\n",
    "                    secondOnceNum = item\n",
    "                else:\n",
    "                    secondOnceNum = secondOnceNum^item\n",
    "        return [firstOnceNum,secondOnceNum]\n",
    "if __name__ == '__main__':\n",
    "    s =Solution()\n",
    "    array = [3,4,5,4,3,6,1,1]\n",
    "    print(s.FindNumsAppearOnce(array))"
   ]
  },
  {
   "cell_type": "code",
   "execution_count": 54,
   "metadata": {
    "scrolled": true
   },
   "outputs": [],
   "source": [
    "# 其他方法：\n",
    "# 1. 利用字典存储数字及其出现的次数\n",
    "# 2. 数组排序找相邻且不同的数字"
   ]
  },
  {
   "cell_type": "markdown",
   "metadata": {},
   "source": [
    "## 41. 和为S的连续正数序列\n",
    "* 题目描述  \n",
    "小明很喜欢数学,有一天他在做数学作业时,要求计算出9~16的和,他马上就写出了正确答案是100。但是他并不满足于此,他在想究竟有多少种连续的正数序列的和为100(至少包括两个数)。没多久,他就得到另一组连续正数和为100的序列:18,19,20,21,22。现在把问题交给你,你能不能也很快的找出所有和为S的连续正数序列? Good Luck!\n",
    "\n",
    ">输出描述:\n",
    "输出所有和为S的连续正数序列。序列内按照从小至大的顺序，序列间按照开始数字从小到大的顺序"
   ]
  },
  {
   "cell_type": "code",
   "execution_count": 56,
   "metadata": {},
   "outputs": [
    {
     "name": "stdout",
     "output_type": "stream",
     "text": [
      "[[1, 2, 3, 4, 5, 6], [6, 7, 8], [10, 11]]\n"
     ]
    }
   ],
   "source": [
    "\"\"\"\n",
    "基本思想：\n",
    "双指针--快慢指针；\n",
    "利用数组同一侧的两个指针值的夹逼区间来表示序列和，\n",
    "根据当前和currentSum与tsum的相对大小来移动两个指针，同时更新当前和currentSum\n",
    "\n",
    "\"\"\"\n",
    "# -*- coding:utf-8 -*-\n",
    "class Solution:\n",
    "    def FindContinuousSequence(self, tsum):\n",
    "        # write code here\n",
    "        if tsum<3:\n",
    "            return []\n",
    "        sequences = []\n",
    "        \n",
    "        small = 1    # 初始化双指针small和big\n",
    "        big = 2\n",
    "        currentSum = small+big\n",
    "        mid = (tsum+1)//2    # small指针的停止条件\n",
    "        while small<=mid:\n",
    "            if currentSum==tsum:    # 如果small-big的序列和等于tsum，则将其添加到sequences中，同时移动big指针，更新当前和currentSum\n",
    "                tmp = self.CreateTsumSequence(small,big)\n",
    "                sequences.append(tmp)\n",
    "                big+=1\n",
    "                currentSum+=big\n",
    "            elif currentSum>tsum:    # 如果small-big的序列和大于tsum，则当前和减去small，移动small指针\n",
    "                currentSum-=small\n",
    "                small+=1\n",
    "            else:    # 如果small-big的序列和小于tsum，则移动big指针，当前和加上big\n",
    "                big+=1\n",
    "                currentSum+=big\n",
    "        return sequences\n",
    "        \n",
    "    def CreateTsumSequence(self,small,big):    # 创建一个从(small-big)的序列列表\n",
    "        return list(range(small,big+1))\n",
    "if __name__==\"__main__\":\n",
    "    s = Solution()\n",
    "    print(s.FindContinuousSequence(21))"
   ]
  },
  {
   "cell_type": "markdown",
   "metadata": {},
   "source": [
    "## 42.和为S的两个数字\n",
    "* 题目描述  \n",
    "输入一个递增排序的数组和一个数字S，在数组中查找两个数，使得他们的和正好是S，如果有多对数字的和等于S，输出两个数的乘积最小的。  \n",
    "输出描述:  \n",
    "对应每个测试案例，输出两个数，小的先输出。"
   ]
  },
  {
   "cell_type": "code",
   "execution_count": 58,
   "metadata": {},
   "outputs": [
    {
     "name": "stdout",
     "output_type": "stream",
     "text": [
      "[2, 7]\n"
     ]
    }
   ],
   "source": [
    "\"\"\"\n",
    "基本思想：\n",
    "双指针--左右指针\n",
    "利用数组两侧的两个指针值来表示两个数字的和，\n",
    "根据当前和currentSum与tsum的相对大小来移动两个指针left和right，同时更新当前和currentSum\n",
    "\"\"\"\n",
    "# -*- coding:utf-8 -*-\n",
    "class Solution:\n",
    "    def FindNumbersWithSum(self, array, tsum):\n",
    "        # write code here\n",
    "        if not array:\n",
    "            return []\n",
    "        res = []\n",
    "        left = 0\n",
    "        right = len(array)-1\n",
    "\n",
    "        while left<right:\n",
    "            currentSum = array[left] + array[right]\n",
    "            if currentSum>tsum:    # 如果两个数的当前和大于tsum，则右指针减1\n",
    "                right-=1\n",
    "            elif currentSum<tsum:    # 如果两个数的当前和小于tsum，则左指针加1\n",
    "                left+=1\n",
    "            else:    # 如果两个数的当前和等于tsum，则将左右指针指向的两个数加到res中\n",
    "                res.append([array[left],array[right]])\n",
    "                left+=1\n",
    "        if len(res)==0:    # 如果结果不存在，则返回空list\n",
    "            return []\n",
    "        elif len(res)==1:    # 如果只有一个解，直接返回\n",
    "            return res[0]\n",
    "        else:    # # 如果有多个解，选择乘积最小的解\n",
    "            tmpLi = [l[0]*l[1] for l in res]\n",
    "            index = tmpLi.index(min(tmpLi))\n",
    "            return res[index]\n",
    "if __name__ == '__main__':\n",
    "    s = Solution()\n",
    "    array = [1,2,4,5,7,9]\n",
    "    tsum = 9\n",
    "    print(s.FindNumbersWithSum(array, tsum))"
   ]
  },
  {
   "cell_type": "markdown",
   "metadata": {},
   "source": [
    "## 43.左旋转字符串\n",
    "* 题目描述  \n",
    "汇编语言中有一种移位指令叫做循环左移（ROL），现在有个简单的任务，就是用字符串模拟这个指令的运算结果。对于一个给定的字符序列S，请你把其循环左移K位后的序列输出。例如，字符序列S=”abcXYZdef”,要求输出循环左移3位后的结果，即“XYZdefabc”。是不是很简单？OK，搞定它！"
   ]
  },
  {
   "cell_type": "code",
   "execution_count": 47,
   "metadata": {},
   "outputs": [
    {
     "name": "stdout",
     "output_type": "stream",
     "text": [
      "XYZdefabc\n",
      "XYZdefabc\n"
     ]
    }
   ],
   "source": [
    "\"\"\"\n",
    "基本思想：\n",
    "方法1：字符串直接切割和拼接\n",
    "\n",
    "方法2： 字符串的翻转和字符子串的翻转。e.g. \"abcXYZdef\"----》\"fedZYX|cba\"----\"XYZdef|abc\"\n",
    "\"\"\"\n",
    "# -*- coding:utf-8 -*-\n",
    "class Solution:\n",
    "    def LeftRotateString_1(self, s, n):\n",
    "        # write code here\n",
    "        \"\"\"方法1：字符串的切割和拼接\"\"\"\n",
    "        if n<0 or len(s)==0:\n",
    "            return \"\"\n",
    "        sub_s_1 = s[:n]\n",
    "        sub_s_2 = s[n:]\n",
    "        # return \"\".join([sub_s_2,sub_s_1])\n",
    "        # return sub_s_2+sub_s_1\n",
    "        return \"{}{}\".format(sub_s_2,sub_s_1)\n",
    "    \n",
    "    def reverseStr(self, s):\n",
    "        return s[::-1]    # 出错：字符串翻转时，索引之间没有逗号\n",
    "    \n",
    "    def LeftRotateString_2(self, s, n):\n",
    "        \"\"\"方法2：字符串和子串的旋转\"\"\"\n",
    "        length = len(s)\n",
    "        reverse_s = self.reverseStr(s)\n",
    "        reverse_s1 = self.reverseStr(reverse_s[:length-n])\n",
    "        reverse_s2 = self.reverseStr(reverse_s[length-n:])\n",
    "        return reverse_s1+reverse_s2\n",
    "    \n",
    "if __name__==\"__main__\":\n",
    "    solu = Solution()\n",
    "    s = \"abcXYZdef\"\n",
    "    print(solu.LeftRotateString_1(s,3))\n",
    "    print(solu.LeftRotateString_2(s,3))"
   ]
  },
  {
   "cell_type": "markdown",
   "metadata": {},
   "source": [
    "## 44.翻转单词顺序列\n",
    "* 题目描述  \n",
    "牛客最近来了一个新员工Fish，每天早晨总是会拿着一本英文杂志，写些句子在本子上。同事Cat对Fish写的内容颇感兴趣，有一天他向Fish借来翻看，但却读不懂它的意思。例如，“student. a am I”。后来才意识到，这家伙原来把句子单词的顺序翻转了，正确的句子应该是“I am a student.”。Cat对一一的翻转这些单词顺序可不在行，你能帮助他么？"
   ]
  },
  {
   "cell_type": "code",
   "execution_count": 52,
   "metadata": {},
   "outputs": [
    {
     "name": "stdout",
     "output_type": "stream",
     "text": [
      "i am a student.\n"
     ]
    }
   ],
   "source": [
    "\"\"\"\n",
    "基本思想：\n",
    "字符串的翻转和字符子串的翻转\n",
    "\"\"\"\n",
    "# -*- coding:utf-8 -*-\n",
    "class Solution:\n",
    "    def reverseStr(self,s):\n",
    "        return s[::-1]\n",
    "    \n",
    "    def ReverseSentence(self, s):\n",
    "        # write code here\n",
    "        if len(s.strip())<=1:    # 考虑含有多个空格的情况，用str.strip()\n",
    "            return s\n",
    "        reverse_s = self.reverseStr(s)\n",
    "        reverse_sub_str_list = []\n",
    "        for sub_str in reverse_s.split():\n",
    "            reverse_sub_str_list.append(self.reverseStr(sub_str))\n",
    "        return \" \".join(reverse_sub_str_list)\n",
    "if __name__ == '__main__':\n",
    "    solu = Solution()\n",
    "    s = \"student. a am i\"\n",
    "    s2 = \" \"\n",
    "    print(solu.ReverseSentence(s))"
   ]
  },
  {
   "cell_type": "markdown",
   "metadata": {},
   "source": [
    "## 45.扑克牌顺子\n",
    "* 题目描述  \n",
    "LL今天心情特别好,因为他去买了一副扑克牌,发现里面居然有2个大王,2个小王(一副牌原本是54张^_^)...他随机从中抽出了5张牌,想测测自己的手气,看看能不能抽到顺子,如果抽到的话,他决定去买体育彩票,嘿嘿！！“红心A,黑桃3,小王,大王,方片5”,“Oh My God!”不是顺子.....LL不高兴了,他想了想,决定大\\小 王可以看成任何数字,并且A看作1,J为11,Q为12,K为13。上面的5张牌就可以变成“1,2,3,4,5”(大小王分别看作2和4),“So Lucky!”。LL决定去买体育彩票啦。 现在,要求你使用这幅牌模拟上面的过程,然后告诉我们LL的运气如何， 如果牌能组成顺子就输出true，否则就输出false。为了方便起见,你可以认为大小王是0。"
   ]
  },
  {
   "cell_type": "code",
   "execution_count": 60,
   "metadata": {},
   "outputs": [
    {
     "name": "stdout",
     "output_type": "stream",
     "text": [
      "False\n"
     ]
    }
   ],
   "source": [
    "\"\"\"\n",
    "基本思想：\n",
    "1. 数组升序排序\n",
    "2. 遍历排序数组，计算数组中大小王（即，数字0）的个数count_0\n",
    "3. 遍历数组相邻的非零元素之间需要0的个数need_0；如果count_0始终大于等于0，则返回True，否则返回False\n",
    "\"\"\"\n",
    "# -*- coding:utf-8 -*-\n",
    "class Solution:\n",
    "    def IsContinuous(self, numbers):\n",
    "        # write code here\n",
    "        if len(numbers)<5:\n",
    "            return None\n",
    "        numbers.sort()    # 数组升序排序\n",
    "        count_0 = 0\n",
    "        for item in numbers:    # 遍历排序数组，计算数组中大小王（即，数字0）的个数\n",
    "            if item==0:\n",
    "                count_0 += 1\n",
    "        \n",
    "        for i in range(len(numbers)-1):\n",
    "            if numbers[i]==0:\n",
    "                continue\n",
    "            elif numbers[i]==numbers[i+1]:\n",
    "                return False\n",
    "            else:\n",
    "                # if count_0<0:\n",
    "                #    return False\n",
    "                # else:\n",
    "                need_0 = numbers[i+1] - numbers[i]-1\n",
    "                count_0-=need_0\n",
    "                if count_0<0:    # 出错，判断小于0要在减去need_0之后再判断\n",
    "                    return False\n",
    "        return True\n",
    "if __name__==\"__main__\":\n",
    "    s = Solution()\n",
    "    numbers = [1,5,6,3,0]\n",
    "    print(s.IsContinuous(numbers))"
   ]
  },
  {
   "cell_type": "markdown",
   "metadata": {},
   "source": [
    "## 46.孩子们的游戏(圆圈中最后剩下的数)\n",
    "* 题目描述  \n",
    "每年六一儿童节,牛客都会准备一些小礼物去看望孤儿院的小朋友,今年亦是如此。HF作为牛客的资深元老,自然也准备了一些小游戏。其中,有个游戏是这样的:首先,让小朋友们围成一个大圈。然后,他随机指定一个数m,让编号为0的小朋友开始报数。每次喊到m-1的那个小朋友要出列唱首歌,然后可以在礼品箱中任意的挑选礼物,并且不再回到圈中,从他的下一个小朋友开始,继续0...m-1报数....这样下去....直到剩下最后一个小朋友,可以不用表演,并且拿到牛客名贵的“名侦探柯南”典藏版(名额有限哦!!^_^)。请你试着想下,哪个小朋友会得到这份礼品呢？(注：小朋友的编号是从0到n-1)\n",
    "\n",
    "如果没有小朋友，请返回-1"
   ]
  },
  {
   "cell_type": "code",
   "execution_count": 59,
   "metadata": {},
   "outputs": [
    {
     "name": "stdout",
     "output_type": "stream",
     "text": [
      "4\n"
     ]
    }
   ],
   "source": [
    "\"\"\"\n",
    "基本思想：\n",
    "count计数，\n",
    "如果想保持一个数组不动，那么就需要拷贝成另一个数组对该数组进行操作\n",
    "\"\"\"\n",
    "# -*- coding:utf-8 -*-\n",
    "class Solution:\n",
    "    def LastRemaining_Solution(self, n, m):\n",
    "        # write code here\n",
    "        if n<=0 or m<=0:\n",
    "            return -1    # 出错，没有审清题，题中说没有则返回-1，所以不要返回None\n",
    "        array = list(range(n))     # 实例化一个编号序列\n",
    "        count = 0\n",
    "        while n>1:\n",
    "            array_tmp = array[:]    # 这句代码是精髓，复制一个数组array_tmp进行操作，array数组只负责remove元素\n",
    "            for item in array_tmp:\n",
    "                if (count+1)%m==0:\n",
    "                    array.remove(item)\n",
    "                    n-=1\n",
    "                count+=1    # 这句话放在if前面还是这里区别很大，因为是从0开始报数，所以放到这里\n",
    "        return array[0]\n",
    "if __name__ == '__main__':\n",
    "    s = Solution()\n",
    "    print(s.LastRemaining_Solution(10,4))"
   ]
  },
  {
   "cell_type": "markdown",
   "metadata": {},
   "source": [
    "## 47. 求1+2+3+...+n\n",
    "* 题目描述  \n",
    "求1+2+3+...+n，要求不能使用乘除法、for、while、if、else、switch、case等关键字及条件判断语句（A?B:C）。"
   ]
  },
  {
   "cell_type": "code",
   "execution_count": 75,
   "metadata": {},
   "outputs": [
    {
     "name": "stdout",
     "output_type": "stream",
     "text": [
      "15\n"
     ]
    }
   ],
   "source": [
    "\"\"\"\n",
    "基本思想：\n",
    "短路原理、递归；\n",
    "利用逻辑运算的短路原理来替代递归操作的递归停止条件\n",
    "\n",
    "逻辑运算的短路原理：\n",
    "# 逻辑或运算，如果前面的条件为真，则直接返回其对应的值\n",
    ">>> 1 or 0\n",
    "output: 1\n",
    "\n",
    "# 逻辑与运算，如果前面的条件为假，则直接返回其对应的值,否则返回后面的值\n",
    ">>> 0 and 1\n",
    "output: 0\n",
    "\"\"\"\n",
    "# -*- coding:utf-8 -*-\n",
    "class Solution:\n",
    "    def Sum_Solution(self, n):\n",
    "        # write code here\n",
    "        sum_ = n\n",
    "        sum_ = sum_ and (sum_+self.Sum_Solution(n-1))    # 与运算的短路原理：当sum_为0时，停止递归，直接返回0\n",
    "        return sum_\n",
    "if __name__==\"__main__\":\n",
    "    s = Solution()\n",
    "    print(s.Sum_Solution(5))"
   ]
  },
  {
   "cell_type": "markdown",
   "metadata": {},
   "source": [
    "## 48.不用加减乘除做加法\n",
    "* 题目描述  \n",
    "写一个函数，求两个整数之和，要求在函数体内不得使用+、-、*、/四则运算符号。"
   ]
  },
  {
   "cell_type": "code",
   "execution_count": 1,
   "metadata": {},
   "outputs": [
    {
     "name": "stdout",
     "output_type": "stream",
     "text": [
      "21\n"
     ]
    }
   ],
   "source": [
    "\"\"\"\n",
    "基本思想：\n",
    "二进制的位运算：与运算和异或运算\n",
    "这里，与运算是为了判断是否存在进位\n",
    "异或运算是为了啥？？？\n",
    "\"\"\"\n",
    "# -*- coding:utf-8 -*-\n",
    "class Solution:\n",
    "    def Add(self, num1, num2):\n",
    "        # write code here\n",
    "        andNum = (num1 & num2)<<1    # 二进制进位：注意与运算结果不为0要记得进位\n",
    "        xorNum = num1 ^ num2\n",
    "        while andNum!=0:    # 循环停止条件，与运算结果为0\n",
    "            tmpAnd = (andNum&xorNum)<<1   # 注意与运算结果不为0要记得进位\n",
    "            tmpXor = andNum ^ xorNum\n",
    "            tmpXor = tmpXor & 0xffffffff    # 取数字的前32位，因为python里数字是变长的\n",
    "            andNum = tmpAnd\n",
    "            xorNum = tmpXor\n",
    "        return xorNum if xorNum<=0x7fffffff else ~(xorNum^0xffffffff)    # 如果是正数，直接返回，否则按位取反再取非\n",
    "if __name__==\"__main__\":\n",
    "    s = Solution()\n",
    "    print(s.Add(7,14))"
   ]
  },
  {
   "cell_type": "markdown",
   "metadata": {},
   "source": [
    "## 49. 把字符串转换成整数\n",
    "* 题目描述  \n",
    "将一个字符串转换成一个整数，要求不能使用字符串转换整数的库函数。 数值为0或者字符串不是一个合法的数值则返回0"
   ]
  },
  {
   "cell_type": "code",
   "execution_count": 63,
   "metadata": {},
   "outputs": [
    {
     "name": "stdout",
     "output_type": "stream",
     "text": [
      "0\n",
      "-123\n"
     ]
    }
   ],
   "source": [
    "\"\"\"\n",
    "基本思想：\n",
    "利用字典进行字符到数字的转换；\n",
    "需要考虑很多特殊情况：如None,\"\",\"0\",\"+\",\"-\"\n",
    "\"\"\"\n",
    "# -*- coding:utf-8 -*-\n",
    "class Solution:\n",
    "    def StrToInt(self, s):\n",
    "        # write code here\n",
    "        if not s:    # s为None，返回0\n",
    "            return 0\n",
    "        elif s==\"\" or s==\"0\" or s==\"+\" or s==\"-\":     # s为特殊字符，返回0\n",
    "            return 0\n",
    "        else:\n",
    "            nums_dic = {\"0\":0,\"1\":1,\"2\":2,\"3\":3,\"4\":4,\"5\":5,\"6\":6,\"7\":7,\"8\":8,\"9\":9,}\n",
    "            start_index = 0\n",
    "            result = 0\n",
    "            flag = 1\n",
    "            if s[0]==\"+\":\n",
    "                start_index = 1\n",
    "            elif s[0]==\"-\":\n",
    "                flag = -1\n",
    "                start_index = 1\n",
    "\n",
    "            length = len(s)\n",
    "            for i in range(start_index, length):\n",
    "                if s[i] not in nums_dic:    # 字符不属于0~9，返回0\n",
    "                    return 0\n",
    "                else:\n",
    "                    result = result*10 + nums_dic[s[i]]    # ！！！：从左向右遍历，每遍历一位，之前的结果乘以10\n",
    "            \n",
    "            if flag==1 and result>0x7fffffff:    # 最大的正整数是0x7fffffff，不在范围内返回0\n",
    "                return 0\n",
    "            elif flag==-1 and result>0x80000000:    # 最小的负整数是0x80000000，不在范围内返回0\n",
    "                return 0\n",
    "            result = flag*result\n",
    "        return result\n",
    "if __name__==\"__main__\":\n",
    "    s = Solution()\n",
    "    st_1 = \"-2147483649\"\n",
    "    st_2 = \"-123\"\n",
    "    print(s.StrToInt(st_1))\n",
    "    print(s.StrToInt(st_2))"
   ]
  },
  {
   "cell_type": "markdown",
   "metadata": {},
   "source": [
    "## 50. 数组中重复的数字\n",
    "* 题目描述  \n",
    "在一个长度为n的数组里的所有数字都在0到n-1的范围内。 数组中某些数字是重复的，但不知道有几个数字是重复的。也不知道每个数字重复几次。请找出数组中任意一个重复的数字。 例如，如果输入长度为7的数组{2,3,1,0,2,5,3}，那么对应的输出是第一个重复的数字2。"
   ]
  },
  {
   "cell_type": "code",
   "execution_count": 95,
   "metadata": {},
   "outputs": [
    {
     "name": "stdout",
     "output_type": "stream",
     "text": [
      "False\n"
     ]
    }
   ],
   "source": [
    "\"\"\"\n",
    "基本思想：\n",
    "利用列表的元素值与其索引的关系逐个进行匹配，\n",
    "当发现numbers[4]==numbers[numbers[4]==2]时，就找到了重复的元素\n",
    "\"\"\"\n",
    "# -*- coding:utf-8 -*-\n",
    "class Solution:\n",
    "    # 这里要特别注意~找到任意重复的一个值并赋值到duplication[0]\n",
    "    # 函数返回True/False\n",
    "    def duplicate(self, numbers, duplication):\n",
    "        # write code here\n",
    "        if not numbers:    # numbers为空列表的情况，返回False\n",
    "            return False\n",
    "        for item in numbers:\n",
    "            if item<0 or item>len(numbers)-1:    # 列表中元素不在[0,n-1]的情况，返回False\n",
    "                return False\n",
    "        res = False\n",
    "        n = len(numbers)\n",
    "        index = 0\n",
    "        while index<n:\n",
    "            if index==numbers[index]:\n",
    "                index+=1\n",
    "                continue    # 出错：这里应该加上continue\n",
    "            if numbers[index]!=numbers[numbers[index]]:\n",
    "                tmp = numbers[numbers[index]]    # 调换列表中两个元素的位置，方法1\n",
    "                numbers[numbers[index]] = numbers[index]\n",
    "                numbers[index] = tmp\n",
    "                # idx = numbers[index]    # 调换列表中两个元素的位置，方法2\n",
    "                # numbers[index],numbers[idx] = numbers[idx],numbers[index]\n",
    "            else:\n",
    "                duplication[0]=numbers[index]\n",
    "                res = True\n",
    "                break\n",
    "        return res\n",
    "if __name__==\"__main__\":\n",
    "    s = Solution()\n",
    "    numbers = [2,3,1,0]\n",
    "    duplication = [999]\n",
    "    print(s.duplicate(numbers,duplication))"
   ]
  },
  {
   "cell_type": "markdown",
   "metadata": {},
   "source": [
    "## 51. 构建乘积数组\n",
    "* 题目描述  \n",
    "给定一个数组A[0,1,...,n-1],请构建一个数组B[0,1,...,n-1],其中B中的元素B[i]=A[0]*A[1]*...*A[i-1]*A[i+1]*...*A[n-1]。不能使用除法。"
   ]
  },
  {
   "cell_type": "code",
   "execution_count": 20,
   "metadata": {},
   "outputs": [
    {
     "name": "stdout",
     "output_type": "stream",
     "text": [
      "[60, 20, 30, 12, 30]\n"
     ]
    }
   ],
   "source": [
    "\"\"\"\n",
    "基本思想：\n",
    "以第i个元素为分界点将数组A拆分为两部分，\n",
    "并用新建两个数组tmp1和tmp2分别存储从前向后和从后向前各元素位置的累乘和\n",
    "\"\"\"\n",
    "# -*- coding:utf-8 -*-\n",
    "class Solution:\n",
    "#     import pysnooper\n",
    "#     @pysnooper.snoop()\n",
    "    def multiply(self, A):\n",
    "        # write code here\n",
    "        if len(A)<=1:\n",
    "            return A\n",
    "        n = len(A)\n",
    "        tmp1 = []\n",
    "        tmp2 = []\n",
    "        for i in range(n):    # 计算tmp1\n",
    "            if i==0:\n",
    "                tmp1.append(A[i])\n",
    "            else:\n",
    "                tmp1.append(tmp1[i-1]*A[i])\n",
    "        for i in range(n-1,-1,-1):    # 计算tmp2\n",
    "            if i ==n-1:\n",
    "                tmp2.append(A[i])\n",
    "            else:\n",
    "                tmp2.append(tmp2[-1]*A[i])\n",
    "        res = []\n",
    "        for i in range(n):\n",
    "            if i ==0:    # 出错，res数组中，各元素之间的位置关系没弄明白，下次可以直接举个例子来观察\n",
    "                res.append(tmp2[n-2])\n",
    "            elif i == n-1:\n",
    "                res.append(tmp1[n-2])\n",
    "            else:\n",
    "                res.append(tmp1[i-1]*tmp2[n-i-2])\n",
    "        return res\n",
    "if __name__==\"__main__\":\n",
    "    s = Solution()\n",
    "    A = [1,3,2,5,2]\n",
    "    print(s.multiply(A))"
   ]
  },
  {
   "cell_type": "markdown",
   "metadata": {},
   "source": [
    "## 52. 正则表达式匹配\n",
    "* 题目描述\n",
    "请实现一个函数用来匹配包括'.'和'*'的正则表达式。模式中的字符'.'表示任意一个字符，而'*'表示它前面的字符可以出现任意次（包含0次）。 在本题中，匹配是指字符串的所有字符匹配整个模式。例如，字符串\"aaa\"与模式\"a.a\"和\"ab*ac*a\"匹配，但是与\"aa.a\"和\"ab*a\"均不匹配"
   ]
  },
  {
   "cell_type": "code",
   "execution_count": 74,
   "metadata": {},
   "outputs": [
    {
     "name": "stdout",
     "output_type": "stream",
     "text": [
      "True\n"
     ]
    }
   ],
   "source": [
    "\"\"\"\n",
    "基本思想：\n",
    "动态规划，从前往后推:\n",
    "1. 问题拆解，子问题之间的联系：s和p是否匹配的子问题是s的子串和p的子串是否匹配\n",
    "2. 状态定义即状态初始化：dp[i][j]=True: 定义为s[:i]与p[:j]匹配成功\n",
    "3. 状态转移方程推导：两种情况1. p[j-1]==\"*\"； 2. p[j-1]!=\"*\" \n",
    "4. 实现\n",
    "\"\"\"\n",
    "\n",
    "# -*- coding:utf-8 -*-\n",
    "class Solution:\n",
    "    def match(self, s, p):\n",
    "        # 构建dp数组\n",
    "        # dp[i][j]=True: 定义为s[:i]与p[:j]匹配成功\n",
    "        dp = [[False for j in range(len(p)+1)] for i in range(len(s)+1)]\n",
    "        \n",
    "        # 设置初始状态\n",
    "        dp[0][0] = True    # 当s=\"\" 且 p=\"\"时，匹配结果为True\n",
    "        for j in range(1, len(p)+1):    # 初始化dp数组的第一行, 并且数组第一列除dp[0][0]为True外，其余均为False\n",
    "            if p[j-1]==\"*\":\n",
    "                if j>=2:\n",
    "                    dp[0][j] = dp[0][j-2]    # 当s=\"\" 且 p=\"a*b*\"类型时\n",
    "        \n",
    "        # 状态转移推导\n",
    "        for i in range(1,len(s)+1):\n",
    "            for j in range(1,len(p)+1):\n",
    "                if p[j-1]==\"*\":    # 匹配两种情况: 1.\"*\"匹配空字符串； 2. \"*\"匹配一个或多个重复字符\n",
    "                    dp[i][j] = (dp[i][j-2]) or (dp[i-1][j] and (s[i-1]==p[j-2] or p[j-2]==\".\"))\n",
    "                else:    # 匹配一种情况： p[j-1]==s[i-1]或p[j-1]==\".\"，此时还要满足dp[i-1][j-1]==True,即s[:i-1]与p[:j-1]匹配时\n",
    "                    dp[i][j] = (dp[i-1][j-1]) and (p[j-1]==s[i-1] or p[j-1]==\".\")\n",
    "        return dp[len(s)][len(p)]\n",
    "if __name__==\"__main__\":\n",
    "    ss = Solution()\n",
    "    s=\"a\"\n",
    "    p=\".*\"\n",
    "    print(ss.match(s,p))"
   ]
  },
  {
   "cell_type": "markdown",
   "metadata": {},
   "source": [
    "## 53. 表示数值的字符串\n",
    "* 题目描述  \n",
    "请实现一个函数用来判断字符串是否表示数值（包括整数和小数）。例如，字符串\"+100\",\"5e2\",\"-123\",\"3.1416\"和\"-1E-16\"都表示数值。 但是\"12e\",\"1a3.14\",\"1.2.3\",\"+-5\"和\"12e+4.3\"都不是。"
   ]
  },
  {
   "cell_type": "code",
   "execution_count": 79,
   "metadata": {},
   "outputs": [
    {
     "name": "stdout",
     "output_type": "stream",
     "text": [
      "True\n",
      "False\n"
     ]
    }
   ],
   "source": [
    "\"\"\"\n",
    "基本思想：\n",
    "根据一个数值的结构范式来遍历字符串，若满足结构范式，则返回True，否则返回False\n",
    "一个数值的结构范式：[sign]itergral_digits[.[fractional_digits]][e|E[sign]exponential_digits],\n",
    "其中，\n",
    "sign：表示正号或负号\n",
    "itergral_digits：表示数值的整数部分\n",
    "fractional_digits：表示数值的小数部分\n",
    "exponential_digits：表示数值的指数部分\n",
    "\"\"\"\n",
    "# -*- coding:utf-8 -*-\n",
    "class Solution:\n",
    "    # 方法1： 利用python的float函数转换为浮点数，如果没报错返回True,报错返回False\n",
    "    # s字符串\n",
    "    def isNumeric_1(self, s):\n",
    "        # write code here\n",
    "        try:\n",
    "            num = float(s)\n",
    "            return True\n",
    "        except:\n",
    "            return False\n",
    "    \n",
    "    def isNumeric_2(self, s):\n",
    "        # write code here\n",
    "        if not s or len(s)==0:\n",
    "            return False\n",
    "        length = len(s)\n",
    "        i = 0\n",
    "        if s[i]==\"+\" or s[i]==\"-\":\n",
    "            i+=1\n",
    "        i = self.scanDigits(i,s)\n",
    "        \n",
    "        if i==length:\n",
    "            return True\n",
    "        \n",
    "        if s[i]==\".\":\n",
    "            i+=1\n",
    "            i = self.scanDigits(i,s)\n",
    "        if i==length:    # 出错：这里没有判断\"3.1416\"的情况\n",
    "            return True\n",
    "        if s[i]==\"e\" or s[i]==\"E\":\n",
    "            i+=1\n",
    "            if i==length:    # s=\"12E\",应该return False\n",
    "                return False\n",
    "            elif s[i]==\"+\" or s[i]==\"-\":\n",
    "                i+=1\n",
    "            i = self.scanDigits(i,s)\n",
    "        else:\n",
    "            return False\n",
    "        if i==length:\n",
    "            return True\n",
    "        \n",
    "    def scanDigits(self, i, s):\n",
    "        \"\"\"扫描连续的数字部分\"\"\"\n",
    "        while i<len(s):\n",
    "            if s[i]>=\"0\" and s[i]<=\"9\":\n",
    "                i+=1\n",
    "            else:\n",
    "                return i\n",
    "        return i\n",
    "    \n",
    "if __name__==\"__main__\":\n",
    "    s_1= \"3.14\"\n",
    "    s_2 = \"16e\"\n",
    "    solu = Solution()\n",
    "    print(solu.isNumeric_1(s_1))\n",
    "    print(solu.isNumeric_2(s_2))"
   ]
  },
  {
   "cell_type": "markdown",
   "metadata": {},
   "source": [
    "## 54. 字符流中第一个不重复的字符\n",
    "* 题目描述  \n",
    "请实现一个函数用来找出字符流中第一个只出现一次的字符。例如，当从字符流中只读出前两个字符\"go\"时，第一个只出现一次的字符是\"g\"。当从该字符流中读出前六个字符“google\"时，第一个只出现一次的字符是\"l\"。  \n",
    "输出描述:  \n",
    "如果当前字符流没有存在出现一次的字符，返回#字符。"
   ]
  },
  {
   "cell_type": "code",
   "execution_count": 93,
   "metadata": {},
   "outputs": [
    {
     "name": "stdout",
     "output_type": "stream",
     "text": [
      "g\n",
      "g\n",
      "g\n",
      "#\n",
      "l\n",
      "l\n"
     ]
    }
   ],
   "source": [
    "\"\"\"\n",
    "基本思想：\n",
    "使用哈希表（字典类型），key是字符char，value是字符出现的次数\n",
    "\"\"\"\n",
    "\n",
    "\"\"\"python 2.x字典默认是无序的，可使用OrderedDict()生成有序字典\"\"\"\n",
    "# -*- coding:utf-8 -*-\n",
    "from collections import OrderedDict    # python 2.x保证字典有序\n",
    "class Solution:\n",
    "    def __init__(self):\n",
    "        self.dic = OrderedDict()    # python 2.x保证字典有序\n",
    "    \n",
    "    # 返回对应char\n",
    "    def FirstAppearingOnce(self):\n",
    "        # write code here\n",
    "        for k,v in self.dic.items():\n",
    "            if v==1:\n",
    "                return k\n",
    "        return \"#\"\n",
    "    def Insert(self, char):\n",
    "        # write code here\n",
    "        if char not in self.dic.keys():\n",
    "            self.dic[char] = 1\n",
    "        else:\n",
    "            self.dic[char] += 1\n",
    "if __name__==\"__main__\":\n",
    "    s = Solution()\n",
    "    st = \"google\"\n",
    "    for char in st:\n",
    "        s.Insert(char)\n",
    "        print(s.FirstAppearingOnce())\n"
   ]
  },
  {
   "cell_type": "code",
   "execution_count": 94,
   "metadata": {},
   "outputs": [
    {
     "name": "stdout",
     "output_type": "stream",
     "text": [
      "g\n",
      "g\n",
      "g\n",
      "#\n",
      "l\n",
      "l\n"
     ]
    }
   ],
   "source": [
    "\"\"\"python 3.x字典默认是有序的，顺序是字典元素的添加顺序\"\"\"\n",
    "# -*- coding:utf-8 -*-\n",
    "class Solution:\n",
    "    def __init__(self):\n",
    "        self.dic = {}\n",
    "\n",
    "    # 返回对应char\n",
    "    def FirstAppearingOnce(self):\n",
    "        # write code here\n",
    "        for k, v in self.dic.items():\n",
    "            if v == 1:\n",
    "                return k\n",
    "        return \"#\"\n",
    "\n",
    "    def Insert(self, char):\n",
    "        # write code here\n",
    "        if char not in self.dic.keys():\n",
    "            self.dic[char] = 1\n",
    "        else:\n",
    "            self.dic[char] += 1\n",
    "if __name__==\"__main__\":\n",
    "    s = Solution()\n",
    "    st = \"google\"\n",
    "    for char in st:\n",
    "        s.Insert(char)\n",
    "        print(s.FirstAppearingOnce())"
   ]
  },
  {
   "cell_type": "markdown",
   "metadata": {},
   "source": [
    "## 55. 链表中环的入口结点\n",
    "* 题目描述  \n",
    "给一个链表，若其中包含环，请找出该链表的环的入口结点，否则，输出null。"
   ]
  },
  {
   "cell_type": "code",
   "execution_count": 119,
   "metadata": {},
   "outputs": [
    {
     "name": "stdout",
     "output_type": "stream",
     "text": [
      "\n",
      "5\n"
     ]
    }
   ],
   "source": [
    "\"\"\"\n",
    "基本思想：\n",
    "1. 先判断节点是不是有环（快慢指针）\n",
    "2. 有环的话，计算环中节点的个数\n",
    "3. 找到环的入口节点\n",
    "\n",
    "e.g. {1,2,3},{4,5,6,7}，其中，4是环的入口节点\n",
    "\"\"\"\n",
    "# -*- coding:utf-8 -*-\n",
    "# class ListNode:\n",
    "#     def __init__(self, x):\n",
    "#         self.val = x\n",
    "#         self.next = None\n",
    "class Solution:\n",
    "    def MeetingNodeInLoop(self, pHead):\n",
    "        \"\"\"找到环的一个节点\"\"\"\n",
    "        pointer1 = pHead\n",
    "        pointer2 = pHead.next    # 出错：这里不应该初始化为pointer2=pHead，否则后面的while循环将默认不执行\n",
    "        while pointer1!=pointer2:\n",
    "            if pointer2 is None or pointer2.next is None:\n",
    "                return None\n",
    "            else:\n",
    "                pointer1 = pointer1.next\n",
    "                pointer2 = pointer2.next.next\n",
    "        return pointer1\n",
    "    \n",
    "    def EntryNodeOfLoop(self, pHead):\n",
    "        # write code here\n",
    "        if pHead is None or pHead.next is None:\n",
    "            return None\n",
    "        \n",
    "        # 1. 先判断节点是不是有环\n",
    "        meetingNode = self.MeetingNodeInLoop(pHead)\n",
    "        if meetingNode is None: return None\n",
    "        \n",
    "        # 2. 有环的话，计算环中节点的个数\n",
    "        positionNode = meetingNode\n",
    "        count = 1\n",
    "        meetingNode = meetingNode.next\n",
    "        while positionNode!=meetingNode:\n",
    "            count +=1\n",
    "            meetingNode = meetingNode.next\n",
    "        # 3. 找到环的入口节点\n",
    "        pointer1 = pHead\n",
    "        pointer2 = pHead\n",
    "        for i in range(count):\n",
    "            pointer2 = pointer2.next\n",
    "        while pointer1!=pointer2:\n",
    "            pointer1 = pointer1.next\n",
    "            pointer2 = pointer2.next\n",
    "        return pointer2.val\n",
    "        \n",
    "if __name__==\"__main__\":\n",
    "    node_1 = DataStructure.Node(5)\n",
    "    l_1 = DataStructure.SinCycleLinkList(node_1)\n",
    "    l_1.append(1)\n",
    "    l_1.append(2)\n",
    "    l_1.append(3)\n",
    "    l_1.append(4)\n",
    "    l_1.append(5)\n",
    "    l_1.append(6)\n",
    "    l_1.append(7)    # l_1 = {0,1,2,3,4,5,6,7}, l_2 = {6,7}\n",
    "    \n",
    "    s = Solution()\n",
    "    print()\n",
    "    \n",
    "    print(s.EntryNodeOfLoop(node_1))"
   ]
  },
  {
   "cell_type": "code",
   "execution_count": 118,
   "metadata": {},
   "outputs": [
    {
     "name": "stdout",
     "output_type": "stream",
     "text": [
      "\n",
      "5\n"
     ]
    }
   ],
   "source": [
    "\"\"\"\n",
    "基本思想：快慢指针、数学推导\n",
    "快慢指针找环中的交点，根据数学推导，头结点到环的入口节点的长度与交点到环的入口节点的长度相等\n",
    "# 数学推导参考文献：https://www.jianshu.com/p/7608f44e1baf\n",
    "x = (n-1)*L+z, 其中x表示环的起点到入口节点的长度，L表示环的长度，z表示相遇节点到链表最后一个节点的长度，n表示走的环数；\n",
    "这个时候，我们只需要令一个结点从头结点出发，走x步，另一个结点从相遇结点出发，走n圈（n=0,1,2,...）再走z步，他们会同时到达环的入口地方。\n",
    "\"\"\"\n",
    "# -*- coding:utf-8 -*-\n",
    "# class ListNode:\n",
    "#     def __init__(self, x):\n",
    "#         self.val = x\n",
    "#         self.next = None\n",
    "class Solution:\n",
    "    def MeetingNodeInLoop(self, pHead):\n",
    "        \"\"\"找到环的一个节点\"\"\"\n",
    "        pointer1 = pHead    # 这里与方法1不一样\n",
    "        pointer2 = pHead\n",
    "        while pointer2 and pointer2.next:\n",
    "            pointer1 = pointer1.next\n",
    "            pointer2 = pointer2.next.next\n",
    "            if pointer1==pointer2:\n",
    "                break\n",
    "        return pointer1\n",
    "        \n",
    "    def EntryNodeOfLoop(self, pHead):\n",
    "        # write code here\n",
    "        if pHead is None or pHead.next is None:\n",
    "            return None\n",
    "        \n",
    "        meetingNode = self.MeetingNodeInLoop(pHead)\n",
    "        if meetingNode is None:\n",
    "            return None\n",
    "        \n",
    "        pointer1 = pHead\n",
    "        pointer2 = meetingNode\n",
    "\n",
    "        while pointer1!=pointer2:\n",
    "            pointer1 = pointer1.next\n",
    "            pointer2 = pointer2.next\n",
    "        return pointer2.val\n",
    "if __name__==\"__main__\":\n",
    "    node_1 = DataStructure.Node(5)\n",
    "    l_1 = DataStructure.SinCycleLinkList(node_1)\n",
    "    l_1.append(1)\n",
    "    l_1.append(2)\n",
    "    l_1.append(3)\n",
    "    l_1.append(4)\n",
    "    l_1.append(5)\n",
    "    l_1.append(6)\n",
    "    l_1.append(7)    # l_1 = {0,1,2,3,4,5,6,7}, l_2 = {6,7}\n",
    "#     l_1.travel()\n",
    "    \n",
    "    s = Solution()\n",
    "    print()\n",
    "    \n",
    "    print(s.EntryNodeOfLoop(node_1))"
   ]
  },
  {
   "cell_type": "markdown",
   "metadata": {},
   "source": [
    "## 56. 删除链表中重复的结点\n",
    "* 题目描述  \n",
    "在一个排序的链表中，存在重复的结点，请删除该链表中重复的结点，重复的结点不保留，返回链表头指针。 例如，链表1->2->3->3->4->4->5 处理后为 1->2->5"
   ]
  },
  {
   "cell_type": "code",
   "execution_count": 6,
   "metadata": {},
   "outputs": [
    {
     "name": "stdout",
     "output_type": "stream",
     "text": [
      "\n",
      "2\n"
     ]
    }
   ],
   "source": [
    "\"\"\"\n",
    "基本思想：\n",
    "新建一个伪头结点first，节点值为-1\n",
    "\"\"\"\n",
    "# -*- coding:utf-8 -*-\n",
    "# class ListNode:\n",
    "#     def __init__(self, x):\n",
    "#         self.val = x\n",
    "#         self.next = None\n",
    "class Solution:\n",
    "    def deleteDuplication(self, pHead):\n",
    "        first = DataStructure.Node(-1)    # 技巧：新建一个头节点,其val是一个异常值\n",
    "        first.next = pHead\n",
    "        last = first\n",
    "        while pHead and pHead.next:\n",
    "            if pHead.val == pHead.next.val:\n",
    "                val = pHead.val    # 技巧：比较节点值时把值单独提出来，而不是用pHead.next.val,避免.next为None,导致.next.val报错\n",
    "                while pHead and pHead.val==val:\n",
    "                    pHead = pHead.next\n",
    "                last.next = pHead\n",
    "            else:\n",
    "                last = pHead\n",
    "                pHead = pHead.next\n",
    "        return first.next.val\n",
    "if __name__==\"__main__\":\n",
    "    node_1 = DataStructure.Node(1)\n",
    "    l_1 = DataStructure.SingleLinkList(node_1)\n",
    "    l_1.append(1)\n",
    "    l_1.append(2)\n",
    "    l_1.append(3)\n",
    "    l_1.append(4)\n",
    "    l_1.append(4)\n",
    "    l_1.append(5)\n",
    "    l_1.append(5)    # l_1 = {0,1,2,3,4,5,6,7}, l_2 = {6,7}\n",
    "#     l_1.travel()\n",
    "    \n",
    "    s = Solution()\n",
    "    print()\n",
    "    \n",
    "    print(s.deleteDuplication(node_1))"
   ]
  },
  {
   "cell_type": "markdown",
   "metadata": {},
   "source": [
    "## 57. 二叉树的下一个结点\n",
    "* 题目描述  \n",
    "给定一个二叉树和其中的一个结点，请找出中序遍历顺序的下一个结点并且返回。注意，树中的结点不仅包含左右子结点，同时包含指向父结点的指针。"
   ]
  },
  {
   "cell_type": "code",
   "execution_count": 7,
   "metadata": {
    "collapsed": true
   },
   "outputs": [
    {
     "name": "stdout",
     "output_type": "stream",
     "text": [
      "\n"
     ]
    },
    {
     "ename": "AttributeError",
     "evalue": "'TreeNode' object has no attribute 'next'",
     "output_type": "error",
     "traceback": [
      "\u001b[1;31m---------------------------------------------------------------------------\u001b[0m",
      "\u001b[1;31mAttributeError\u001b[0m                            Traceback (most recent call last)",
      "\u001b[1;32m<ipython-input-7-0ba3314413a2>\u001b[0m in \u001b[0;36m<module>\u001b[1;34m()\u001b[0m\n\u001b[0;32m     64\u001b[0m     \u001b[0mprint\u001b[0m\u001b[1;33m(\u001b[0m\u001b[1;33m)\u001b[0m\u001b[1;33m\u001b[0m\u001b[1;33m\u001b[0m\u001b[0m\n\u001b[0;32m     65\u001b[0m \u001b[1;33m\u001b[0m\u001b[0m\n\u001b[1;32m---> 66\u001b[1;33m     \u001b[0mprint\u001b[0m\u001b[1;33m(\u001b[0m\u001b[0ms\u001b[0m\u001b[1;33m.\u001b[0m\u001b[0mGetNext\u001b[0m\u001b[1;33m(\u001b[0m\u001b[0mnode_4\u001b[0m\u001b[1;33m)\u001b[0m\u001b[1;33m)\u001b[0m\u001b[1;33m\u001b[0m\u001b[1;33m\u001b[0m\u001b[0m\n\u001b[0m",
      "\u001b[1;32m<ipython-input-7-0ba3314413a2>\u001b[0m in \u001b[0;36mGetNext\u001b[1;34m(self, pNode)\u001b[0m\n\u001b[0;32m     37\u001b[0m             \u001b[0mpNext\u001b[0m \u001b[1;33m=\u001b[0m \u001b[0mself\u001b[0m\u001b[1;33m.\u001b[0m\u001b[0mfindLeft\u001b[0m\u001b[1;33m(\u001b[0m\u001b[0mpNode\u001b[0m\u001b[1;33m.\u001b[0m\u001b[0mright\u001b[0m\u001b[1;33m)\u001b[0m\u001b[1;33m\u001b[0m\u001b[1;33m\u001b[0m\u001b[0m\n\u001b[0;32m     38\u001b[0m         \u001b[1;32melse\u001b[0m\u001b[1;33m:\u001b[0m    \u001b[1;31m# 2. 如果当前节点的右子节点为None(即，不存在右子树)\u001b[0m\u001b[1;33m\u001b[0m\u001b[1;33m\u001b[0m\u001b[0m\n\u001b[1;32m---> 39\u001b[1;33m             \u001b[1;32mif\u001b[0m \u001b[0mpNode\u001b[0m\u001b[1;33m.\u001b[0m\u001b[0mnext\u001b[0m \u001b[1;32mand\u001b[0m \u001b[0mpNode\u001b[0m\u001b[1;33m.\u001b[0m\u001b[0mnext\u001b[0m\u001b[1;33m.\u001b[0m\u001b[0mleft\u001b[0m\u001b[1;33m==\u001b[0m\u001b[0mpNode\u001b[0m\u001b[1;33m:\u001b[0m    \u001b[1;31m# 2.1 如果当前节点的父节点不为None，并且当前节点等于父节点的左子节点，则返回当前节点的父节点，e.g.{1,2,3,#,#,4}的节点2\u001b[0m\u001b[1;33m\u001b[0m\u001b[1;33m\u001b[0m\u001b[0m\n\u001b[0m\u001b[0;32m     40\u001b[0m                 \u001b[0mpNext\u001b[0m \u001b[1;33m=\u001b[0m \u001b[0mpNode\u001b[0m\u001b[1;33m.\u001b[0m\u001b[0mnext\u001b[0m\u001b[1;33m\u001b[0m\u001b[1;33m\u001b[0m\u001b[0m\n\u001b[0;32m     41\u001b[0m             \u001b[1;32melif\u001b[0m \u001b[0mpNode\u001b[0m\u001b[1;33m.\u001b[0m\u001b[0mnext\u001b[0m \u001b[1;32mand\u001b[0m \u001b[0mpNode\u001b[0m\u001b[1;33m.\u001b[0m\u001b[0mnext\u001b[0m\u001b[1;33m.\u001b[0m\u001b[0mright\u001b[0m\u001b[1;33m==\u001b[0m\u001b[0mpNode\u001b[0m\u001b[1;33m:\u001b[0m    \u001b[1;31m# 2.2 如果当前节点的父节点不为None，并且当前节点等于父节点的右子节点，则向上寻找，直到当前节点等于其父节点的左子节点，此时返回当前节点的父节点，e.g.{1,2,3,4,9}的节点9\u001b[0m\u001b[1;33m\u001b[0m\u001b[1;33m\u001b[0m\u001b[0m\n",
      "\u001b[1;31mAttributeError\u001b[0m: 'TreeNode' object has no attribute 'next'"
     ]
    }
   ],
   "source": [
    "\"\"\"\n",
    "基本思想：\n",
    "1. 首先判断当前节点pNode的右子节点是否为None\n",
    "1.1 如果当前节点的右子节点不为None(即，存在右子树)，则返回当前节点的右子树的最左子节点\n",
    "1.2 如果当前节点的右子节点为None(即，不存在右子树)：\n",
    "    1.2.1 如果当前节点的父节点不为None，并且当前节点等于父节点的左子节点，则返回当前节点的父节点\n",
    "    1.2.2 如果当前节点的父节点不为None，并且当前节点等于父节点的右子节点，则向上寻找，直到当前节点等于其父节点的左子节点，此时返回当前节点的父节点\n",
    "\"\"\"\n",
    "# -*- coding:utf-8 -*-\n",
    "# class TreeLinkNode:\n",
    "#     def __init__(self, x):\n",
    "#         self.val = x\n",
    "#         self.left = None\n",
    "#         self.right = None\n",
    "#         self.next = None\n",
    "class Solution:\n",
    "    def findLeft(self, pNode):\n",
    "        while pNode.left:\n",
    "            pNode = pNode.left\n",
    "        return pNode\n",
    "    \n",
    "    def GetNext(self, pNode):\n",
    "        # write code here\n",
    "        if not pNode:\n",
    "            return None\n",
    "        # 注释部分是之前的思路\n",
    "        # if not pNode.left and not pNode.right:\n",
    "        #     return pNode.next\n",
    "        # elif pNode.left and not pNode.right:\n",
    "        #     return pNode.next\n",
    "        # elif not pNode.left and pNode.right:\n",
    "        #     return self.findLeft(pNode.right)\n",
    "        # else:\n",
    "        #     return self.findLeft(pNode.right)\n",
    "        pNext = None    # ! 技巧：Next初始为None，默认返回是None，不用单独考虑父节点为None了\n",
    "        if pNode.right:    # 1. 如果当前节点的右子节点不为None(即，存在右子树)，则返回当前节点的右子树的最左子节点，e.g.{1,2,3,#,#,4}的节点1\n",
    "            pNext = self.findLeft(pNode.right)\n",
    "        else:    # 2. 如果当前节点的右子节点为None(即，不存在右子树)\n",
    "            if pNode.next and pNode.next.left==pNode:    # 2.1 如果当前节点的父节点不为None，并且当前节点等于父节点的左子节点，则返回当前节点的父节点，e.g.{1,2,3,#,#,4}的节点2\n",
    "                pNext = pNode.next\n",
    "            elif pNode.next and pNode.next.right==pNode:    # 2.2 如果当前节点的父节点不为None，并且当前节点等于父节点的右子节点，则向上寻找，直到当前节点等于其父节点的左子节点，此时返回当前节点的父节点，e.g.{1,2,3,4,9}的节点9\n",
    "                pNode = pNode.next\n",
    "                while pNode.next and pNode.next.left!=pNode:\n",
    "                    pNode = pNode.next\n",
    "                if pNode.next:\n",
    "                    pNext = pNode.next\n",
    "        return pNext\n",
    "if __name__ == \"__main__\":    #DataStructure中没有指向父节点的next指针\n",
    "    root = DataStructure.TreeNode(1)\n",
    "    node_1 = DataStructure.TreeNode(2)\n",
    "    node_2 = DataStructure.TreeNode(3)\n",
    "    node_3 = DataStructure.TreeNode(4)\n",
    "    node_4 = DataStructure.TreeNode(5)\n",
    "    node_5 = DataStructure.TreeNode(6)\n",
    "    node_6 = DataStructure.TreeNode(7)\n",
    "    root.left = node_1\n",
    "    root.right = node_2\n",
    "    node_1.left = node_3\n",
    "    node_1.right = node_4\n",
    "    node_4.left = node_6\n",
    "    node_2.right = node_5\n",
    "\n",
    "    s = Solution()\n",
    "    print()\n",
    "\n",
    "    print(s.GetNext(node_4))"
   ]
  },
  {
   "cell_type": "markdown",
   "metadata": {},
   "source": [
    "## 58. 对称的二叉树\n",
    "* 题目描述  \n",
    "请实现一个函数，用来判断一颗二叉树是不是对称的。注意，如果一个二叉树同此二叉树的镜像是同样的，定义其为对称的。"
   ]
  },
  {
   "cell_type": "code",
   "execution_count": 6,
   "metadata": {},
   "outputs": [
    {
     "name": "stdout",
     "output_type": "stream",
     "text": [
      "\n",
      "False\n"
     ]
    }
   ],
   "source": [
    "\"\"\"\n",
    "基本思想：\n",
    "如果一棵二叉树是对称的，那么树的先序和逆先序遍历结果是相等的,\n",
    "注意：考虑节点值全相等时，树的先序和逆先序遍历结果也相等，所以应将节点为None时的情况考虑进来\n",
    "\"\"\"\n",
    "# -*- coding:utf-8 -*-\n",
    "# class TreeNode:\n",
    "#     def __init__(self, x):\n",
    "#         self.val = x\n",
    "#         self.left = None\n",
    "#         self.right = None\n",
    "class Solution:\n",
    "    def preorder(self,pRoot):\n",
    "        \"\"\"获取二叉树的先序遍历结果（即根、左、右），节点值为None时，将None添加到遍历结果列表中\"\"\"\n",
    "        if not pRoot:\n",
    "            self.pre.append(None)\n",
    "        else:\n",
    "            self.pre.append(pRoot.val)\n",
    "            self.preorder(pRoot.left)\n",
    "            self.preorder(pRoot.right)\n",
    "    \n",
    "    def inversePreorder(self,pRoot):\n",
    "        \"\"\"获取二叉树的逆先序遍历结果（即根、右、左），节点值为None时，将None添加到遍历结果列表中\"\"\"\n",
    "        if not pRoot:\n",
    "            self.inverse.append(None)\n",
    "        else:\n",
    "            self.inverse.append(pRoot.val)\n",
    "            self.inversePreorder(pRoot.right)\n",
    "            self.inversePreorder(pRoot.left)\n",
    "    \n",
    "    def isSymmetrical(self, pRoot):\n",
    "        # write code here\n",
    "        if not pRoot:\n",
    "            return True\n",
    "        self.pre = []\n",
    "        self.inverse = []\n",
    "        self.preorder(pRoot)\n",
    "        self.inversePreorder(pRoot)\n",
    "        if self.pre==self.inverse:\n",
    "            return True\n",
    "        else:\n",
    "            return False\n",
    "if __name__ == \"__main__\":\n",
    "    root = DataStructure.TreeNode(1)\n",
    "    node_1 = DataStructure.TreeNode(2)\n",
    "    node_2 = DataStructure.TreeNode(3)\n",
    "    node_3 = DataStructure.TreeNode(4)\n",
    "    node_4 = DataStructure.TreeNode(5)\n",
    "    node_5 = DataStructure.TreeNode(6)\n",
    "    node_6 = DataStructure.TreeNode(7)\n",
    "    root.left = node_1\n",
    "    root.right = node_2\n",
    "    node_1.left = node_3\n",
    "    node_1.right = node_4\n",
    "    node_4.left = node_6\n",
    "    node_2.right = node_5\n",
    "\n",
    "    s = Solution()\n",
    "    print()\n",
    "\n",
    "    print(s.isSymmetrical(root))"
   ]
  },
  {
   "cell_type": "markdown",
   "metadata": {},
   "source": [
    "## 59. 按之字形顺序打印二叉树\n",
    "* 题目描述  \n",
    "请实现一个函数按照之字形打印二叉树，即第一行按照从左到右的顺序打印，第二层按照从右至左的顺序打印，第三行按照从左到右的顺序打印，其他行以此类推。"
   ]
  },
  {
   "cell_type": "code",
   "execution_count": 9,
   "metadata": {},
   "outputs": [
    {
     "name": "stdout",
     "output_type": "stream",
     "text": [
      "\n",
      "[[8], [10, 6], [5, 7, 9, 11]]\n"
     ]
    }
   ],
   "source": [
    "\"\"\"\n",
    "基本思想：\n",
    "使用两个栈分别存储当前行和下一行的节点；\n",
    "偶数行先存左子节点，再存右子节点；\n",
    "奇数行先存右子节点，再存左子节点\n",
    "e.g.tree:{8,6,10,5,7,9,11}\n",
    "\"\"\"\n",
    "class Solution:\n",
    "        def Print(self, pRoot):\n",
    "            # write code here\n",
    "            if not pRoot:\n",
    "                return []\n",
    "            rowIndex = 0\n",
    "            res = []\n",
    "            stackNodes = [pRoot]    # stackNodes作为一个栈容器来存储当前行的节点列表\n",
    "            while stackNodes:\n",
    "                curStackVal = []    # curStackVal用来存当前行的节点的val\n",
    "                nextStackNodes = []    # nextStackNodes用来存下一行的节点列表\n",
    "                if rowIndex%2==0:\n",
    "                    for node in stackNodes[::-1]:    # ！后进先出的顺序（栈的顺序）遍历当前行的节点\n",
    "                        curStackVal.append(node.val)\n",
    "                        if node.left:    # ! 先存左子节点，再存右子节点\n",
    "                            nextStackNodes.append(node.left)\n",
    "                        if node.right:\n",
    "                            nextStackNodes.append(node.right)\n",
    "                    rowIndex += 1\n",
    "                else:\n",
    "                    for node in stackNodes[::-1]:    # ！后进先出的顺序遍历当前行的节点\n",
    "                        curStackVal.append(node.val)\n",
    "                        if node.right:    # ! 先存右子节点，再存左子节点\n",
    "                            nextStackNodes.append(node.right)\n",
    "                        if node.left:\n",
    "                            nextStackNodes.append(node.left)\n",
    "                    rowIndex += 1\n",
    "                res.append(curStackVal)\n",
    "                stackNodes = nextStackNodes\n",
    "            return res\n",
    "if __name__ == \"__main__\":\n",
    "    root = DataStructure.TreeNode(8)\n",
    "    node_1 = DataStructure.TreeNode(6)\n",
    "    node_2 = DataStructure.TreeNode(10)\n",
    "    node_3 = DataStructure.TreeNode(5)\n",
    "    node_4 = DataStructure.TreeNode(7)\n",
    "    node_5 = DataStructure.TreeNode(9)\n",
    "    node_6 = DataStructure.TreeNode(11)\n",
    "    root.left = node_1\n",
    "    root.right = node_2\n",
    "    node_1.left = node_3\n",
    "    node_1.right = node_4\n",
    "    node_2.left = node_5\n",
    "    node_2.right = node_6\n",
    "\n",
    "    s = Solution()\n",
    "    print()\n",
    "\n",
    "    print(s.Print(root))"
   ]
  },
  {
   "cell_type": "markdown",
   "metadata": {},
   "source": [
    "## 60. 把二叉树打印成多行\n",
    "* 题目描述  \n",
    "从上到下按层打印二叉树，同一层结点从左至右输出。每一层输出一行。"
   ]
  },
  {
   "cell_type": "code",
   "execution_count": 8,
   "metadata": {},
   "outputs": [
    {
     "name": "stdout",
     "output_type": "stream",
     "text": [
      "\n",
      "[[1], [2, 3], [4, 5, 6], [7]]\n",
      "[[1], [2, 3], [4, 5, 6], [7]]\n"
     ]
    }
   ],
   "source": [
    "\"\"\"\n",
    "基本思想：\n",
    "使用两个队列分别打印二叉树的相邻两层，其中一个队列初始化为[pRoot]\n",
    "\"\"\"\n",
    "# -*- coding:utf-8 -*-\n",
    "# class TreeNode:\n",
    "#     def __init__(self, x):\n",
    "#         self.val = x\n",
    "#         self.left = None\n",
    "#         self.right = None\n",
    "class Solution:\n",
    "    # 返回二维列表[[1,2],[4,5]]\n",
    "    def Print_1(self, pRoot):\n",
    "        \"\"\"方法1：同一外层循环先后遍历两个队列queue1和queue2\"\"\"\n",
    "        # write code here\n",
    "        if not pRoot:\n",
    "            return []\n",
    "        res = []\n",
    "        queue1 = [pRoot]    # ！层次遍历的重点：队列用根节点来初始化\n",
    "        queue2 = []\n",
    "        while queue1 or queue2:    # 用queue1和queue2来分别存储树的相邻两层\n",
    "            if queue1:    # 出错：这里应该加if判断一下队列是否为空\n",
    "                tmpRes = []\n",
    "                while queue1:\n",
    "                    node = queue1.pop(0)\n",
    "                    tmpRes.append(node.val)\n",
    "                    if node.left:\n",
    "                        queue2.append(node.left)\n",
    "                    if node.right:\n",
    "                        queue2.append(node.right)\n",
    "                res.append(tmpRes)\n",
    "            \n",
    "            if queue2:\n",
    "                tmpRes = []\n",
    "                while queue2:\n",
    "                    node = queue2.pop(0)\n",
    "                    tmpRes.append(node.val)\n",
    "                    if node.left:\n",
    "                        queue1.append(node.left)\n",
    "                    if node.right:\n",
    "                        queue1.append(node.right)\n",
    "                res.append(tmpRes)\n",
    "        return res\n",
    "    \n",
    "    def Print_2(self, pRoot):\n",
    "        \"\"\"方法2：循环遍历当前层的节点nodes，同时生成下一行的节点列表nextQueueNodes\"\"\"\n",
    "        # write code here\n",
    "        if not pRoot:\n",
    "            return []\n",
    "        res = []\n",
    "        nodes = [pRoot]    # nodes用来存当前行的节点列表，初始化为[pRoot]\n",
    "        while nodes:\n",
    "            curQueueVal = []    # curQueueVal用来存当前行的节点的val\n",
    "            nextQueueNodes = []    # nextQueueNodes用来存下一行的节点列表\n",
    "            for node in nodes:    # 遍历当前行的节点\n",
    "                curQueueVal.append(node.val)\n",
    "                if node.left:\n",
    "                    nextQueueNodes.append(node.left)\n",
    "                if node.right:\n",
    "                    nextQueueNodes.append(node.right)\n",
    "            res.append(curQueueVal)\n",
    "            nodes = nextQueueNodes\n",
    "        return res\n",
    "if __name__ == \"__main__\":\n",
    "    root = DataStructure.TreeNode(1)\n",
    "    node_1 = DataStructure.TreeNode(2)\n",
    "    node_2 = DataStructure.TreeNode(3)\n",
    "    node_3 = DataStructure.TreeNode(4)\n",
    "    node_4 = DataStructure.TreeNode(5)\n",
    "    node_5 = DataStructure.TreeNode(6)\n",
    "    node_6 = DataStructure.TreeNode(7)\n",
    "    root.left = node_1\n",
    "    root.right = node_2\n",
    "    node_1.left = node_3\n",
    "    node_1.right = node_4\n",
    "    node_4.left = node_6\n",
    "    node_2.right = node_5\n",
    "\n",
    "    s = Solution()\n",
    "    print()\n",
    "\n",
    "    print(s.Print_1(root))\n",
    "    \n",
    "    print(s.Print_2(root))"
   ]
  },
  {
   "cell_type": "markdown",
   "metadata": {},
   "source": [
    "## 61. 序列化二叉树\n",
    "* 题目描述  \n",
    "请实现两个函数，分别用来序列化和反序列化二叉树\n",
    "\n",
    "二叉树的序列化是指：把一棵二叉树按照某种遍历方式的结果以某种格式保存为字符串，从而使得内存中建立起来的二叉树可以持久保存。序列化可以基于先序、中序、后序、层序的二叉树遍历方式来进行修改，序列化的结果是一个字符串，序列化时通过 某种符号表示空节点（#），以 ！ 表示一个结点值的结束（value!）。\n",
    "\n",
    "二叉树的反序列化是指：根据某种遍历顺序得到的序列化字符串结果str，重构二叉树。"
   ]
  },
  {
   "cell_type": "code",
   "execution_count": 25,
   "metadata": {
    "scrolled": true
   },
   "outputs": [
    {
     "name": "stdout",
     "output_type": "stream",
     "text": [
      "\n",
      "8!6!5!#!#!7!#!#!10!9!#!#!11!#!#!\n",
      "8\n"
     ]
    }
   ],
   "source": [
    "\"\"\"\n",
    "基本思想：\n",
    "二叉树的先序遍历进行二叉树的序列化，空节点用\"#\"表示，节点与节点之间用\"!\"分隔；\n",
    "利用递归实现二叉树的反序列化，递归停止条件：li[self.index] == \"#\",即列表中元素等于\"#\"，同时使用对象属性来保证递归过程中序列化字符串的索引不被初始化\n",
    "\"\"\"\n",
    "\n",
    "class Solution:\n",
    "    def __init__(self):\n",
    "        self.index = -1\n",
    "    \n",
    "    def Serialize(self, root):\n",
    "        # write code here\n",
    "        \"\"\"非递归先序遍历进行二叉树的序列化\"\"\"\n",
    "        if not root:\n",
    "            return \"#!\"\n",
    "        s = \"\"\n",
    "        stack = []\n",
    "        cur_node = root\n",
    "        while stack or cur_node:\n",
    "            while cur_node:\n",
    "                s = s+str(cur_node.val)+\"!\"\n",
    "                stack.append(cur_node)\n",
    "                cur_node = cur_node.left\n",
    "            if cur_node is None:\n",
    "                s+=\"#!\"\n",
    "            cur_node = stack.pop()\n",
    "            cur_node = cur_node.right\n",
    "        s+=\"#!\" # 出错：非递归遍历时，外层循环stack 和 cur_node均为None(遍历到最后一个节点)时，应该在后面加一个空字符标志\n",
    "        return s\n",
    "        \n",
    "    def Deserialize(self, s):\n",
    "        \"\"\"\n",
    "        递归进行反序列化，递归停止条件：li[self.index] == \"#\",即列表中元素等于\"#\"\n",
    "        \"\"\"\n",
    "        # write code here\n",
    "        self.index += 1    # ! 技巧：使用对象属性来表示字符串的索引位置，好处是保证递归过程中索引位置不会因为递归过程而不断初始化\n",
    "        li = s.split(\"!\")\n",
    "        if self.index>=len(li):\n",
    "            return None\n",
    "        if li[self.index]!=\"#\":\n",
    "#             print(li[self.index])\n",
    "            root = DataStructure.TreeNode(int(li[self.index]))\n",
    "            root.left = self.Deserialize(s)\n",
    "            root.right = self.Deserialize(s)\n",
    "        else:    # 递归停止条件：li[self.index] == \"#\"，即列表中元素等于\"#\"\n",
    "            root = None\n",
    "        return root\n",
    "if __name__ == \"__main__\":\n",
    "    root = DataStructure.TreeNode(8)\n",
    "    node_1 = DataStructure.TreeNode(6)\n",
    "    node_2 = DataStructure.TreeNode(10)\n",
    "    node_3 = DataStructure.TreeNode(5)\n",
    "    node_4 = DataStructure.TreeNode(7)\n",
    "    node_5 = DataStructure.TreeNode(9)\n",
    "    node_6 = DataStructure.TreeNode(11)\n",
    "    root.left = node_1\n",
    "    root.right = node_2\n",
    "    node_1.left = node_3\n",
    "    node_1.right = node_4\n",
    "    node_2.left = node_5\n",
    "    node_2.right = node_6\n",
    "\n",
    "    s = Solution()\n",
    "    print()\n",
    "\n",
    "    st = s.Serialize(root)\n",
    "    print(st)\n",
    "    print(s.Deserialize(st).val)"
   ]
  },
  {
   "cell_type": "markdown",
   "metadata": {},
   "source": [
    "## 62. 二叉搜索树的第k个结点\n",
    "* 题目描述  \n",
    "给定一棵二叉搜索树，请找出其中的第k小的结点。例如， （5，3，7，2，4，6，8）    中，按结点数值大小顺序第三小结点的值为4。"
   ]
  },
  {
   "cell_type": "code",
   "execution_count": 27,
   "metadata": {},
   "outputs": [
    {
     "name": "stdout",
     "output_type": "stream",
     "text": [
      "6\n"
     ]
    }
   ],
   "source": [
    "\"\"\"\n",
    "基本思想：\n",
    "二叉搜索树的特点：它或者是一棵空树，或者是具有下列性质的二叉树：\n",
    "1.若它的左子树不空，则左子树上所有结点的值均小于它的根结点的值；\n",
    "2.若它的右子树不空，则右子树上所有结点的值均大于它的根结点的值；\n",
    "3.它的左、右子树也分别为二叉排序树。\n",
    "\n",
    "本题思想：\n",
    "二叉搜索树中序遍历顺序就是节点值从小到大的顺序\n",
    "\"\"\"\n",
    "class Solution:\n",
    "    # 返回对应节点TreeNode\n",
    "    def __init__(self):\n",
    "        self.index = 0    # 存储遍历到的节点索引\n",
    "        self.inorders = []    # 按中序遍历顺序存储节点列表\n",
    "    \n",
    "    def rec_inorder(self,pRoot):\n",
    "        \"\"\"递归中序遍历\"\"\"\n",
    "        if not pRoot:\n",
    "            return\n",
    "        self.inorder(pRoot.left)\n",
    "        self.inorders.append(pRoot)\n",
    "        self.index+=1\n",
    "        self.inorder(pRoot.right)\n",
    "    \n",
    "    def inorder(self, pRoot):\n",
    "        \"\"\"非递归的中序遍历，借助栈结构\"\"\"\n",
    "        if not pRoot:\n",
    "            return None\n",
    "        cur_node = pRoot\n",
    "        stack = []\n",
    "        while stack or cur_node:\n",
    "            while cur_node:\n",
    "                stack.append(cur_node)\n",
    "                cur_node = cur_node.left\n",
    "            cur_node = stack.pop()\n",
    "            self.inorders.append(cur_node)\n",
    "            self.index += 1\n",
    "            cur_node = cur_node.right\n",
    "            \n",
    "    def KthNode(self, pRoot, k):\n",
    "        # write code here\n",
    "        if k<=0:    # 出错：没考虑特殊情况k<=0\n",
    "            return None\n",
    "        self.inorder(pRoot)\n",
    "        if k>self.index:    # 出错：没考虑特殊情况,k>树的节点个数\n",
    "            return None\n",
    "        return self.inorders[k-1]\n",
    "if __name__ == \"__main__\":\n",
    "    root = DataStructure.TreeNode(8)\n",
    "    node_1 = DataStructure.TreeNode(6)\n",
    "    node_2 = DataStructure.TreeNode(10)\n",
    "    node_3 = DataStructure.TreeNode(5)\n",
    "    node_4 = DataStructure.TreeNode(7)\n",
    "    node_5 = DataStructure.TreeNode(9)\n",
    "    node_6 = DataStructure.TreeNode(11)\n",
    "    root.left = node_1\n",
    "    root.right = node_2\n",
    "    node_1.left = node_3\n",
    "    node_1.right = node_4\n",
    "    node_2.left = node_5\n",
    "    node_2.right = node_6\n",
    "\n",
    "    s = Solution()\n",
    "    \n",
    "    print(s.KthNode(root,2).val)"
   ]
  },
  {
   "cell_type": "markdown",
   "metadata": {},
   "source": [
    "## 63. 数据流中的中位数\n",
    "* 题目描述  \n",
    "如何得到一个数据流中的中位数？如果从数据流中读出奇数个数值，那么中位数就是所有数值排序之后位于中间的数值。如果从数据流中读出偶数个数值，那么中位数就是所有数值排序之后中间两个数的平均值。我们使用Insert()方法读取数据流，使用GetMedian()方法获取当前读取数据的中位数。"
   ]
  },
  {
   "cell_type": "code",
   "execution_count": 5,
   "metadata": {},
   "outputs": [
    {
     "name": "stdout",
     "output_type": "stream",
     "text": [
      "5\t3.5\t3\t3.5\t3\t3.5\t4\t3.5\t4\t"
     ]
    }
   ],
   "source": [
    "# -*- coding:utf-8 -*-\n",
    "class Solution:\n",
    "    def __init__(self):\n",
    "        self._max_heap = []\n",
    "        self._min_heap = []\n",
    "        self._max_heapCount = 0\n",
    "        self._min_heapCount = 0\n",
    "\n",
    "    def Insert(self, num):\n",
    "        # write code here\n",
    "        if len(self._max_heap) == 0:  # 默认先往大根堆插入元素\n",
    "            self._max_heap.append(num)\n",
    "            self._max_heapCount += 1    # 大根堆元素个数加1\n",
    "        elif self._max_heapCount > self._min_heapCount:  # 如果大根堆的元素比小根堆多1个，则往小根堆插入元素\n",
    "            if num < self._max_heap[0]:    # 如果要插入的元素num比大根堆的第一个元素小，则将大根堆的第一个元素插入到小根堆中\n",
    "                tmpNum = self._max_heap[0]\n",
    "                self.adjustMaxHeapify(num)\n",
    "                self.buildMinHeap([tmpNum])\n",
    "            else:    # 如果要插入的元素num比大根堆的第一个元素大，则将num插入到小根堆中\n",
    "                self.buildMinHeap([num])\n",
    "            self._min_heapCount += 1    # 小根堆元素个数加1\n",
    "\n",
    "        else:  # 如果大根堆的元素和小根堆相等，则往大根堆插入元素\n",
    "            if num > self._min_heap[0]:    # 如果num比小根堆中第一个元素大，则用num替换小根堆中第一个元素，并将原来的小根堆第一个元素插入到大根堆中\n",
    "                tmpNum = self._min_heap[0]\n",
    "                self.adjustMinHeapify(num)\n",
    "                self.buildMaxHeap([tmpNum])\n",
    "            else:    # 如果num比小根堆中第一个元素小，则将num插入到大根堆中\n",
    "                self.buildMaxHeap([num])\n",
    "            self._max_heapCount += 1    # 大根堆元素个数加1\n",
    "\n",
    "    def GetMedian(self, num=None):\n",
    "        # write code here\n",
    "        if self._min_heapCount < self._max_heapCount:    # 如果大根堆元素个数比小根堆元素个数大，则中位数就是大根堆首个元素\n",
    "            return self._max_heap[0]\n",
    "        else:    # 否则为两个堆首个元素的平均值\n",
    "            return float(self._max_heap[0] + self._min_heap[0]) / 2\n",
    "\n",
    "    def buildMaxHeap(self, numbers):\n",
    "        \"\"\"将numbers中的所有元素插入到大根堆中，并保持堆结构\"\"\"\n",
    "        if numbers == []:\n",
    "            return []\n",
    "        for num in numbers:\n",
    "            self._max_heap.append(num)\n",
    "            current_index = len(self._max_heap) - 1\n",
    "            while current_index != 0:\n",
    "                parent_index = (current_index - 1) // 2\n",
    "                if self._max_heap[parent_index] < self._max_heap[current_index]:\n",
    "                    self._max_heap[parent_index], self._max_heap[current_index] = self._max_heap[current_index],self._max_heap[parent_index]\n",
    "                    current_index = parent_index\n",
    "                else:\n",
    "                    break\n",
    "\n",
    "    def buildMinHeap(self, numbers):\n",
    "        \"\"\"将numbers中的所有元素插入到小根堆中，并保持堆结构\"\"\"\n",
    "        if numbers == []:\n",
    "            return []\n",
    "        for num in numbers:\n",
    "            self._min_heap.append(num)\n",
    "            current_index = len(self._min_heap) - 1\n",
    "            while current_index != 0:\n",
    "                parent_index = (current_index - 1) // 2\n",
    "                if self._min_heap[parent_index] > self._min_heap[current_index]:\n",
    "                    self._min_heap[parent_index], self._min_heap[current_index] = self._min_heap[current_index],self._min_heap[parent_index]\n",
    "                    current_index = parent_index\n",
    "                else:\n",
    "                    break\n",
    "\n",
    "    def adjustMaxHeapify(self, number):\n",
    "        \"\"\"用number替换大根堆首个元素，并保持大根堆结构\"\"\"\n",
    "        if number < self._max_heap[0]:\n",
    "            # self._max_heap.insert(0,number)\n",
    "            self._max_heap[0] = number\n",
    "            index = 0\n",
    "            max_heap_length = len(self._max_heap)\n",
    "            while index < max_heap_length:\n",
    "                left_index = index * 2 + 1\n",
    "                right_index = index * 2 + 2\n",
    "                if right_index < max_heap_length:\n",
    "                    if self._max_heap[left_index] < self._max_heap[right_index]:\n",
    "                        lager_index = right_index\n",
    "                    else:\n",
    "                        lager_index = left_index\n",
    "\n",
    "                elif left_index < max_heap_length:\n",
    "                    lager_index = left_index\n",
    "                else:\n",
    "                    break\n",
    "                if self._max_heap[index] < self._max_heap[lager_index]:\n",
    "                    self._max_heap[index], self._max_heap[lager_index] = self._max_heap[lager_index], self._max_heap[index]\n",
    "                    index = lager_index\n",
    "                else:\n",
    "                    break\n",
    "\n",
    "    def adjustMinHeapify(self, number):\n",
    "        \"\"\"用number替换小根堆首个元素，并保持小根堆结构\"\"\"\n",
    "        if self._min_heap[0] < number:\n",
    "            # self._max_heap.insert(0,number)\n",
    "            self._min_heap[0] = number\n",
    "            index = 0\n",
    "            min_heap_length = len(self._min_heap)\n",
    "            while index < min_heap_length:\n",
    "                left_index = index * 2 + 1\n",
    "                right_index = index * 2 + 2\n",
    "                if right_index < min_heap_length:\n",
    "                    if self._min_heap[left_index] < self._min_heap[right_index]:\n",
    "                        lager_index = right_index\n",
    "                    else:\n",
    "                        lager_index = left_index\n",
    "\n",
    "                elif left_index < min_heap_length:\n",
    "                    lager_index = left_index\n",
    "                else:\n",
    "                    break\n",
    "                if self._min_heap[index] < self._min_heap[lager_index]:\n",
    "                    self._min_heap[index], self._min_heap[lager_index] = self._min_heap[lager_index], self._min_heap[index]\n",
    "                    index = lager_index\n",
    "                else:\n",
    "                    break\n",
    "    \n",
    "if __name__==\"__main__\":\n",
    "    s = Solution()\n",
    "    A = [5,2,3,4,1,6,7,0,8]\n",
    "    for i in A:\n",
    "        s.Insert(i)\n",
    "        print(s.GetMedian(), end=\"\\t\")"
   ]
  },
  {
   "cell_type": "markdown",
   "metadata": {},
   "source": [
    "## 64. 滑动窗口的最大值\n",
    "* 题目描述  \n",
    "给定一个数组和滑动窗口的大小，找出所有滑动窗口里数值的最大值。例如，如果输入数组{2,3,4,2,6,2,5,1}及滑动窗口的大小3，那么一共存在6个滑动窗口，他们的最大值分别为{4,4,6,6,6,5}； 针对数组{2,3,4,2,6,2,5,1}的滑动窗口有以下6个： {[2,3,4],2,6,2,5,1}， {2,[3,4,2],6,2,5,1}， {2,3,[4,2,6],2,5,1}， {2,3,4,[2,6,2],5,1}， {2,3,4,2,[6,2,5],1}， {2,3,4,2,6,[2,5,1]}。"
   ]
  },
  {
   "cell_type": "code",
   "execution_count": 15,
   "metadata": {},
   "outputs": [
    {
     "name": "stdout",
     "output_type": "stream",
     "text": [
      "[4, 4, 6, 6, 6, 5]\n"
     ]
    }
   ],
   "source": [
    "\"\"\"\n",
    "基本思想：\n",
    "维护一个大小为size的小根堆来求最大值\n",
    "\n",
    "其他思路：维护一个大根堆，维护一个队列等等\n",
    "\"\"\"\n",
    "# -*- coding:utf-8 -*-\n",
    "class Solution:\n",
    "    def __init__(self):\n",
    "        self._min_heap = []    # 存储小根堆的元素\n",
    "        self.maxValueInWindow = []    # 存储窗口的最大值数组\n",
    "        \n",
    "    def maxInWindows(self, nums, size):\n",
    "        # write code here\n",
    "        if size<=0 or nums==[]:\n",
    "            return []\n",
    "        for i,item in enumerate(nums):\n",
    "            if i<size-1:    # 小根堆元素个数少于size-1，添加元素\n",
    "                self.buildMinHeap(item)\n",
    "            elif i==size-1:    # 小根堆元素个数等于size，添加元素，并选择小根堆中的最大值\n",
    "                self.buildMinHeap(item)\n",
    "                self.maxValueInWindow.append(max(self._min_heap))\n",
    "            else:    # 小根堆元素个数等于size，判断最大值的位置与size的关系\n",
    "                max_value = max(self._min_heap)\n",
    "                max_index = nums.index(max_value)\n",
    "                if size<=abs(i-max_index):    # 如果小根堆的最大值在窗口外，删除最大值，并添加新元素，从新计算最大值\n",
    "                    self._min_heap.remove(max_value)\n",
    "                    self.buildMinHeap(item)\n",
    "                    max_value_2 = max(self._min_heap)\n",
    "                    self.maxValueInWindow.append(max_value_2)\n",
    "                else:    # 如果小根堆的最大值在窗口内max_value\n",
    "                    if item>self._min_heap[0]:    # 要添加的元素item大于小根堆的根，则将item添加到小根堆的根中\n",
    "                        self.adjustMinHeap(item)\n",
    "                        max_value_2 = max(self._min_heap)\n",
    "                        self.maxValueInWindow.append(max_value_2)\n",
    "                    else:    # 要添加的元素item不大于小根堆的根，则最大值不变\n",
    "                        self.maxValueInWindow.append(max_value)\n",
    "        return self.maxValueInWindow\n",
    "    \n",
    "    def buildMinHeap(self, num):\n",
    "        \"\"\"构建最小堆\"\"\"\n",
    "        self._min_heap.append(num)\n",
    "        current_index = len(self._min_heap)-1\n",
    "        while current_index!=0:\n",
    "            parent_index = (current_index-1)//2\n",
    "            if self._min_heap[current_index]<self._min_heap[parent_index]:\n",
    "                self._min_heap[current_index],self._min_heap[parent_index]= self._min_heap[parent_index],self._min_heap[current_index]\n",
    "            else:\n",
    "                break\n",
    "    \n",
    "    def adjustMinHeap(self, num):\n",
    "        \"\"\"调整最小堆，维持最小堆的结构\"\"\"\n",
    "        self._min_heap[0] = num\n",
    "        n = len(self._min_heap)\n",
    "        current_index = 0\n",
    "        while current_index<n:\n",
    "            left_index = current_index*2+1\n",
    "            right_index = current_index*2+2\n",
    "            if right_index<n:\n",
    "                if self._min_heap[left_index]<self._min_heap[right_index]:\n",
    "                    smaller_index = left_index\n",
    "                else:\n",
    "                    smaller_index = right_index\n",
    "            elif left_index<n:\n",
    "                smaller_index = left_index\n",
    "            else:\n",
    "                break\n",
    "            if self._min_heap[smaller_index]<self._min_heap[current_index]:\n",
    "                self._min_heap[smaller_index],self._min_heap[current_index] = self._min_heap[current_index],self._min_heap[smaller_index]\n",
    "            else:\n",
    "                break\n",
    "if __name__==\"__main__\":\n",
    "    s = Solution()\n",
    "    numss = [2,3,4,2,6,2,5,1]\n",
    "    size = 3\n",
    "    print(s.maxInWindows(numss,size))"
   ]
  },
  {
   "cell_type": "markdown",
   "metadata": {},
   "source": [
    "## 65. 矩阵中的路径\n",
    "* 题目描述  \n",
    "请设计一个函数，用来判断在一个矩阵中是否存在一条包含某字符串所有字符的路径。路径可以从矩阵中的任意一个格子开始，每一步可以在矩阵中向左，向右，向上，向下移动一个格子。如果一条路径经过了矩阵中的某一个格子，则该路径不能再进入该格子。 例如 a b c e s f c s a d e e 矩阵中包含一条字符串\"bcced\"的路径，但是矩阵中不包含\"abcb\"路径，因为字符串的第一个字符b占据了矩阵中的第一行第二个格子之后，路径不能再次进入该格子。"
   ]
  },
  {
   "cell_type": "code",
   "execution_count": 28,
   "metadata": {},
   "outputs": [],
   "source": [
    "from pysnooper import snoop"
   ]
  },
  {
   "cell_type": "code",
   "execution_count": 36,
   "metadata": {},
   "outputs": [
    {
     "name": "stdout",
     "output_type": "stream",
     "text": [
      "\n",
      "True\n"
     ]
    }
   ],
   "source": [
    "\"\"\"\n",
    "基本思想：\n",
    "回朔法求解（深度优先搜索）；\n",
    "回朔法的基本流程：\n",
    "1. 做选择：\n",
    "    1.1 路径添加\n",
    "    1.2 将添加进路径的选择从选择列表中移除 : visited[index]=True\n",
    "2. 回溯递归\n",
    "3. 撤销选择：\n",
    "    3.1 路径移除\n",
    "    3.2 将选择加入可选择列表 : visited[index]=False\n",
    "\"\"\"\n",
    "# -*- coding:utf-8 -*-\n",
    "class Solution:\n",
    "    def hasPath(self, matrix, rows, cols, path):\n",
    "        # write code here\n",
    "        if not matrix or rows < 1 or cols < 1 or not path:\n",
    "            return None\n",
    "        pathLength = 0\n",
    "        visited = [0] * (rows * cols)\n",
    "        for row in range(rows):  # 暴力遍历\n",
    "            for col in range(cols):\n",
    "                if self.hasPathCore(matrix, row, col, rows, cols, path, pathLength, visited):\n",
    "                    return True\n",
    "        return False\n",
    "#     @snoop()\n",
    "    def hasPathCore(self, matrix, row, col, rows, cols, path, pathLength, visited):\n",
    "        if len(path) == pathLength:\n",
    "            return True\n",
    "        hasPath = False\n",
    "#         print(row, col)\n",
    "        if row >= 0 and row < rows and col >= 0 and col < cols and matrix[row*cols + col] == path[pathLength] and not visited[row*cols + col]:\\\n",
    "#         if row >= 0 and row < rows and col >= 0 and col < cols and matrix[row*cols + col] == path[pathLength] and not visited[row*cols + col]:\n",
    "        # ！！！出错：上一行if条件的顺序需要注意，先把row和col的约束放在前面，再把matrix的约束放在后面，否则会因为matrix[row*cols + col]的索引超出了边界而报错\n",
    "            pathLength += 1    # 1.1 路径添加\n",
    "            visited[row * cols + col] = 1    # 1.2 将添加进路径的选择从选择列表中移除\n",
    "            hasPath = self.hasPathCore(matrix, row + 1, col, rows, cols, path, pathLength, visited) \\\n",
    "                      or self.hasPathCore(matrix, row - 1, col, rows, cols, path, pathLength, visited) \\\n",
    "                      or self.hasPathCore(matrix, row, col - 1, rows, cols, path, pathLength, visited) \\\n",
    "                      or self.hasPathCore(matrix, row, col + 1, rows, cols, path, pathLength, visited)    # 2. 回溯递归\n",
    "            if not hasPath:\n",
    "                pathLength -= 1    # 3.1 路径移除\n",
    "                visited[row * cols + col] = 0    # 3.2 将选择加入可选择列表\n",
    "        return hasPath\n",
    "\n",
    "\n",
    "if __name__ == \"__main__\":\n",
    "    matrix = \"abcesfcsadee\"\n",
    "    rows = 3\n",
    "    cols = 4\n",
    "    path = \"bcced\"\n",
    "    s = Solution()\n",
    "    print()\n",
    "    print(s.hasPath(matrix, rows, cols, path))"
   ]
  },
  {
   "cell_type": "markdown",
   "metadata": {},
   "source": [
    "## 66. 机器人的运动范围\n",
    "* 题目描述  \n",
    "地上有一个m行和n列的方格。一个机器人从坐标0,0的格子开始移动，每一次只能向左，右，上，下四个方向移动一格，但是不能进入行坐标和列坐标的数位之和大于k的格子。 例如，当k为18时，机器人能够进入方格（35,37），因为3+5+3+7 = 18。但是，它不能进入方格（35,38），因为3+5+3+8 = 19。请问该机器人能够达到多少个格子？"
   ]
  },
  {
   "cell_type": "code",
   "execution_count": 40,
   "metadata": {},
   "outputs": [
    {
     "name": "stdout",
     "output_type": "stream",
     "text": [
      "\n",
      "6\n"
     ]
    }
   ],
   "source": [
    "\"\"\"\n",
    "基本思想：\n",
    "回朔法求解（深度优先搜索）；\n",
    "回朔法的基本流程：\n",
    "1. 做选择：\n",
    "    1.1 路径添加\n",
    "    1.2 将添加进路径的选择从选择列表中移除 : visited[index]=True\n",
    "2. 回溯递归\n",
    "3. 撤销选择：\n",
    "    3.1 路径移除\n",
    "    3.2 将选择加入可选择列表 : visited[index]=False\n",
    "\"\"\"\n",
    "# -*- coding:utf-8 -*-\n",
    "class Solution:\n",
    "    def movingCount(self, threshold, rows, cols):\n",
    "        # write code here\n",
    "        if rows<1 or cols<1 or threshold<0:    # 判断特殊情况\n",
    "            return 0\n",
    "        visited = [False]*(rows*cols)\n",
    "        # ！注意：和上一题居正中的路径相比，之所以不加两层for循环，是因为题里要求是以(0,0)为七十点开始移动，\n",
    "        # 而上一题则是可以以任意位置为起始点开始移动\n",
    "        count = self.movingCountCore(threshold, 0, 0, rows, cols, visited)    # 从0，0开始移动\n",
    "        return count\n",
    "    \n",
    "    def movingCountCore(self, threshold, row, col, rows, cols, visited):\n",
    "        count = 0\n",
    "        if self.check(threshold, row, col, rows, cols, visited):\n",
    "            visited[row*cols+col] = True    # 1.2 将添加进路径的选择从选择列表中移除\n",
    "            count = 1 + self.movingCountCore(threshold, row+1, col, rows, cols, visited)\\\n",
    "                    + self.movingCountCore(threshold, row-1, col, rows, cols, visited)\\\n",
    "                    + self.movingCountCore(threshold, row, col+1, rows, cols, visited)\\\n",
    "                    + self.movingCountCore(threshold, row, col-1, rows, cols, visited)    # 1.1 路径添加：最前面的\"1+\"就表示路径添加过程\n",
    "                                                                                            # 2. 回溯递归: \"1+\"后面的部分则是回溯递归过程\n",
    "            # ！注意：这道题使用回朔法没有“撤销选择”的过程,因为每个方格只需访问一次就可以，不需要再次访问；且起始点只为(0,0),不可以是其他位置\n",
    "            \n",
    "        else:    # 递归停止条件\n",
    "            return 0\n",
    "        return count\n",
    "    \n",
    "    def check(self, threshold, row, col, rows, cols, visited):\n",
    "        if row>=0 and row<rows and col>=0 and col<cols and not visited[row*cols+col] and self.scanDigit(row)+self.scanDigit(col)<=threshold:\n",
    "        # 出错：上一行if条件出错了，记得要判断row是否大于等于0\n",
    "            return True\n",
    "        else:\n",
    "            return False\n",
    "    \n",
    "    def scanDigit(self, x):\n",
    "        numSum = 0\n",
    "        while x!=0:\n",
    "            numSum += x%10\n",
    "            x = x//10\n",
    "        return numSum\n",
    "if __name__ == \"__main__\":\n",
    "    threshold = 2\n",
    "    rows = 3\n",
    "    cols = 3\n",
    "    s = Solution()\n",
    "    print()\n",
    "    print(s.movingCount(threshold, rows, cols))"
   ]
  },
  {
   "cell_type": "markdown",
   "metadata": {},
   "source": [
    "## 67. 剪绳子\n",
    "* 题目描述  \n",
    "给你一根长度为n的绳子，请把绳子剪成m段（m、n都是整数，n>1并且m>1），每段绳子的长度记为k[0],k[1],...,k[m]。请问k[0]xk[1]x...xk[m]可能的最大乘积是多少？例如，当绳子的长度是8时，我们把它剪成长度分别为2、3、3的三段，此时得到的最大乘积是18。  \n",
    "输入描述:  \n",
    "输入一个数n，意义见题面。（2 <= n <= 60）\n",
    "输出描述:  \n",
    "输出答案。  \n",
    "示例1  \n",
    "输入：\n",
    "8  \n",
    "输出：\n",
    "18"
   ]
  },
  {
   "cell_type": "code",
   "execution_count": 53,
   "metadata": {},
   "outputs": [
    {
     "name": "stdout",
     "output_type": "stream",
     "text": [
      "\n",
      "18\n"
     ]
    }
   ],
   "source": [
    "\"\"\"\n",
    "基本思想：\n",
    "动态规划，从前往后推:\n",
    "1. 问题拆解，子问题之间的联系：\n",
    "    f(4)=max{f(3)*f(1), f(2)*f(2)}; \n",
    "    f(5)=max{f(4)*f(1), f(3)*f(2), f(2)*f(3), f(1)*f(4)};\n",
    "    ...\n",
    "    f(n) = max{f(n-1)*f(1), f(n-2)*f(2), f(n-3)*f(3) ... f(1)*f(n-1)}\n",
    "2. 状态定义即状态初始化：\n",
    "    初始情况：\n",
    "        f(2) = 1;\n",
    "        f(3) = 2;\n",
    "    dp数组初始化：\n",
    "        dp[0] = 0    # 用来占位\n",
    "        dp[1] = 1    \n",
    "        dp[2] = 2  \n",
    "        dp[3] = 3  \n",
    "        ...\n",
    "        dp = [0,1,2,3]\n",
    "    \n",
    "3. 状态转移方程推导：\n",
    "    f(n) = max{f(n-1)*f(1), f(n-2)*f(2), f(n-3)*f(3) ... f(1)*f(n-1)}\n",
    "4. 实现\n",
    "\"\"\"\n",
    "# -*- coding:utf-8 -*-\n",
    "class Solution:\n",
    "    def cutRope(self, number):\n",
    "        # write code here\n",
    "        if number<=1:\n",
    "            return None\n",
    "        if number==2:    # 初始情况：整个绳子的长度为2，此时返回1，因为m>1\n",
    "            return 1\n",
    "        elif number==3:    # 初始情况：整个绳子的长度为3,此时返回2，因为m>1\n",
    "            return 2\n",
    "        else:\n",
    "            dp = [0,1,2,3]    # 出错：初始情况与dp数组中的初始状态不一样，dp数组中的dp[2]=2是指剪的一段绳子的长度为2，而不是整个绳子的长度为2\n",
    "            for num in range(4,number+1):\n",
    "                dp.append(max(dp[i]*dp[num-i] for i in range(1,num)))\n",
    "        return dp[number]\n",
    "if __name__ == \"__main__\":\n",
    "    number = 8\n",
    "    s = Solution()\n",
    "    print()\n",
    "    print(s.cutRope(number))"
   ]
  },
  {
   "cell_type": "code",
   "execution_count": null,
   "metadata": {},
   "outputs": [],
   "source": []
  }
 ],
 "metadata": {
  "kernelspec": {
   "display_name": "Python 3",
   "language": "python",
   "name": "python3"
  },
  "language_info": {
   "codemirror_mode": {
    "name": "ipython",
    "version": 3
   },
   "file_extension": ".py",
   "mimetype": "text/x-python",
   "name": "python",
   "nbconvert_exporter": "python",
   "pygments_lexer": "ipython3",
   "version": "3.6.5"
  }
 },
 "nbformat": 4,
 "nbformat_minor": 2
}
